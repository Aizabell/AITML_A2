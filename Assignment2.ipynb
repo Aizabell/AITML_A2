{
 "cells": [
  {
   "cell_type": "markdown",
   "metadata": {},
   "source": [
    "# Assignment 2\n",
    "\n",
    "**Student Name**: Oak Soe Kyaw\n",
    "\n",
    "**Student ID**: ST125064\n"
   ]
  },
  {
   "cell_type": "markdown",
   "metadata": {},
   "source": [
    "# Importing Libraries\n"
   ]
  },
  {
   "cell_type": "code",
   "execution_count": 45,
   "metadata": {},
   "outputs": [],
   "source": [
    "import numpy as np\n",
    "import pandas as pd\n",
    "import seaborn as sns\n",
    "import matplotlib.pyplot as plt \n",
    "import warnings\n",
    "\n",
    "\n",
    "warnings.filterwarnings('ignore')"
   ]
  },
  {
   "cell_type": "markdown",
   "metadata": {},
   "source": [
    "# Loading Dataset\n"
   ]
  },
  {
   "cell_type": "code",
   "execution_count": 46,
   "metadata": {},
   "outputs": [],
   "source": [
    "df = pd.read_csv('./data/Predicting Car Prices.csv')"
   ]
  },
  {
   "cell_type": "code",
   "execution_count": 47,
   "metadata": {},
   "outputs": [
    {
     "data": {
      "application/vnd.microsoft.datawrangler.viewer.v0+json": {
       "columns": [
        {
         "name": "index",
         "rawType": "int64",
         "type": "integer"
        },
        {
         "name": "name",
         "rawType": "object",
         "type": "string"
        },
        {
         "name": "year",
         "rawType": "int64",
         "type": "integer"
        },
        {
         "name": "selling_price",
         "rawType": "int64",
         "type": "integer"
        },
        {
         "name": "km_driven",
         "rawType": "int64",
         "type": "integer"
        },
        {
         "name": "fuel",
         "rawType": "object",
         "type": "string"
        },
        {
         "name": "seller_type",
         "rawType": "object",
         "type": "string"
        },
        {
         "name": "transmission",
         "rawType": "object",
         "type": "string"
        },
        {
         "name": "owner",
         "rawType": "object",
         "type": "string"
        },
        {
         "name": "mileage",
         "rawType": "object",
         "type": "string"
        },
        {
         "name": "engine",
         "rawType": "object",
         "type": "string"
        },
        {
         "name": "max_power",
         "rawType": "object",
         "type": "string"
        },
        {
         "name": "torque",
         "rawType": "object",
         "type": "string"
        },
        {
         "name": "seats",
         "rawType": "float64",
         "type": "float"
        }
       ],
       "conversionMethod": "pd.DataFrame",
       "ref": "f632c699-1585-4d79-8faa-b41088ab89d5",
       "rows": [
        [
         "0",
         "Maruti Swift Dzire VDI",
         "2014",
         "450000",
         "145500",
         "Diesel",
         "Individual",
         "Manual",
         "First Owner",
         "23.4 kmpl",
         "1248 CC",
         "74 bhp",
         "190Nm@ 2000rpm",
         "5.0"
        ],
        [
         "1",
         "Skoda Rapid 1.5 TDI Ambition",
         "2014",
         "370000",
         "120000",
         "Diesel",
         "Individual",
         "Manual",
         "Second Owner",
         "21.14 kmpl",
         "1498 CC",
         "103.52 bhp",
         "250Nm@ 1500-2500rpm",
         "5.0"
        ],
        [
         "2",
         "Honda City 2017-2020 EXi",
         "2006",
         "158000",
         "140000",
         "Petrol",
         "Individual",
         "Manual",
         "Third Owner",
         "17.7 kmpl",
         "1497 CC",
         "78 bhp",
         "12.7@ 2,700(kgm@ rpm)",
         "5.0"
        ],
        [
         "3",
         "Hyundai i20 Sportz Diesel",
         "2010",
         "225000",
         "127000",
         "Diesel",
         "Individual",
         "Manual",
         "First Owner",
         "23.0 kmpl",
         "1396 CC",
         "90 bhp",
         "22.4 kgm at 1750-2750rpm",
         "5.0"
        ],
        [
         "4",
         "Maruti Swift VXI BSIII",
         "2007",
         "130000",
         "120000",
         "Petrol",
         "Individual",
         "Manual",
         "First Owner",
         "16.1 kmpl",
         "1298 CC",
         "88.2 bhp",
         "11.5@ 4,500(kgm@ rpm)",
         "5.0"
        ]
       ],
       "shape": {
        "columns": 13,
        "rows": 5
       }
      },
      "text/html": [
       "<div>\n",
       "<style scoped>\n",
       "    .dataframe tbody tr th:only-of-type {\n",
       "        vertical-align: middle;\n",
       "    }\n",
       "\n",
       "    .dataframe tbody tr th {\n",
       "        vertical-align: top;\n",
       "    }\n",
       "\n",
       "    .dataframe thead th {\n",
       "        text-align: right;\n",
       "    }\n",
       "</style>\n",
       "<table border=\"1\" class=\"dataframe\">\n",
       "  <thead>\n",
       "    <tr style=\"text-align: right;\">\n",
       "      <th></th>\n",
       "      <th>name</th>\n",
       "      <th>year</th>\n",
       "      <th>selling_price</th>\n",
       "      <th>km_driven</th>\n",
       "      <th>fuel</th>\n",
       "      <th>seller_type</th>\n",
       "      <th>transmission</th>\n",
       "      <th>owner</th>\n",
       "      <th>mileage</th>\n",
       "      <th>engine</th>\n",
       "      <th>max_power</th>\n",
       "      <th>torque</th>\n",
       "      <th>seats</th>\n",
       "    </tr>\n",
       "  </thead>\n",
       "  <tbody>\n",
       "    <tr>\n",
       "      <th>0</th>\n",
       "      <td>Maruti Swift Dzire VDI</td>\n",
       "      <td>2014</td>\n",
       "      <td>450000</td>\n",
       "      <td>145500</td>\n",
       "      <td>Diesel</td>\n",
       "      <td>Individual</td>\n",
       "      <td>Manual</td>\n",
       "      <td>First Owner</td>\n",
       "      <td>23.4 kmpl</td>\n",
       "      <td>1248 CC</td>\n",
       "      <td>74 bhp</td>\n",
       "      <td>190Nm@ 2000rpm</td>\n",
       "      <td>5.0</td>\n",
       "    </tr>\n",
       "    <tr>\n",
       "      <th>1</th>\n",
       "      <td>Skoda Rapid 1.5 TDI Ambition</td>\n",
       "      <td>2014</td>\n",
       "      <td>370000</td>\n",
       "      <td>120000</td>\n",
       "      <td>Diesel</td>\n",
       "      <td>Individual</td>\n",
       "      <td>Manual</td>\n",
       "      <td>Second Owner</td>\n",
       "      <td>21.14 kmpl</td>\n",
       "      <td>1498 CC</td>\n",
       "      <td>103.52 bhp</td>\n",
       "      <td>250Nm@ 1500-2500rpm</td>\n",
       "      <td>5.0</td>\n",
       "    </tr>\n",
       "    <tr>\n",
       "      <th>2</th>\n",
       "      <td>Honda City 2017-2020 EXi</td>\n",
       "      <td>2006</td>\n",
       "      <td>158000</td>\n",
       "      <td>140000</td>\n",
       "      <td>Petrol</td>\n",
       "      <td>Individual</td>\n",
       "      <td>Manual</td>\n",
       "      <td>Third Owner</td>\n",
       "      <td>17.7 kmpl</td>\n",
       "      <td>1497 CC</td>\n",
       "      <td>78 bhp</td>\n",
       "      <td>12.7@ 2,700(kgm@ rpm)</td>\n",
       "      <td>5.0</td>\n",
       "    </tr>\n",
       "    <tr>\n",
       "      <th>3</th>\n",
       "      <td>Hyundai i20 Sportz Diesel</td>\n",
       "      <td>2010</td>\n",
       "      <td>225000</td>\n",
       "      <td>127000</td>\n",
       "      <td>Diesel</td>\n",
       "      <td>Individual</td>\n",
       "      <td>Manual</td>\n",
       "      <td>First Owner</td>\n",
       "      <td>23.0 kmpl</td>\n",
       "      <td>1396 CC</td>\n",
       "      <td>90 bhp</td>\n",
       "      <td>22.4 kgm at 1750-2750rpm</td>\n",
       "      <td>5.0</td>\n",
       "    </tr>\n",
       "    <tr>\n",
       "      <th>4</th>\n",
       "      <td>Maruti Swift VXI BSIII</td>\n",
       "      <td>2007</td>\n",
       "      <td>130000</td>\n",
       "      <td>120000</td>\n",
       "      <td>Petrol</td>\n",
       "      <td>Individual</td>\n",
       "      <td>Manual</td>\n",
       "      <td>First Owner</td>\n",
       "      <td>16.1 kmpl</td>\n",
       "      <td>1298 CC</td>\n",
       "      <td>88.2 bhp</td>\n",
       "      <td>11.5@ 4,500(kgm@ rpm)</td>\n",
       "      <td>5.0</td>\n",
       "    </tr>\n",
       "  </tbody>\n",
       "</table>\n",
       "</div>"
      ],
      "text/plain": [
       "                           name  year  selling_price  km_driven    fuel  \\\n",
       "0        Maruti Swift Dzire VDI  2014         450000     145500  Diesel   \n",
       "1  Skoda Rapid 1.5 TDI Ambition  2014         370000     120000  Diesel   \n",
       "2      Honda City 2017-2020 EXi  2006         158000     140000  Petrol   \n",
       "3     Hyundai i20 Sportz Diesel  2010         225000     127000  Diesel   \n",
       "4        Maruti Swift VXI BSIII  2007         130000     120000  Petrol   \n",
       "\n",
       "  seller_type transmission         owner     mileage   engine   max_power  \\\n",
       "0  Individual       Manual   First Owner   23.4 kmpl  1248 CC      74 bhp   \n",
       "1  Individual       Manual  Second Owner  21.14 kmpl  1498 CC  103.52 bhp   \n",
       "2  Individual       Manual   Third Owner   17.7 kmpl  1497 CC      78 bhp   \n",
       "3  Individual       Manual   First Owner   23.0 kmpl  1396 CC      90 bhp   \n",
       "4  Individual       Manual   First Owner   16.1 kmpl  1298 CC    88.2 bhp   \n",
       "\n",
       "                     torque  seats  \n",
       "0            190Nm@ 2000rpm    5.0  \n",
       "1       250Nm@ 1500-2500rpm    5.0  \n",
       "2     12.7@ 2,700(kgm@ rpm)    5.0  \n",
       "3  22.4 kgm at 1750-2750rpm    5.0  \n",
       "4     11.5@ 4,500(kgm@ rpm)    5.0  "
      ]
     },
     "execution_count": 47,
     "metadata": {},
     "output_type": "execute_result"
    }
   ],
   "source": [
    "df.head()"
   ]
  },
  {
   "cell_type": "code",
   "execution_count": 48,
   "metadata": {},
   "outputs": [
    {
     "data": {
      "text/plain": [
       "(8128, 13)"
      ]
     },
     "execution_count": 48,
     "metadata": {},
     "output_type": "execute_result"
    }
   ],
   "source": [
    "df.shape"
   ]
  },
  {
   "cell_type": "code",
   "execution_count": 49,
   "metadata": {},
   "outputs": [
    {
     "data": {
      "application/vnd.microsoft.datawrangler.viewer.v0+json": {
       "columns": [
        {
         "name": "index",
         "rawType": "object",
         "type": "string"
        },
        {
         "name": "year",
         "rawType": "float64",
         "type": "float"
        },
        {
         "name": "selling_price",
         "rawType": "float64",
         "type": "float"
        },
        {
         "name": "km_driven",
         "rawType": "float64",
         "type": "float"
        },
        {
         "name": "seats",
         "rawType": "float64",
         "type": "float"
        }
       ],
       "conversionMethod": "pd.DataFrame",
       "ref": "1a9498d6-430d-4257-9f26-ee31b013715b",
       "rows": [
        [
         "count",
         "8128.0",
         "8128.0",
         "8128.0",
         "7907.0"
        ],
        [
         "mean",
         "2013.8040108267717",
         "638271.8077017716",
         "69819.51082677166",
         "5.41671936259011"
        ],
        [
         "std",
         "4.044248753683614",
         "806253.4035082327",
         "56550.554958218585",
         "0.95958752023394"
        ],
        [
         "min",
         "1983.0",
         "29999.0",
         "1.0",
         "2.0"
        ],
        [
         "25%",
         "2011.0",
         "254999.0",
         "35000.0",
         "5.0"
        ],
        [
         "50%",
         "2015.0",
         "450000.0",
         "60000.0",
         "5.0"
        ],
        [
         "75%",
         "2017.0",
         "675000.0",
         "98000.0",
         "5.0"
        ],
        [
         "max",
         "2020.0",
         "10000000.0",
         "2360457.0",
         "14.0"
        ]
       ],
       "shape": {
        "columns": 4,
        "rows": 8
       }
      },
      "text/html": [
       "<div>\n",
       "<style scoped>\n",
       "    .dataframe tbody tr th:only-of-type {\n",
       "        vertical-align: middle;\n",
       "    }\n",
       "\n",
       "    .dataframe tbody tr th {\n",
       "        vertical-align: top;\n",
       "    }\n",
       "\n",
       "    .dataframe thead th {\n",
       "        text-align: right;\n",
       "    }\n",
       "</style>\n",
       "<table border=\"1\" class=\"dataframe\">\n",
       "  <thead>\n",
       "    <tr style=\"text-align: right;\">\n",
       "      <th></th>\n",
       "      <th>year</th>\n",
       "      <th>selling_price</th>\n",
       "      <th>km_driven</th>\n",
       "      <th>seats</th>\n",
       "    </tr>\n",
       "  </thead>\n",
       "  <tbody>\n",
       "    <tr>\n",
       "      <th>count</th>\n",
       "      <td>8128.000000</td>\n",
       "      <td>8.128000e+03</td>\n",
       "      <td>8.128000e+03</td>\n",
       "      <td>7907.000000</td>\n",
       "    </tr>\n",
       "    <tr>\n",
       "      <th>mean</th>\n",
       "      <td>2013.804011</td>\n",
       "      <td>6.382718e+05</td>\n",
       "      <td>6.981951e+04</td>\n",
       "      <td>5.416719</td>\n",
       "    </tr>\n",
       "    <tr>\n",
       "      <th>std</th>\n",
       "      <td>4.044249</td>\n",
       "      <td>8.062534e+05</td>\n",
       "      <td>5.655055e+04</td>\n",
       "      <td>0.959588</td>\n",
       "    </tr>\n",
       "    <tr>\n",
       "      <th>min</th>\n",
       "      <td>1983.000000</td>\n",
       "      <td>2.999900e+04</td>\n",
       "      <td>1.000000e+00</td>\n",
       "      <td>2.000000</td>\n",
       "    </tr>\n",
       "    <tr>\n",
       "      <th>25%</th>\n",
       "      <td>2011.000000</td>\n",
       "      <td>2.549990e+05</td>\n",
       "      <td>3.500000e+04</td>\n",
       "      <td>5.000000</td>\n",
       "    </tr>\n",
       "    <tr>\n",
       "      <th>50%</th>\n",
       "      <td>2015.000000</td>\n",
       "      <td>4.500000e+05</td>\n",
       "      <td>6.000000e+04</td>\n",
       "      <td>5.000000</td>\n",
       "    </tr>\n",
       "    <tr>\n",
       "      <th>75%</th>\n",
       "      <td>2017.000000</td>\n",
       "      <td>6.750000e+05</td>\n",
       "      <td>9.800000e+04</td>\n",
       "      <td>5.000000</td>\n",
       "    </tr>\n",
       "    <tr>\n",
       "      <th>max</th>\n",
       "      <td>2020.000000</td>\n",
       "      <td>1.000000e+07</td>\n",
       "      <td>2.360457e+06</td>\n",
       "      <td>14.000000</td>\n",
       "    </tr>\n",
       "  </tbody>\n",
       "</table>\n",
       "</div>"
      ],
      "text/plain": [
       "              year  selling_price     km_driven        seats\n",
       "count  8128.000000   8.128000e+03  8.128000e+03  7907.000000\n",
       "mean   2013.804011   6.382718e+05  6.981951e+04     5.416719\n",
       "std       4.044249   8.062534e+05  5.655055e+04     0.959588\n",
       "min    1983.000000   2.999900e+04  1.000000e+00     2.000000\n",
       "25%    2011.000000   2.549990e+05  3.500000e+04     5.000000\n",
       "50%    2015.000000   4.500000e+05  6.000000e+04     5.000000\n",
       "75%    2017.000000   6.750000e+05  9.800000e+04     5.000000\n",
       "max    2020.000000   1.000000e+07  2.360457e+06    14.000000"
      ]
     },
     "execution_count": 49,
     "metadata": {},
     "output_type": "execute_result"
    }
   ],
   "source": [
    "df.describe()"
   ]
  },
  {
   "cell_type": "code",
   "execution_count": 50,
   "metadata": {},
   "outputs": [
    {
     "name": "stdout",
     "output_type": "stream",
     "text": [
      "<class 'pandas.core.frame.DataFrame'>\n",
      "RangeIndex: 8128 entries, 0 to 8127\n",
      "Data columns (total 13 columns):\n",
      " #   Column         Non-Null Count  Dtype  \n",
      "---  ------         --------------  -----  \n",
      " 0   name           8128 non-null   object \n",
      " 1   year           8128 non-null   int64  \n",
      " 2   selling_price  8128 non-null   int64  \n",
      " 3   km_driven      8128 non-null   int64  \n",
      " 4   fuel           8128 non-null   object \n",
      " 5   seller_type    8128 non-null   object \n",
      " 6   transmission   8128 non-null   object \n",
      " 7   owner          8128 non-null   object \n",
      " 8   mileage        7907 non-null   object \n",
      " 9   engine         7907 non-null   object \n",
      " 10  max_power      7913 non-null   object \n",
      " 11  torque         7906 non-null   object \n",
      " 12  seats          7907 non-null   float64\n",
      "dtypes: float64(1), int64(3), object(9)\n",
      "memory usage: 825.6+ KB\n"
     ]
    }
   ],
   "source": [
    "df.info()"
   ]
  },
  {
   "cell_type": "code",
   "execution_count": 51,
   "metadata": {},
   "outputs": [
    {
     "data": {
      "text/plain": [
       "Index(['name', 'year', 'selling_price', 'km_driven', 'fuel', 'seller_type',\n",
       "       'transmission', 'owner', 'mileage', 'engine', 'max_power', 'torque',\n",
       "       'seats'],\n",
       "      dtype='object')"
      ]
     },
     "execution_count": 51,
     "metadata": {},
     "output_type": "execute_result"
    }
   ],
   "source": [
    "df.columns"
   ]
  },
  {
   "cell_type": "markdown",
   "metadata": {},
   "source": [
    "# Data Set Cleaning\n"
   ]
  },
  {
   "cell_type": "code",
   "execution_count": 52,
   "metadata": {},
   "outputs": [
    {
     "data": {
      "text/plain": [
       "array(['First Owner', 'Second Owner', 'Third Owner',\n",
       "       'Fourth & Above Owner', 'Test Drive Car'], dtype=object)"
      ]
     },
     "execution_count": 52,
     "metadata": {},
     "output_type": "execute_result"
    }
   ],
   "source": [
    "df['owner'].unique()"
   ]
  },
  {
   "cell_type": "markdown",
   "metadata": {},
   "source": [
    "For the feature owner, map First owner to 1, ..., Test Drive Car to 5\n"
   ]
  },
  {
   "cell_type": "code",
   "execution_count": 53,
   "metadata": {},
   "outputs": [
    {
     "data": {
      "text/plain": [
       "array([1, 2, 3, 4, 5])"
      ]
     },
     "execution_count": 53,
     "metadata": {},
     "output_type": "execute_result"
    }
   ],
   "source": [
    "#mapping the owner column\n",
    "owner_map={\n",
    "    'First Owner': 1,\n",
    "    'Second Owner': 2,\n",
    "    'Third Owner': 3,\n",
    "    'Fourth & Above Owner': 4,\n",
    "    'Test Drive Car': 5,\n",
    "}\n",
    "\n",
    "df['owner'] = df['owner'].map(owner_map)\n",
    "df[\"owner\"].unique()"
   ]
  },
  {
   "cell_type": "markdown",
   "metadata": {},
   "source": [
    "For the feature fuel, remove all rows with CNG and LPG because CNG and LPG use a different\n",
    "mileage system i.e., km/kg which is different from kmfeaturepl for Diesel and Petrol\n"
   ]
  },
  {
   "cell_type": "code",
   "execution_count": 54,
   "metadata": {},
   "outputs": [
    {
     "data": {
      "text/plain": [
       "array(['Diesel', 'Petrol', 'LPG', 'CNG'], dtype=object)"
      ]
     },
     "execution_count": 54,
     "metadata": {},
     "output_type": "execute_result"
    }
   ],
   "source": [
    "df['fuel'].unique()"
   ]
  },
  {
   "cell_type": "code",
   "execution_count": 55,
   "metadata": {},
   "outputs": [
    {
     "data": {
      "text/plain": [
       "array(['Manual', 'Automatic'], dtype=object)"
      ]
     },
     "execution_count": 55,
     "metadata": {},
     "output_type": "execute_result"
    }
   ],
   "source": [
    "df['transmission'].unique()"
   ]
  },
  {
   "cell_type": "code",
   "execution_count": 56,
   "metadata": {},
   "outputs": [
    {
     "data": {
      "text/plain": [
       "array(['Diesel', 'Petrol'], dtype=object)"
      ]
     },
     "execution_count": 56,
     "metadata": {},
     "output_type": "execute_result"
    }
   ],
   "source": [
    "#removing rows of fuel with CNG LPG\n",
    "df = df[~df['fuel'].isin(['CNG', 'LPG'])]\n",
    "df['fuel'].unique()"
   ]
  },
  {
   "cell_type": "markdown",
   "metadata": {},
   "source": [
    "For the feature mileage, remove “kmpl” and convert the column to numerical type (e.g., float).\n"
   ]
  },
  {
   "cell_type": "code",
   "execution_count": 57,
   "metadata": {},
   "outputs": [
    {
     "name": "stdout",
     "output_type": "stream",
     "text": [
      "0     23.4 kmpl\n",
      "1    21.14 kmpl\n",
      "2     17.7 kmpl\n",
      "3     23.0 kmpl\n",
      "4     16.1 kmpl\n",
      "Name: mileage, dtype: object\n"
     ]
    }
   ],
   "source": [
    "print(df['mileage'].head())"
   ]
  },
  {
   "cell_type": "code",
   "execution_count": 58,
   "metadata": {},
   "outputs": [],
   "source": [
    "df['mileage'] = df['mileage'].str.split(' ').str[0].astype(float)"
   ]
  },
  {
   "cell_type": "code",
   "execution_count": 59,
   "metadata": {},
   "outputs": [
    {
     "name": "stdout",
     "output_type": "stream",
     "text": [
      "0    23.40\n",
      "1    21.14\n",
      "2    17.70\n",
      "3    23.00\n",
      "4    16.10\n",
      "Name: mileage, dtype: float64\n"
     ]
    }
   ],
   "source": [
    "print(df['mileage'].head())"
   ]
  },
  {
   "cell_type": "markdown",
   "metadata": {},
   "source": [
    "For the feature engine, remove “CC” and convert the column to numerical type (e.g., float)\n"
   ]
  },
  {
   "cell_type": "code",
   "execution_count": 60,
   "metadata": {},
   "outputs": [
    {
     "data": {
      "text/plain": [
       "array([1248., 1498., 1497., 1396., 1298., 1197.,  796., 1364., 1399.,\n",
       "       1461.,  993.,   nan, 1061., 1198., 1199.,  998., 1591., 2179.,\n",
       "       1368., 2982., 2494., 2143., 2477., 1462., 2755., 1968., 1798.,\n",
       "       1196., 1373., 1598., 1998., 1086., 1194., 1172., 1405., 1582.,\n",
       "        999., 2487., 1999., 3604., 2987., 1995., 1451., 1969., 2967.,\n",
       "       2497., 1797., 1991., 2362., 1493., 1599., 1341., 1794.,  799.,\n",
       "       1193., 2696., 1495., 1186., 1047., 2498., 2956., 2523., 1120.,\n",
       "        624., 1496., 1984., 2354.,  814.,  793., 1799.,  936., 1956.,\n",
       "       1997., 1499., 1948., 2997., 2489., 2499., 2609., 2953., 1150.,\n",
       "       1994., 1388., 1527., 2199.,  995., 2993., 1586., 1390.,  909.,\n",
       "       2393., 3198., 1339., 2835., 2092., 1595., 2496., 1596., 1597.,\n",
       "       2596., 2148., 1299., 1590., 2231., 2694., 2200., 1795., 1896.,\n",
       "       1796., 1422., 1489., 2359., 2197., 2999., 1781., 2650., 1343.,\n",
       "       2446., 3498., 2198., 2776., 1950.])"
      ]
     },
     "execution_count": 60,
     "metadata": {},
     "output_type": "execute_result"
    }
   ],
   "source": [
    "df['engine'] = df['engine'].str.replace(' CC', '').astype(float)\n",
    "df['engine'].unique()"
   ]
  },
  {
   "cell_type": "markdown",
   "metadata": {},
   "source": [
    "Do the same for Max_Power.\n"
   ]
  },
  {
   "cell_type": "code",
   "execution_count": 61,
   "metadata": {},
   "outputs": [
    {
     "data": {
      "text/plain": [
       "array([ 74.   , 103.52 ,  78.   ,  90.   ,  88.2  ,  81.86 ,  37.   ,\n",
       "        67.1  ,  68.1  , 108.45 ,  60.   ,  73.9  ,     nan,  67.   ,\n",
       "        82.   ,  88.5  ,  46.3  ,  88.73 ,  64.1  ,  98.6  ,  88.8  ,\n",
       "        83.81 ,  83.1  ,  47.3  ,  73.8  ,  34.2  ,  35.   ,  81.83 ,\n",
       "       121.3  , 138.03 , 160.77 , 117.3  , 116.3  ,  83.14 ,  67.05 ,\n",
       "       168.5  , 100.   , 120.7  ,  98.63 , 175.56 , 103.25 , 171.5  ,\n",
       "       100.6  , 174.33 , 187.74 , 170.   ,  78.9  ,  88.76 ,  86.8  ,\n",
       "       108.495, 108.62 ,  93.7  , 103.6  ,  98.59 , 189.   ,  67.04 ,\n",
       "        68.05 ,  82.85 ,  81.8  ,  73.   , 120.   ,  94.68 , 160.   ,\n",
       "        65.   , 155.   ,  69.01 , 126.32 , 138.1  ,  83.8  , 126.2  ,\n",
       "        98.96 ,  62.1  ,  86.7  , 188.   , 214.56 , 177.   , 280.   ,\n",
       "       148.31 , 254.79 , 190.   , 177.46 , 204.   , 141.   , 117.6  ,\n",
       "       241.4  , 282.   , 150.   , 147.5  , 108.5  , 103.5  , 183.   ,\n",
       "       181.04 , 157.7  , 164.7  ,  91.1  , 400.   ,  68.   ,  75.   ,\n",
       "        85.8  ,  87.2  ,  53.   , 118.   , 103.2  ,  83.   ,  84.   ,\n",
       "       147.94 ,  74.02 ,  53.3  ,  80.   ,  88.7  ,  97.7  , 121.36 ,\n",
       "       162.   , 140.   ,  94.   , 100.57 ,  82.9  ,  83.11 ,  70.   ,\n",
       "       153.86 , 121.   , 126.3  ,  73.97 , 171.   ,  69.   ,  99.6  ,\n",
       "       102.   , 105.   ,  63.   ,  79.4  ,  97.9  ,  63.1  ,  66.1  ,\n",
       "       110.   , 174.5  ,  53.26 ,  73.75 ,  67.06 ,  64.08 ,  37.5  ,\n",
       "       189.3  , 158.8  ,  55.2  ,  71.01 ,  73.74 , 147.9  ,  71.   ,\n",
       "        77.   , 121.4  , 113.4  ,  47.   , 130.   ,  57.6  , 138.   ,\n",
       "        52.8  ,  53.64 ,  53.5  ,  76.8  ,  82.4  , 113.42 ,  76.   ,\n",
       "        84.8  ,   0.   ,  56.3  , 218.   , 112.   ,  92.   , 105.5  ,\n",
       "       169.   ,  95.   ,  72.4  , 115.   , 152.   ,  91.2  , 156.   ,\n",
       "        74.9  ,  62.   , 105.3  ,  73.94 ,  85.   , 118.3  ,  72.   ,\n",
       "       147.51 ,  58.   ,  64.   , 126.24 ,  76.9  , 194.3  ,  99.23 ,\n",
       "        89.84 , 123.7  , 118.35 ,  99.   , 241.   , 136.   , 261.4  ,\n",
       "       104.68 ,  37.48 , 104.   ,  63.12 ,  91.7  , 102.5  , 177.6  ,\n",
       "        45.   , 123.37 , 147.8  , 184.   ,  84.48 ,  68.07 ,  74.96 ,\n",
       "       167.6  , 152.87 , 112.2  ,  83.83 , 197.   , 110.4  , 104.55 ,\n",
       "       103.   , 103.3  ,  66.   , 108.6  , 165.   , 163.7  , 116.9  ,\n",
       "        94.93 , 127.   , 198.5  , 179.5  , 120.69 , 121.31 , 138.08 ,\n",
       "       187.7  ,  80.8  ,  86.79 ,  93.87 , 116.6  , 143.   ,  92.7  ,\n",
       "        88.   ,  78.8  ,  64.4  , 125.   , 139.01 , 254.8  , 181.   ,\n",
       "       258.   , 270.9  , 265.   , 157.75 , 101.   , 186.   , 187.4  ,\n",
       "       224.   ,  64.9  , 148.   ,  35.5  ,  89.75 ,  91.72 , 106.   ,\n",
       "        98.97 ,  66.6  ,  86.   ,  65.3  ,  98.82 , 198.25 ,  38.   ,\n",
       "       142.   , 132.   , 174.57 , 178.   , 163.2  , 203.2  , 177.5  ,\n",
       "       175.   ,  57.   ,  80.84 ,  68.4  , 167.67 , 170.63 ,  52.   ,\n",
       "       149.5  ,  48.21 , 201.1  , 100.5  , 144.   , 194.4  , 168.7  ,\n",
       "       104.5  , 103.26 , 116.4  ,  98.79 , 272.   , 235.   , 167.62 ,\n",
       "       170.3  , 139.46 , 158.   , 110.5  ,  82.5  , 141.1  , 197.2  ,\n",
       "       161.   , 194.   , 122.4  , 134.1  , 134.   , 203.   , 135.1  ])"
      ]
     },
     "execution_count": 61,
     "metadata": {},
     "output_type": "execute_result"
    }
   ],
   "source": [
    "df['max_power'] = df['max_power'].str.replace(' bhp', '').astype(float)\n",
    "df['max_power'].unique()"
   ]
  },
  {
   "cell_type": "markdown",
   "metadata": {},
   "source": [
    "For the feature brand, take only the first word and remove the rest\n"
   ]
  },
  {
   "cell_type": "code",
   "execution_count": 62,
   "metadata": {},
   "outputs": [
    {
     "data": {
      "text/plain": [
       "array(['Maruti', 'Skoda', 'Honda', 'Hyundai', 'Toyota', 'Ford', 'Renault',\n",
       "       'Mahindra', 'Tata', 'Chevrolet', 'Fiat', 'Datsun', 'Jeep',\n",
       "       'Mercedes-Benz', 'Mitsubishi', 'Audi', 'Volkswagen', 'BMW',\n",
       "       'Nissan', 'Lexus', 'Jaguar', 'Land', 'MG', 'Volvo', 'Daewoo',\n",
       "       'Kia', 'Force', 'Ambassador', 'Ashok', 'Isuzu', 'Opel', 'Peugeot'],\n",
       "      dtype=object)"
      ]
     },
     "execution_count": 62,
     "metadata": {},
     "output_type": "execute_result"
    }
   ],
   "source": [
    "df['name']=df['name'].str.split(' ').str[0]\n",
    "df['name'].unique()"
   ]
  },
  {
   "cell_type": "markdown",
   "metadata": {},
   "source": [
    "Drop the feature torque, simply because Chaky’s company does not understand well about it\n"
   ]
  },
  {
   "cell_type": "code",
   "execution_count": 63,
   "metadata": {},
   "outputs": [],
   "source": [
    "df=df.drop(columns=['torque'])"
   ]
  },
  {
   "cell_type": "code",
   "execution_count": 64,
   "metadata": {},
   "outputs": [
    {
     "data": {
      "text/plain": [
       "Index(['name', 'year', 'selling_price', 'km_driven', 'fuel', 'seller_type',\n",
       "       'transmission', 'owner', 'mileage', 'engine', 'max_power', 'seats'],\n",
       "      dtype='object')"
      ]
     },
     "execution_count": 64,
     "metadata": {},
     "output_type": "execute_result"
    }
   ],
   "source": [
    "df.columns"
   ]
  },
  {
   "cell_type": "code",
   "execution_count": 65,
   "metadata": {},
   "outputs": [],
   "source": [
    "df = df[df['owner'] != 5]\n"
   ]
  },
  {
   "cell_type": "markdown",
   "metadata": {},
   "source": [
    "Selling Price Log Transfomations\n"
   ]
  },
  {
   "cell_type": "code",
   "execution_count": 66,
   "metadata": {},
   "outputs": [
    {
     "data": {
      "application/vnd.microsoft.datawrangler.viewer.v0+json": {
       "columns": [
        {
         "name": "index",
         "rawType": "int64",
         "type": "integer"
        },
        {
         "name": "name",
         "rawType": "object",
         "type": "string"
        },
        {
         "name": "year",
         "rawType": "int64",
         "type": "integer"
        },
        {
         "name": "selling_price",
         "rawType": "int64",
         "type": "integer"
        },
        {
         "name": "km_driven",
         "rawType": "int64",
         "type": "integer"
        },
        {
         "name": "fuel",
         "rawType": "object",
         "type": "string"
        },
        {
         "name": "seller_type",
         "rawType": "object",
         "type": "string"
        },
        {
         "name": "transmission",
         "rawType": "object",
         "type": "string"
        },
        {
         "name": "owner",
         "rawType": "int64",
         "type": "integer"
        },
        {
         "name": "mileage",
         "rawType": "float64",
         "type": "float"
        },
        {
         "name": "engine",
         "rawType": "float64",
         "type": "float"
        },
        {
         "name": "max_power",
         "rawType": "float64",
         "type": "float"
        },
        {
         "name": "seats",
         "rawType": "float64",
         "type": "float"
        }
       ],
       "conversionMethod": "pd.DataFrame",
       "ref": "9d4de78a-bf5c-4cad-a245-bbd3652fba30",
       "rows": [
        [
         "0",
         "Maruti",
         "2014",
         "450000",
         "145500",
         "Diesel",
         "Individual",
         "Manual",
         "1",
         "23.4",
         "1248.0",
         "74.0",
         "5.0"
        ],
        [
         "1",
         "Skoda",
         "2014",
         "370000",
         "120000",
         "Diesel",
         "Individual",
         "Manual",
         "2",
         "21.14",
         "1498.0",
         "103.52",
         "5.0"
        ],
        [
         "2",
         "Honda",
         "2006",
         "158000",
         "140000",
         "Petrol",
         "Individual",
         "Manual",
         "3",
         "17.7",
         "1497.0",
         "78.0",
         "5.0"
        ],
        [
         "3",
         "Hyundai",
         "2010",
         "225000",
         "127000",
         "Diesel",
         "Individual",
         "Manual",
         "1",
         "23.0",
         "1396.0",
         "90.0",
         "5.0"
        ],
        [
         "4",
         "Maruti",
         "2007",
         "130000",
         "120000",
         "Petrol",
         "Individual",
         "Manual",
         "1",
         "16.1",
         "1298.0",
         "88.2",
         "5.0"
        ]
       ],
       "shape": {
        "columns": 12,
        "rows": 5
       }
      },
      "text/html": [
       "<div>\n",
       "<style scoped>\n",
       "    .dataframe tbody tr th:only-of-type {\n",
       "        vertical-align: middle;\n",
       "    }\n",
       "\n",
       "    .dataframe tbody tr th {\n",
       "        vertical-align: top;\n",
       "    }\n",
       "\n",
       "    .dataframe thead th {\n",
       "        text-align: right;\n",
       "    }\n",
       "</style>\n",
       "<table border=\"1\" class=\"dataframe\">\n",
       "  <thead>\n",
       "    <tr style=\"text-align: right;\">\n",
       "      <th></th>\n",
       "      <th>name</th>\n",
       "      <th>year</th>\n",
       "      <th>selling_price</th>\n",
       "      <th>km_driven</th>\n",
       "      <th>fuel</th>\n",
       "      <th>seller_type</th>\n",
       "      <th>transmission</th>\n",
       "      <th>owner</th>\n",
       "      <th>mileage</th>\n",
       "      <th>engine</th>\n",
       "      <th>max_power</th>\n",
       "      <th>seats</th>\n",
       "    </tr>\n",
       "  </thead>\n",
       "  <tbody>\n",
       "    <tr>\n",
       "      <th>0</th>\n",
       "      <td>Maruti</td>\n",
       "      <td>2014</td>\n",
       "      <td>450000</td>\n",
       "      <td>145500</td>\n",
       "      <td>Diesel</td>\n",
       "      <td>Individual</td>\n",
       "      <td>Manual</td>\n",
       "      <td>1</td>\n",
       "      <td>23.40</td>\n",
       "      <td>1248.0</td>\n",
       "      <td>74.00</td>\n",
       "      <td>5.0</td>\n",
       "    </tr>\n",
       "    <tr>\n",
       "      <th>1</th>\n",
       "      <td>Skoda</td>\n",
       "      <td>2014</td>\n",
       "      <td>370000</td>\n",
       "      <td>120000</td>\n",
       "      <td>Diesel</td>\n",
       "      <td>Individual</td>\n",
       "      <td>Manual</td>\n",
       "      <td>2</td>\n",
       "      <td>21.14</td>\n",
       "      <td>1498.0</td>\n",
       "      <td>103.52</td>\n",
       "      <td>5.0</td>\n",
       "    </tr>\n",
       "    <tr>\n",
       "      <th>2</th>\n",
       "      <td>Honda</td>\n",
       "      <td>2006</td>\n",
       "      <td>158000</td>\n",
       "      <td>140000</td>\n",
       "      <td>Petrol</td>\n",
       "      <td>Individual</td>\n",
       "      <td>Manual</td>\n",
       "      <td>3</td>\n",
       "      <td>17.70</td>\n",
       "      <td>1497.0</td>\n",
       "      <td>78.00</td>\n",
       "      <td>5.0</td>\n",
       "    </tr>\n",
       "    <tr>\n",
       "      <th>3</th>\n",
       "      <td>Hyundai</td>\n",
       "      <td>2010</td>\n",
       "      <td>225000</td>\n",
       "      <td>127000</td>\n",
       "      <td>Diesel</td>\n",
       "      <td>Individual</td>\n",
       "      <td>Manual</td>\n",
       "      <td>1</td>\n",
       "      <td>23.00</td>\n",
       "      <td>1396.0</td>\n",
       "      <td>90.00</td>\n",
       "      <td>5.0</td>\n",
       "    </tr>\n",
       "    <tr>\n",
       "      <th>4</th>\n",
       "      <td>Maruti</td>\n",
       "      <td>2007</td>\n",
       "      <td>130000</td>\n",
       "      <td>120000</td>\n",
       "      <td>Petrol</td>\n",
       "      <td>Individual</td>\n",
       "      <td>Manual</td>\n",
       "      <td>1</td>\n",
       "      <td>16.10</td>\n",
       "      <td>1298.0</td>\n",
       "      <td>88.20</td>\n",
       "      <td>5.0</td>\n",
       "    </tr>\n",
       "  </tbody>\n",
       "</table>\n",
       "</div>"
      ],
      "text/plain": [
       "      name  year  selling_price  km_driven    fuel seller_type transmission  \\\n",
       "0   Maruti  2014         450000     145500  Diesel  Individual       Manual   \n",
       "1    Skoda  2014         370000     120000  Diesel  Individual       Manual   \n",
       "2    Honda  2006         158000     140000  Petrol  Individual       Manual   \n",
       "3  Hyundai  2010         225000     127000  Diesel  Individual       Manual   \n",
       "4   Maruti  2007         130000     120000  Petrol  Individual       Manual   \n",
       "\n",
       "   owner  mileage  engine  max_power  seats  \n",
       "0      1    23.40  1248.0      74.00    5.0  \n",
       "1      2    21.14  1498.0     103.52    5.0  \n",
       "2      3    17.70  1497.0      78.00    5.0  \n",
       "3      1    23.00  1396.0      90.00    5.0  \n",
       "4      1    16.10  1298.0      88.20    5.0  "
      ]
     },
     "execution_count": 66,
     "metadata": {},
     "output_type": "execute_result"
    }
   ],
   "source": [
    "df.head()"
   ]
  },
  {
   "cell_type": "code",
   "execution_count": 67,
   "metadata": {},
   "outputs": [],
   "source": [
    "# Apply log transformation to the selling price\n",
    "df['selling_price'] = np.log(df['selling_price'])"
   ]
  },
  {
   "cell_type": "code",
   "execution_count": 68,
   "metadata": {},
   "outputs": [
    {
     "data": {
      "application/vnd.microsoft.datawrangler.viewer.v0+json": {
       "columns": [
        {
         "name": "index",
         "rawType": "int64",
         "type": "integer"
        },
        {
         "name": "name",
         "rawType": "object",
         "type": "string"
        },
        {
         "name": "year",
         "rawType": "int64",
         "type": "integer"
        },
        {
         "name": "selling_price",
         "rawType": "float64",
         "type": "float"
        },
        {
         "name": "km_driven",
         "rawType": "int64",
         "type": "integer"
        },
        {
         "name": "fuel",
         "rawType": "object",
         "type": "string"
        },
        {
         "name": "seller_type",
         "rawType": "object",
         "type": "string"
        },
        {
         "name": "transmission",
         "rawType": "object",
         "type": "string"
        },
        {
         "name": "owner",
         "rawType": "int64",
         "type": "integer"
        },
        {
         "name": "mileage",
         "rawType": "float64",
         "type": "float"
        },
        {
         "name": "engine",
         "rawType": "float64",
         "type": "float"
        },
        {
         "name": "max_power",
         "rawType": "float64",
         "type": "float"
        },
        {
         "name": "seats",
         "rawType": "float64",
         "type": "float"
        }
       ],
       "conversionMethod": "pd.DataFrame",
       "ref": "1f2c91a7-7d97-4987-9a3b-068da9fba13e",
       "rows": [
        [
         "0",
         "Maruti",
         "2014",
         "13.017002861746503",
         "145500",
         "Diesel",
         "Individual",
         "Manual",
         "1",
         "23.4",
         "1248.0",
         "74.0",
         "5.0"
        ],
        [
         "1",
         "Skoda",
         "2014",
         "12.821258284620408",
         "120000",
         "Diesel",
         "Individual",
         "Manual",
         "2",
         "21.14",
         "1498.0",
         "103.52",
         "5.0"
        ],
        [
         "2",
         "Honda",
         "2006",
         "11.970350312009105",
         "140000",
         "Petrol",
         "Individual",
         "Manual",
         "3",
         "17.7",
         "1497.0",
         "78.0",
         "5.0"
        ],
        [
         "3",
         "Hyundai",
         "2010",
         "12.323855681186558",
         "127000",
         "Diesel",
         "Individual",
         "Manual",
         "1",
         "23.0",
         "1396.0",
         "90.0",
         "5.0"
        ],
        [
         "4",
         "Maruti",
         "2007",
         "11.77528972943772",
         "120000",
         "Petrol",
         "Individual",
         "Manual",
         "1",
         "16.1",
         "1298.0",
         "88.2",
         "5.0"
        ]
       ],
       "shape": {
        "columns": 12,
        "rows": 5
       }
      },
      "text/html": [
       "<div>\n",
       "<style scoped>\n",
       "    .dataframe tbody tr th:only-of-type {\n",
       "        vertical-align: middle;\n",
       "    }\n",
       "\n",
       "    .dataframe tbody tr th {\n",
       "        vertical-align: top;\n",
       "    }\n",
       "\n",
       "    .dataframe thead th {\n",
       "        text-align: right;\n",
       "    }\n",
       "</style>\n",
       "<table border=\"1\" class=\"dataframe\">\n",
       "  <thead>\n",
       "    <tr style=\"text-align: right;\">\n",
       "      <th></th>\n",
       "      <th>name</th>\n",
       "      <th>year</th>\n",
       "      <th>selling_price</th>\n",
       "      <th>km_driven</th>\n",
       "      <th>fuel</th>\n",
       "      <th>seller_type</th>\n",
       "      <th>transmission</th>\n",
       "      <th>owner</th>\n",
       "      <th>mileage</th>\n",
       "      <th>engine</th>\n",
       "      <th>max_power</th>\n",
       "      <th>seats</th>\n",
       "    </tr>\n",
       "  </thead>\n",
       "  <tbody>\n",
       "    <tr>\n",
       "      <th>0</th>\n",
       "      <td>Maruti</td>\n",
       "      <td>2014</td>\n",
       "      <td>13.017003</td>\n",
       "      <td>145500</td>\n",
       "      <td>Diesel</td>\n",
       "      <td>Individual</td>\n",
       "      <td>Manual</td>\n",
       "      <td>1</td>\n",
       "      <td>23.40</td>\n",
       "      <td>1248.0</td>\n",
       "      <td>74.00</td>\n",
       "      <td>5.0</td>\n",
       "    </tr>\n",
       "    <tr>\n",
       "      <th>1</th>\n",
       "      <td>Skoda</td>\n",
       "      <td>2014</td>\n",
       "      <td>12.821258</td>\n",
       "      <td>120000</td>\n",
       "      <td>Diesel</td>\n",
       "      <td>Individual</td>\n",
       "      <td>Manual</td>\n",
       "      <td>2</td>\n",
       "      <td>21.14</td>\n",
       "      <td>1498.0</td>\n",
       "      <td>103.52</td>\n",
       "      <td>5.0</td>\n",
       "    </tr>\n",
       "    <tr>\n",
       "      <th>2</th>\n",
       "      <td>Honda</td>\n",
       "      <td>2006</td>\n",
       "      <td>11.970350</td>\n",
       "      <td>140000</td>\n",
       "      <td>Petrol</td>\n",
       "      <td>Individual</td>\n",
       "      <td>Manual</td>\n",
       "      <td>3</td>\n",
       "      <td>17.70</td>\n",
       "      <td>1497.0</td>\n",
       "      <td>78.00</td>\n",
       "      <td>5.0</td>\n",
       "    </tr>\n",
       "    <tr>\n",
       "      <th>3</th>\n",
       "      <td>Hyundai</td>\n",
       "      <td>2010</td>\n",
       "      <td>12.323856</td>\n",
       "      <td>127000</td>\n",
       "      <td>Diesel</td>\n",
       "      <td>Individual</td>\n",
       "      <td>Manual</td>\n",
       "      <td>1</td>\n",
       "      <td>23.00</td>\n",
       "      <td>1396.0</td>\n",
       "      <td>90.00</td>\n",
       "      <td>5.0</td>\n",
       "    </tr>\n",
       "    <tr>\n",
       "      <th>4</th>\n",
       "      <td>Maruti</td>\n",
       "      <td>2007</td>\n",
       "      <td>11.775290</td>\n",
       "      <td>120000</td>\n",
       "      <td>Petrol</td>\n",
       "      <td>Individual</td>\n",
       "      <td>Manual</td>\n",
       "      <td>1</td>\n",
       "      <td>16.10</td>\n",
       "      <td>1298.0</td>\n",
       "      <td>88.20</td>\n",
       "      <td>5.0</td>\n",
       "    </tr>\n",
       "  </tbody>\n",
       "</table>\n",
       "</div>"
      ],
      "text/plain": [
       "      name  year  selling_price  km_driven    fuel seller_type transmission  \\\n",
       "0   Maruti  2014      13.017003     145500  Diesel  Individual       Manual   \n",
       "1    Skoda  2014      12.821258     120000  Diesel  Individual       Manual   \n",
       "2    Honda  2006      11.970350     140000  Petrol  Individual       Manual   \n",
       "3  Hyundai  2010      12.323856     127000  Diesel  Individual       Manual   \n",
       "4   Maruti  2007      11.775290     120000  Petrol  Individual       Manual   \n",
       "\n",
       "   owner  mileage  engine  max_power  seats  \n",
       "0      1    23.40  1248.0      74.00    5.0  \n",
       "1      2    21.14  1498.0     103.52    5.0  \n",
       "2      3    17.70  1497.0      78.00    5.0  \n",
       "3      1    23.00  1396.0      90.00    5.0  \n",
       "4      1    16.10  1298.0      88.20    5.0  "
      ]
     },
     "execution_count": 68,
     "metadata": {},
     "output_type": "execute_result"
    }
   ],
   "source": [
    "df.head()"
   ]
  },
  {
   "cell_type": "markdown",
   "metadata": {},
   "source": [
    "Encoding Labels\n"
   ]
  },
  {
   "cell_type": "code",
   "execution_count": 69,
   "metadata": {},
   "outputs": [],
   "source": [
    "from sklearn.preprocessing import LabelEncoder\n",
    "\n",
    "le=LabelEncoder()\n",
    "df['name']=le.fit_transform(df['name']) \n",
    "df['fuel']=le.fit_transform(df['fuel']) \n",
    "df['seller_type']=le.fit_transform(df['seller_type'])\n",
    "df['transmission']=le.fit_transform(df['transmission']) "
   ]
  },
  {
   "cell_type": "code",
   "execution_count": 70,
   "metadata": {},
   "outputs": [
    {
     "data": {
      "text/plain": [
       "array([20, 27, 10, 11, 29,  9, 26, 19, 28,  4,  7,  6, 14, 21, 22,  2, 30,\n",
       "        3, 23, 17, 13, 16, 18, 31,  5, 15,  8,  0,  1, 12, 24, 25])"
      ]
     },
     "execution_count": 70,
     "metadata": {},
     "output_type": "execute_result"
    }
   ],
   "source": [
    "df['name'].unique()"
   ]
  },
  {
   "cell_type": "markdown",
   "metadata": {},
   "source": [
    "# Plot Testings\n"
   ]
  },
  {
   "cell_type": "code",
   "execution_count": 71,
   "metadata": {},
   "outputs": [
    {
     "data": {
      "text/plain": [
       "<Axes: xlabel='selling_price', ylabel='count'>"
      ]
     },
     "execution_count": 71,
     "metadata": {},
     "output_type": "execute_result"
    },
    {
     "data": {
      "image/png": "[encoded data removed]",
      "text/plain": [
       "<Figure size 640x480 with 1 Axes>"
      ]
     },
     "metadata": {},
     "output_type": "display_data"
    }
   ],
   "source": [
    "sns.countplot(data=df, x='selling_price')"
   ]
  },
  {
   "cell_type": "code",
   "execution_count": 72,
   "metadata": {},
   "outputs": [
    {
     "data": {
      "text/plain": [
       "<seaborn.axisgrid.FacetGrid at 0x323d98310>"
      ]
     },
     "execution_count": 72,
     "metadata": {},
     "output_type": "execute_result"
    },
    {
     "data": {
      "image/png": "[encoded data removed]",
      "text/plain": [
       "<Figure size 500x500 with 1 Axes>"
      ]
     },
     "metadata": {},
     "output_type": "display_data"
    }
   ],
   "source": [
    "sns.displot(data = df, x = 'selling_price')"
   ]
  },
  {
   "cell_type": "markdown",
   "metadata": {},
   "source": [
    "# Feature Selections\n",
    "\n",
    "Choosing features\n"
   ]
  },
  {
   "cell_type": "code",
   "execution_count": 73,
   "metadata": {},
   "outputs": [
    {
     "data": {
      "image/png": "[encoded data removed]",
      "text/plain": [
       "<Figure size 1500x800 with 2 Axes>"
      ]
     },
     "metadata": {},
     "output_type": "display_data"
    }
   ],
   "source": [
    "plt.figure(figsize = (15,8))\n",
    "sns.heatmap(df.corr(), annot=True, cmap=\"coolwarm\")\n",
    "\n",
    "# Show plot\n",
    "plt.title(\"Correlation Matrix\")\n",
    "plt.show()"
   ]
  },
  {
   "cell_type": "markdown",
   "metadata": {},
   "source": [
    "Selecting Features\n"
   ]
  },
  {
   "cell_type": "code",
   "execution_count": 74,
   "metadata": {},
   "outputs": [],
   "source": [
    "#features-selection\n",
    "selected_features = ['year', 'max_power', 'engine', 'owner', 'fuel','transmission']\n",
    "X = df[selected_features]\n",
    "y = df['selling_price']\n"
   ]
  },
  {
   "cell_type": "markdown",
   "metadata": {},
   "source": [
    "Model Splitting\n"
   ]
  },
  {
   "cell_type": "code",
   "execution_count": 75,
   "metadata": {},
   "outputs": [],
   "source": [
    "#Model Splitting\n",
    "from sklearn.model_selection import train_test_split\n",
    "\n",
    "X_train, X_test, y_train, y_test = train_test_split(X, y, test_size = 0.3, random_state = 42)"
   ]
  },
  {
   "cell_type": "markdown",
   "metadata": {},
   "source": [
    "Checking null values\n"
   ]
  },
  {
   "cell_type": "code",
   "execution_count": 76,
   "metadata": {},
   "outputs": [
    {
     "data": {
      "text/plain": [
       "year              0\n",
       "max_power       149\n",
       "engine          154\n",
       "owner             0\n",
       "fuel              0\n",
       "transmission      0\n",
       "dtype: int64"
      ]
     },
     "execution_count": 76,
     "metadata": {},
     "output_type": "execute_result"
    }
   ],
   "source": [
    "X_train[['year','max_power','engine','owner','fuel','transmission']].isna().sum()"
   ]
  },
  {
   "cell_type": "code",
   "execution_count": 77,
   "metadata": {},
   "outputs": [
    {
     "data": {
      "text/plain": [
       "year             0\n",
       "max_power       59\n",
       "engine          60\n",
       "owner            0\n",
       "fuel             0\n",
       "transmission     0\n",
       "dtype: int64"
      ]
     },
     "execution_count": 77,
     "metadata": {},
     "output_type": "execute_result"
    }
   ],
   "source": [
    "X_test[['year','max_power','engine','owner','fuel','transmission']].isna().sum()"
   ]
  },
  {
   "cell_type": "code",
   "execution_count": 78,
   "metadata": {},
   "outputs": [
    {
     "data": {
      "text/plain": [
       "np.int64(0)"
      ]
     },
     "execution_count": 78,
     "metadata": {},
     "output_type": "execute_result"
    }
   ],
   "source": [
    "y_train.isna().sum()"
   ]
  },
  {
   "cell_type": "code",
   "execution_count": 79,
   "metadata": {},
   "outputs": [
    {
     "data": {
      "text/plain": [
       "np.int64(0)"
      ]
     },
     "execution_count": 79,
     "metadata": {},
     "output_type": "execute_result"
    }
   ],
   "source": [
    "y_test.isna().sum()"
   ]
  },
  {
   "cell_type": "markdown",
   "metadata": {},
   "source": [
    "Filling Missing Values\n"
   ]
  },
  {
   "cell_type": "code",
   "execution_count": 80,
   "metadata": {},
   "outputs": [],
   "source": [
    "#For training set\n",
    "X_train['max_power'].fillna(X_train['max_power'].median(), inplace=True)\n",
    "X_train['engine'].fillna(X_train['engine'].median(), inplace=True)\n",
    "\n",
    "# For testing set\n",
    "X_test['max_power'].fillna(X_test['max_power'].median(), inplace=True)\n",
    "X_test['engine'].fillna(X_test['engine'].median(), inplace=True)"
   ]
  },
  {
   "cell_type": "code",
   "execution_count": 81,
   "metadata": {},
   "outputs": [],
   "source": [
    "y_train_rows_with_na = y_train.isna()\n",
    "y_train = y_train[~y_train_rows_with_na]\n",
    "X_train = X_train[~y_train_rows_with_na]\n",
    "\n",
    "y_test_rows_with_na = y_test.isna()\n",
    "X_test = X_test[~y_test_rows_with_na]\n",
    "y_test = y_test[~y_test_rows_with_na]"
   ]
  },
  {
   "cell_type": "markdown",
   "metadata": {},
   "source": [
    "Checking Missing Values again\n"
   ]
  },
  {
   "cell_type": "code",
   "execution_count": 82,
   "metadata": {},
   "outputs": [
    {
     "data": {
      "text/plain": [
       "engine       0\n",
       "max_power    0\n",
       "dtype: int64"
      ]
     },
     "execution_count": 82,
     "metadata": {},
     "output_type": "execute_result"
    }
   ],
   "source": [
    "X_train[['engine', 'max_power']].isna().sum()"
   ]
  },
  {
   "cell_type": "code",
   "execution_count": 83,
   "metadata": {},
   "outputs": [
    {
     "data": {
      "text/plain": [
       "engine       0\n",
       "max_power    0\n",
       "dtype: int64"
      ]
     },
     "execution_count": 83,
     "metadata": {},
     "output_type": "execute_result"
    }
   ],
   "source": [
    "X_test[['engine', 'max_power']].isna().sum()"
   ]
  },
  {
   "cell_type": "code",
   "execution_count": 84,
   "metadata": {},
   "outputs": [
    {
     "data": {
      "text/plain": [
       "(np.int64(0), np.int64(0))"
      ]
     },
     "execution_count": 84,
     "metadata": {},
     "output_type": "execute_result"
    }
   ],
   "source": [
    "y_train.isna().sum(), y_test.isna().sum()"
   ]
  },
  {
   "cell_type": "markdown",
   "metadata": {},
   "source": [
    "# Scaling\n"
   ]
  },
  {
   "cell_type": "code",
   "execution_count": 85,
   "metadata": {},
   "outputs": [
    {
     "name": "stdout",
     "output_type": "stream",
     "text": [
      "Scaler saved successfully as 'scaler.pkl'\n"
     ]
    }
   ],
   "source": [
    "from sklearn.preprocessing import StandardScaler\n",
    "import pickle\n",
    "\n",
    "# feature scaling helps improve reach convergence faster\n",
    "scaler = StandardScaler()\n",
    "X_train_scaled = scaler.fit_transform(X_train)\n",
    "X_test_scaled = scaler.transform(X_test)\n",
    "with open('scaler.pkl', 'wb') as file:\n",
    "    pickle.dump(scaler, file)\n",
    "\n",
    "print(\"Scaler saved successfully as 'scaler.pkl'\")"
   ]
  },
  {
   "cell_type": "code",
   "execution_count": 86,
   "metadata": {},
   "outputs": [
    {
     "name": "stdout",
     "output_type": "stream",
     "text": [
      "Shape of X_train:  (5619, 6)\n",
      "Shape of X_test:  (2409, 6)\n",
      "Shape of y_train:  (5619,)\n",
      "Shape of y_test:  (2409,)\n"
     ]
    }
   ],
   "source": [
    "print(\"Shape of X_train: \", X_train.shape)\n",
    "print(\"Shape of X_test: \", X_test.shape)\n",
    "print(\"Shape of y_train: \", y_train.shape)\n",
    "print(\"Shape of y_test: \", y_test.shape)"
   ]
  },
  {
   "cell_type": "markdown",
   "metadata": {},
   "source": [
    "# Algorithm Implementations"
   ]
  },
  {
   "cell_type": "markdown",
   "metadata": {},
   "source": [
    "## Linear Regression"
   ]
  },
  {
   "cell_type": "code",
   "execution_count": 87,
   "metadata": {},
   "outputs": [],
   "source": [
    "from sklearn.model_selection import KFold\n",
    "\n",
    "class LinearRegression:\n",
    "    def __init__(self, regularization, lr=0.001, method='batch', num_epochs=50, batch_size=50,\n",
    "                 cv=KFold(n_splits=3), init_method=\"zero\", use_momentum=False, momentum=0.9):\n",
    "        self.lr = lr\n",
    "        self.num_epochs = num_epochs\n",
    "        self.batch_size = batch_size\n",
    "        self.method = method  # 'sto', 'mini', or 'batch'\n",
    "        self.cv = cv\n",
    "        self.regularization = regularization\n",
    "        self.init_method = init_method  # \"zero\" or \"xavier\"\n",
    "        self.use_momentum = use_momentum\n",
    "        self.momentum = momentum\n",
    "        self.prev_step = 0  # for momentum\n",
    "        self.kfold_scores = []  # to store cv results\n",
    "\n",
    "    def initialize_weights(self, n_features):\n",
    "        if self.init_method == \"zero\":\n",
    "            return np.zeros(n_features)\n",
    "        elif self.init_method == \"xavier\":\n",
    "            lower, upper = -(1.0/np.sqrt(n_features)), (1.0/np.sqrt(n_features))\n",
    "            return np.random.uniform(lower, upper, size=n_features)\n",
    "        else:\n",
    "            raise ValueError(\"Invalid initialization method.\")\n",
    "\n",
    "    def mse(self, y_true, y_pred):\n",
    "        y_true = np.array(y_true).reshape(-1)\n",
    "        y_pred = np.array(y_pred).reshape(-1)\n",
    "        return np.mean((y_pred - y_true)**2)\n",
    "\n",
    "    def r2_score(self, y_true, y_pred):\n",
    "        ss_total = np.sum((y_true - np.mean(y_true)) ** 2)\n",
    "        ss_residual = np.sum((y_true - y_pred) ** 2)\n",
    "        return 1 - (ss_residual / ss_total)\n",
    "\n",
    "    def predict(self, X):\n",
    "        return X @ self.theta\n",
    "\n",
    "    def _train(self, X, y):\n",
    "        # Compute prediction and gradient\n",
    "        yhat = self.predict(X)\n",
    "        m = X.shape[0]\n",
    "        grad = (1/m) * (X.T @ (yhat - y))\n",
    "        if self.regularization:\n",
    "            grad += self.regularization.derivation(self.theta)\n",
    "        # Update with learning rate and (optional) momentum\n",
    "        step = self.lr * grad\n",
    "        if self.use_momentum:\n",
    "            step += self.momentum * self.prev_step\n",
    "            self.prev_step = step\n",
    "        self.theta = self.theta - step\n",
    "        return self.mse(y, yhat)\n",
    "\n",
    "    def fit(self, X_train, y_train):\n",
    "        X_train = np.array(X_train)\n",
    "        y_train = np.array(y_train)\n",
    "        self.kfold_scores = []  # reset cv scores\n",
    "\n",
    "        # Cross-validation loop\n",
    "        for fold, (train_idx, val_idx) in enumerate(self.cv.split(X_train)):\n",
    "            X_cv_train, y_cv_train = X_train[train_idx], y_train[train_idx]\n",
    "            X_cv_val, y_cv_val = X_train[val_idx], y_train[val_idx]\n",
    "\n",
    "            # Reset previous momentum and early-stopping tracking per fold\n",
    "            self.prev_step = 0\n",
    "            self.val_loss_old = np.inf\n",
    "\n",
    "            # Initialize weights for this fold\n",
    "            self.theta = self.initialize_weights(X_cv_train.shape[1])\n",
    "\n",
    "            # For logging per-fold, you could also start a nested mlflow run if desired.\n",
    "            for epoch in range(self.num_epochs):\n",
    "                # Shuffle (make sure to shuffle both X and y together)\n",
    "                perm = np.random.permutation(X_cv_train.shape[0])\n",
    "                X_cv_train = X_cv_train[perm]\n",
    "                y_cv_train = y_cv_train[perm]\n",
    "\n",
    "                # Choose gradient descent method\n",
    "                if self.method == 'sto':\n",
    "                    # Stochastic: update for each sample\n",
    "                    for i in range(X_cv_train.shape[0]):\n",
    "                        X_batch = X_cv_train[i].reshape(1, -1)\n",
    "                        y_batch = np.array([y_cv_train[i]])\n",
    "                        train_loss = self._train(X_batch, y_batch)\n",
    "                elif self.method == 'mini':\n",
    "                    # Mini-batch: update in batches of self.batch_size\n",
    "                    for i in range(0, X_cv_train.shape[0], self.batch_size):\n",
    "                        X_batch = X_cv_train[i:i+self.batch_size]\n",
    "                        y_batch = y_cv_train[i:i+self.batch_size]\n",
    "                        train_loss = self._train(X_batch, y_batch)\n",
    "                else:\n",
    "                    # Batch: update once per epoch using all training data\n",
    "                    train_loss = self._train(X_cv_train, y_cv_train)\n",
    "\n",
    "                # Validate on the fold's validation set\n",
    "                y_val_pred = self.predict(X_cv_val)\n",
    "                val_loss = self.mse(y_cv_val, y_val_pred)\n",
    "                # Early stopping if validation loss is not changing significantly\n",
    "                if np.allclose(val_loss, self.val_loss_old, atol=1e-6):\n",
    "                    break\n",
    "                self.val_loss_old = val_loss\n",
    "\n",
    "            self.kfold_scores.append({\n",
    "                \"mse\": val_loss,\n",
    "                \"r2\": self.r2_score(y_cv_val, self.predict(X_cv_val))\n",
    "            })\n",
    "\n",
    "    def plot_feature_importance(self, feature_names):\n",
    "        if len(self.theta) != len(feature_names):\n",
    "            raise ValueError(\"Feature names must match the number of coefficients.\")\n",
    "        # Skip bias term if present (assumes first coefficient is bias)\n",
    "        coef = self.theta.copy()\n",
    "        if len(coef) == len(feature_names) + 1:\n",
    "            coef = coef[1:]\n",
    "        # Get absolute importance and sort indices\n",
    "        abs_coef = np.abs(coef)\n",
    "        sorted_idx = np.argsort(abs_coef)[::-1]\n",
    "        plt.figure(figsize=(10, 5))\n",
    "        plt.barh([feature_names[i] for i in sorted_idx], abs_coef[sorted_idx], color='blue')\n",
    "        plt.xlabel(\"Absolute Coefficient Value\")\n",
    "        plt.ylabel(\"Feature\")\n",
    "        plt.title(\"Feature Importance\")\n",
    "        plt.gca().invert_yaxis()\n",
    "        plt.show()"
   ]
  },
  {
   "cell_type": "markdown",
   "metadata": {},
   "source": [
    "### Lasso, Ridge, & Normal Penalty\n"
   ]
  },
  {
   "cell_type": "code",
   "execution_count": 88,
   "metadata": {},
   "outputs": [],
   "source": [
    "# Penalty class\n",
    "class LassoPenalty:\n",
    "    \n",
    "    def __init__(self, l):\n",
    "        self.l = l # lambda value\n",
    "        \n",
    "    def __call__(self, theta): #__call__ allows us to call class as method\n",
    "        return self.l * np.sum(np.abs(theta))\n",
    "        \n",
    "    def derivation(self, theta):\n",
    "        return self.l * np.sign(theta)\n",
    "    \n",
    "class RidgePenalty:\n",
    "    \n",
    "    def __init__(self, l):\n",
    "        self.l = l\n",
    "        \n",
    "    def __call__(self, theta): #__call__ allows us to call class as method\n",
    "        return self.l * np.sum(np.square(theta))\n",
    "        \n",
    "    def derivation(self, theta):\n",
    "        return self.l * 2 * theta\n",
    "    \n",
    "class NormalPenalty:\n",
    "    \"\"\"No regularization (default linear regression).\"\"\"\n",
    "    def derivation(self, theta):\n",
    "        return 0  # No penalty\n",
    "\n",
    "# Penalty functions\n",
    "      \n",
    "class Lasso(LinearRegression):\n",
    "    \n",
    "    def __init__(self, method, lr, l):\n",
    "        self.regularization = LassoPenalty(l)\n",
    "        super().__init__(self.regularization, lr, method)\n",
    "        \n",
    "class Ridge(LinearRegression):\n",
    "    \n",
    "    def __init__(self, method, lr, l):\n",
    "        self.regularization = RidgePenalty(l)\n",
    "        super().__init__(self.regularization, lr, method)\n",
    "\n",
    "class Normal(LinearRegression):\n",
    "    \"\"\"Standard Linear Regression without L1/L2 penalty.\"\"\"\n",
    "    def __init__(self, method, lr):\n",
    "        self.regularization = NormalPenalty()\n",
    "        super().__init__(self.regularization, lr, method)\n"
   ]
  },
  {
   "cell_type": "markdown",
   "metadata": {},
   "source": [
    "# Training Data\n"
   ]
  },
  {
   "cell_type": "code",
   "execution_count": 89,
   "metadata": {},
   "outputs": [
    {
     "name": "stdout",
     "output_type": "stream",
     "text": [
      "Run Polynomial_lr_0.01_sto_mom_True_init_zero - Fold 0: MSE = inf, R2 = -inf\n",
      "Run Polynomial_lr_0.01_sto_mom_True_init_zero - Fold 1: MSE = inf, R2 = -inf\n",
      "Run Polynomial_lr_0.01_sto_mom_True_init_zero - Fold 2: MSE = inf, R2 = -inf\n",
      "Run Polynomial_lr_0.01_sto_mom_True_init_zero - Fold 3: MSE = inf, R2 = -inf\n",
      "Run Polynomial_lr_0.01_sto_mom_True_init_zero - Fold 4: MSE = inf, R2 = -inf\n",
      "Run Polynomial_lr_0.01_sto_mom_True_init_zero - Average CV MSE: inf, Average CV R2: -inf\n",
      "Completed run: Polynomial_lr_0.01_sto_mom_True_init_zero => CV R2: -inf\n",
      "🏃 View run Polynomial_lr_0.01_sto_mom_True_init_zero at: http://localhost:5001/#/experiments/952159732461498036/runs/ba24faf2ec34430f9083fd850707f832\n",
      "🧪 View experiment at: http://localhost:5001/#/experiments/952159732461498036\n",
      "Run Polynomial_lr_0.01_sto_mom_True_init_xavier - Fold 0: MSE = inf, R2 = -inf\n",
      "Run Polynomial_lr_0.01_sto_mom_True_init_xavier - Fold 1: MSE = inf, R2 = -inf\n",
      "Run Polynomial_lr_0.01_sto_mom_True_init_xavier - Fold 2: MSE = inf, R2 = -inf\n",
      "Run Polynomial_lr_0.01_sto_mom_True_init_xavier - Fold 3: MSE = inf, R2 = -inf\n",
      "Run Polynomial_lr_0.01_sto_mom_True_init_xavier - Fold 4: MSE = inf, R2 = -inf\n",
      "Run Polynomial_lr_0.01_sto_mom_True_init_xavier - Average CV MSE: inf, Average CV R2: -inf\n",
      "Completed run: Polynomial_lr_0.01_sto_mom_True_init_xavier => CV R2: -inf\n",
      "🏃 View run Polynomial_lr_0.01_sto_mom_True_init_xavier at: http://localhost:5001/#/experiments/952159732461498036/runs/53d7ebe5d943437ba53132f8ed59ec78\n",
      "🧪 View experiment at: http://localhost:5001/#/experiments/952159732461498036\n",
      "Run Polynomial_lr_0.01_sto_mom_False_init_zero - Fold 0: MSE = inf, R2 = -inf\n",
      "Run Polynomial_lr_0.01_sto_mom_False_init_zero - Fold 1: MSE = inf, R2 = -inf\n",
      "Run Polynomial_lr_0.01_sto_mom_False_init_zero - Fold 2: MSE = inf, R2 = -inf\n",
      "Run Polynomial_lr_0.01_sto_mom_False_init_zero - Fold 3: MSE = inf, R2 = -inf\n",
      "Run Polynomial_lr_0.01_sto_mom_False_init_zero - Fold 4: MSE = inf, R2 = -inf\n",
      "Run Polynomial_lr_0.01_sto_mom_False_init_zero - Average CV MSE: inf, Average CV R2: -inf\n",
      "Completed run: Polynomial_lr_0.01_sto_mom_False_init_zero => CV R2: -inf\n",
      "🏃 View run Polynomial_lr_0.01_sto_mom_False_init_zero at: http://localhost:5001/#/experiments/952159732461498036/runs/3b64fcb786af4adeaaf63b3666e0addd\n",
      "🧪 View experiment at: http://localhost:5001/#/experiments/952159732461498036\n",
      "Run Polynomial_lr_0.01_sto_mom_False_init_xavier - Fold 0: MSE = inf, R2 = -inf\n",
      "Run Polynomial_lr_0.01_sto_mom_False_init_xavier - Fold 1: MSE = inf, R2 = -inf\n",
      "Run Polynomial_lr_0.01_sto_mom_False_init_xavier - Fold 2: MSE = inf, R2 = -inf\n",
      "Run Polynomial_lr_0.01_sto_mom_False_init_xavier - Fold 3: MSE = inf, R2 = -inf\n",
      "Run Polynomial_lr_0.01_sto_mom_False_init_xavier - Fold 4: MSE = inf, R2 = -inf\n",
      "Run Polynomial_lr_0.01_sto_mom_False_init_xavier - Average CV MSE: inf, Average CV R2: -inf\n",
      "Completed run: Polynomial_lr_0.01_sto_mom_False_init_xavier => CV R2: -inf\n",
      "🏃 View run Polynomial_lr_0.01_sto_mom_False_init_xavier at: http://localhost:5001/#/experiments/952159732461498036/runs/ed3ccb2d4bdb497a9bea698d8dbf125c\n",
      "🧪 View experiment at: http://localhost:5001/#/experiments/952159732461498036\n",
      "Run Polynomial_lr_0.01_mini_mom_True_init_zero - Fold 0: MSE = 0.1072, R2 = 0.8448\n",
      "Run Polynomial_lr_0.01_mini_mom_True_init_zero - Fold 1: MSE = 0.0896, R2 = 0.8763\n",
      "Run Polynomial_lr_0.01_mini_mom_True_init_zero - Fold 2: MSE = 0.0945, R2 = 0.8685\n",
      "Run Polynomial_lr_0.01_mini_mom_True_init_zero - Fold 3: MSE = 0.0924, R2 = 0.8705\n",
      "Run Polynomial_lr_0.01_mini_mom_True_init_zero - Fold 4: MSE = 0.0855, R2 = 0.8707\n",
      "Run Polynomial_lr_0.01_mini_mom_True_init_zero - Average CV MSE: 0.0938, Average CV R2: 0.8661\n",
      "Completed run: Polynomial_lr_0.01_mini_mom_True_init_zero => CV R2: 0.8661\n",
      "🏃 View run Polynomial_lr_0.01_mini_mom_True_init_zero at: http://localhost:5001/#/experiments/952159732461498036/runs/a6a8026c96e1401fad096b5d796279c3\n",
      "🧪 View experiment at: http://localhost:5001/#/experiments/952159732461498036\n",
      "Run Polynomial_lr_0.01_mini_mom_True_init_xavier - Fold 0: MSE = 0.0908, R2 = 0.8685\n",
      "Run Polynomial_lr_0.01_mini_mom_True_init_xavier - Fold 1: MSE = 0.0883, R2 = 0.8780\n",
      "Run Polynomial_lr_0.01_mini_mom_True_init_xavier - Fold 2: MSE = 0.0919, R2 = 0.8720\n",
      "Run Polynomial_lr_0.01_mini_mom_True_init_xavier - Fold 3: MSE = 0.1422, R2 = 0.8007\n",
      "Run Polynomial_lr_0.01_mini_mom_True_init_xavier - Fold 4: MSE = 0.1705, R2 = 0.7420\n",
      "Run Polynomial_lr_0.01_mini_mom_True_init_xavier - Average CV MSE: 0.1168, Average CV R2: 0.8322\n",
      "Completed run: Polynomial_lr_0.01_mini_mom_True_init_xavier => CV R2: 0.8322\n",
      "🏃 View run Polynomial_lr_0.01_mini_mom_True_init_xavier at: http://localhost:5001/#/experiments/952159732461498036/runs/44af6fc9b01340a7aef130095d45da46\n",
      "🧪 View experiment at: http://localhost:5001/#/experiments/952159732461498036\n",
      "Run Polynomial_lr_0.01_mini_mom_False_init_zero - Fold 0: MSE = 0.0908, R2 = 0.8686\n",
      "Run Polynomial_lr_0.01_mini_mom_False_init_zero - Fold 1: MSE = 0.0885, R2 = 0.8778\n",
      "Run Polynomial_lr_0.01_mini_mom_False_init_zero - Fold 2: MSE = 0.0887, R2 = 0.8765\n",
      "Run Polynomial_lr_0.01_mini_mom_False_init_zero - Fold 3: MSE = 0.0837, R2 = 0.8827\n",
      "Run Polynomial_lr_0.01_mini_mom_False_init_zero - Fold 4: MSE = 0.0812, R2 = 0.8772\n",
      "Run Polynomial_lr_0.01_mini_mom_False_init_zero - Average CV MSE: 0.0866, Average CV R2: 0.8765\n",
      "Completed run: Polynomial_lr_0.01_mini_mom_False_init_zero => CV R2: 0.8765\n",
      "🏃 View run Polynomial_lr_0.01_mini_mom_False_init_zero at: http://localhost:5001/#/experiments/952159732461498036/runs/74f43e4c15d9413db3969482ef1a1b67\n",
      "🧪 View experiment at: http://localhost:5001/#/experiments/952159732461498036\n",
      "Run Polynomial_lr_0.01_mini_mom_False_init_xavier - Fold 0: MSE = 0.0916, R2 = 0.8673\n",
      "Run Polynomial_lr_0.01_mini_mom_False_init_xavier - Fold 1: MSE = 0.0896, R2 = 0.8763\n",
      "Run Polynomial_lr_0.01_mini_mom_False_init_xavier - Fold 2: MSE = 0.0892, R2 = 0.8758\n",
      "Run Polynomial_lr_0.01_mini_mom_False_init_xavier - Fold 3: MSE = 0.0844, R2 = 0.8817\n",
      "Run Polynomial_lr_0.01_mini_mom_False_init_xavier - Fold 4: MSE = 0.0807, R2 = 0.8778\n",
      "Run Polynomial_lr_0.01_mini_mom_False_init_xavier - Average CV MSE: 0.0871, Average CV R2: 0.8758\n",
      "Completed run: Polynomial_lr_0.01_mini_mom_False_init_xavier => CV R2: 0.8758\n",
      "🏃 View run Polynomial_lr_0.01_mini_mom_False_init_xavier at: http://localhost:5001/#/experiments/952159732461498036/runs/aabd5ed35f4e468e8ce3dadc1f3f8c38\n",
      "🧪 View experiment at: http://localhost:5001/#/experiments/952159732461498036\n",
      "Run Polynomial_lr_0.01_batch_mom_True_init_zero - Fold 0: MSE = 0.7069, R2 = -0.0239\n",
      "Run Polynomial_lr_0.01_batch_mom_True_init_zero - Fold 1: MSE = 0.5672, R2 = 0.2166\n",
      "Run Polynomial_lr_0.01_batch_mom_True_init_zero - Fold 2: MSE = 0.5415, R2 = 0.2463\n",
      "Run Polynomial_lr_0.01_batch_mom_True_init_zero - Fold 3: MSE = 0.6401, R2 = 0.1028\n",
      "Run Polynomial_lr_0.01_batch_mom_True_init_zero - Fold 4: MSE = 0.6372, R2 = 0.0357\n",
      "Run Polynomial_lr_0.01_batch_mom_True_init_zero - Average CV MSE: 0.6186, Average CV R2: 0.1155\n",
      "Completed run: Polynomial_lr_0.01_batch_mom_True_init_zero => CV R2: 0.1155\n",
      "🏃 View run Polynomial_lr_0.01_batch_mom_True_init_zero at: http://localhost:5001/#/experiments/952159732461498036/runs/91f53c12721947faac5b7f3bfaaeae0e\n",
      "🧪 View experiment at: http://localhost:5001/#/experiments/952159732461498036\n",
      "Run Polynomial_lr_0.01_batch_mom_True_init_xavier - Fold 0: MSE = 0.6771, R2 = 0.0193\n",
      "Run Polynomial_lr_0.01_batch_mom_True_init_xavier - Fold 1: MSE = 0.5469, R2 = 0.2446\n",
      "Run Polynomial_lr_0.01_batch_mom_True_init_xavier - Fold 2: MSE = 0.5355, R2 = 0.2546\n",
      "Run Polynomial_lr_0.01_batch_mom_True_init_xavier - Fold 3: MSE = 0.6365, R2 = 0.1079\n",
      "Run Polynomial_lr_0.01_batch_mom_True_init_xavier - Fold 4: MSE = 0.6034, R2 = 0.0869\n",
      "Run Polynomial_lr_0.01_batch_mom_True_init_xavier - Average CV MSE: 0.5999, Average CV R2: 0.1427\n",
      "Completed run: Polynomial_lr_0.01_batch_mom_True_init_xavier => CV R2: 0.1427\n",
      "🏃 View run Polynomial_lr_0.01_batch_mom_True_init_xavier at: http://localhost:5001/#/experiments/952159732461498036/runs/bdf2370a665c45ea93457e512e293f69\n",
      "🧪 View experiment at: http://localhost:5001/#/experiments/952159732461498036\n",
      "Run Polynomial_lr_0.01_batch_mom_False_init_zero - Fold 0: MSE = 22.8433, R2 = -32.0843\n",
      "Run Polynomial_lr_0.01_batch_mom_False_init_zero - Fold 1: MSE = 20.2427, R2 = -26.9594\n",
      "Run Polynomial_lr_0.01_batch_mom_False_init_zero - Fold 2: MSE = 20.7311, R2 = -27.8573\n",
      "Run Polynomial_lr_0.01_batch_mom_False_init_zero - Fold 3: MSE = 21.9016, R2 = -29.6962\n",
      "Run Polynomial_lr_0.01_batch_mom_False_init_zero - Fold 4: MSE = 22.1397, R2 = -32.5039\n",
      "Run Polynomial_lr_0.01_batch_mom_False_init_zero - Average CV MSE: 21.5717, Average CV R2: -29.8202\n",
      "Completed run: Polynomial_lr_0.01_batch_mom_False_init_zero => CV R2: -29.8202\n",
      "🏃 View run Polynomial_lr_0.01_batch_mom_False_init_zero at: http://localhost:5001/#/experiments/952159732461498036/runs/1c64084069004e20a6b7eb98c7269b3f\n",
      "🧪 View experiment at: http://localhost:5001/#/experiments/952159732461498036\n",
      "Run Polynomial_lr_0.01_batch_mom_False_init_xavier - Fold 0: MSE = 22.9661, R2 = -32.2621\n",
      "Run Polynomial_lr_0.01_batch_mom_False_init_xavier - Fold 1: MSE = 20.1594, R2 = -26.8443\n",
      "Run Polynomial_lr_0.01_batch_mom_False_init_xavier - Fold 2: MSE = 20.1403, R2 = -27.0349\n",
      "Run Polynomial_lr_0.01_batch_mom_False_init_xavier - Fold 3: MSE = 22.3685, R2 = -30.3506\n",
      "Run Polynomial_lr_0.01_batch_mom_False_init_xavier - Fold 4: MSE = 21.9773, R2 = -32.2581\n",
      "Run Polynomial_lr_0.01_batch_mom_False_init_xavier - Average CV MSE: 21.5223, Average CV R2: -29.7500\n",
      "Completed run: Polynomial_lr_0.01_batch_mom_False_init_xavier => CV R2: -29.7500\n",
      "🏃 View run Polynomial_lr_0.01_batch_mom_False_init_xavier at: http://localhost:5001/#/experiments/952159732461498036/runs/9faa2d933f584373a5d7414adf19553e\n",
      "🧪 View experiment at: http://localhost:5001/#/experiments/952159732461498036\n",
      "Run Polynomial_lr_0.001_sto_mom_True_init_zero - Fold 0: MSE = inf, R2 = -inf\n",
      "Run Polynomial_lr_0.001_sto_mom_True_init_zero - Fold 1: MSE = inf, R2 = -inf\n",
      "Run Polynomial_lr_0.001_sto_mom_True_init_zero - Fold 2: MSE = inf, R2 = -inf\n",
      "Run Polynomial_lr_0.001_sto_mom_True_init_zero - Fold 3: MSE = inf, R2 = -inf\n",
      "Run Polynomial_lr_0.001_sto_mom_True_init_zero - Fold 4: MSE = inf, R2 = -inf\n",
      "Run Polynomial_lr_0.001_sto_mom_True_init_zero - Average CV MSE: inf, Average CV R2: -inf\n",
      "Completed run: Polynomial_lr_0.001_sto_mom_True_init_zero => CV R2: -inf\n",
      "🏃 View run Polynomial_lr_0.001_sto_mom_True_init_zero at: http://localhost:5001/#/experiments/952159732461498036/runs/712b3700a0854ab8a7e9dfbecadcdea2\n",
      "🧪 View experiment at: http://localhost:5001/#/experiments/952159732461498036\n",
      "Run Polynomial_lr_0.001_sto_mom_True_init_xavier - Fold 0: MSE = inf, R2 = -inf\n",
      "Run Polynomial_lr_0.001_sto_mom_True_init_xavier - Fold 1: MSE = inf, R2 = -inf\n",
      "Run Polynomial_lr_0.001_sto_mom_True_init_xavier - Fold 2: MSE = inf, R2 = -inf\n",
      "Run Polynomial_lr_0.001_sto_mom_True_init_xavier - Fold 3: MSE = inf, R2 = -inf\n",
      "Run Polynomial_lr_0.001_sto_mom_True_init_xavier - Fold 4: MSE = 1636657366720175081696538179199253544285456866340195457391243180488085785544505081573342379469603024027553269123555295081515746852575671692748896699860235558935971465235083190213506821157151344462559296187754508253789920756297234986437445242334066780718800975558249387205273968432050601984.0000, R2 = -2476740724447112193177494756179315827977382875333922355177545940640230420800385784719642275659361997585319236991043719620098384523467778182133375202605698621209498085274896668534408891093030736142751634874698825459241967471945797744901915342162521008480392634573794704546990791804787359744.0000\n",
      "Run Polynomial_lr_0.001_sto_mom_True_init_xavier - Average CV MSE: inf, Average CV R2: -inf\n",
      "Completed run: Polynomial_lr_0.001_sto_mom_True_init_xavier => CV R2: -inf\n",
      "🏃 View run Polynomial_lr_0.001_sto_mom_True_init_xavier at: http://localhost:5001/#/experiments/952159732461498036/runs/163b7a02abd54e1fbfb263b4be9af7b8\n",
      "🧪 View experiment at: http://localhost:5001/#/experiments/952159732461498036\n",
      "Run Polynomial_lr_0.001_sto_mom_False_init_zero - Fold 0: MSE = 0.0892, R2 = 0.8708\n",
      "Run Polynomial_lr_0.001_sto_mom_False_init_zero - Fold 1: MSE = 0.0898, R2 = 0.8759\n",
      "Run Polynomial_lr_0.001_sto_mom_False_init_zero - Fold 2: MSE = 0.0895, R2 = 0.8754\n",
      "Run Polynomial_lr_0.001_sto_mom_False_init_zero - Fold 3: MSE = 0.0849, R2 = 0.8810\n",
      "Run Polynomial_lr_0.001_sto_mom_False_init_zero - Fold 4: MSE = 0.0803, R2 = 0.8785\n",
      "Run Polynomial_lr_0.001_sto_mom_False_init_zero - Average CV MSE: 0.0867, Average CV R2: 0.8763\n",
      "Completed run: Polynomial_lr_0.001_sto_mom_False_init_zero => CV R2: 0.8763\n",
      "🏃 View run Polynomial_lr_0.001_sto_mom_False_init_zero at: http://localhost:5001/#/experiments/952159732461498036/runs/0a2ff0d602f64575bcee1d7789bbfc4e\n",
      "🧪 View experiment at: http://localhost:5001/#/experiments/952159732461498036\n",
      "Run Polynomial_lr_0.001_sto_mom_False_init_xavier - Fold 0: MSE = 0.0940, R2 = 0.8638\n",
      "Run Polynomial_lr_0.001_sto_mom_False_init_xavier - Fold 1: MSE = 0.0906, R2 = 0.8749\n",
      "Run Polynomial_lr_0.001_sto_mom_False_init_xavier - Fold 2: MSE = 0.0892, R2 = 0.8759\n",
      "Run Polynomial_lr_0.001_sto_mom_False_init_xavier - Fold 3: MSE = 0.0867, R2 = 0.8785\n",
      "Run Polynomial_lr_0.001_sto_mom_False_init_xavier - Fold 4: MSE = 0.0845, R2 = 0.8721\n",
      "Run Polynomial_lr_0.001_sto_mom_False_init_xavier - Average CV MSE: 0.0890, Average CV R2: 0.8730\n",
      "Completed run: Polynomial_lr_0.001_sto_mom_False_init_xavier => CV R2: 0.8730\n",
      "🏃 View run Polynomial_lr_0.001_sto_mom_False_init_xavier at: http://localhost:5001/#/experiments/952159732461498036/runs/2b97af99a23d42abbfce8fd86e7e818c\n",
      "🧪 View experiment at: http://localhost:5001/#/experiments/952159732461498036\n",
      "Run Polynomial_lr_0.001_mini_mom_True_init_zero - Fold 0: MSE = 0.0933, R2 = 0.8649\n",
      "Run Polynomial_lr_0.001_mini_mom_True_init_zero - Fold 1: MSE = 0.0931, R2 = 0.8714\n",
      "Run Polynomial_lr_0.001_mini_mom_True_init_zero - Fold 2: MSE = 0.0888, R2 = 0.8764\n",
      "Run Polynomial_lr_0.001_mini_mom_True_init_zero - Fold 3: MSE = 0.0828, R2 = 0.8839\n",
      "Run Polynomial_lr_0.001_mini_mom_True_init_zero - Fold 4: MSE = 0.0803, R2 = 0.8785\n",
      "Run Polynomial_lr_0.001_mini_mom_True_init_zero - Average CV MSE: 0.0877, Average CV R2: 0.8750\n",
      "Completed run: Polynomial_lr_0.001_mini_mom_True_init_zero => CV R2: 0.8750\n",
      "🏃 View run Polynomial_lr_0.001_mini_mom_True_init_zero at: http://localhost:5001/#/experiments/952159732461498036/runs/4b1058d755a64148ac98088f0cfd7a58\n",
      "🧪 View experiment at: http://localhost:5001/#/experiments/952159732461498036\n",
      "Run Polynomial_lr_0.001_mini_mom_True_init_xavier - Fold 0: MSE = 0.0904, R2 = 0.8691\n",
      "Run Polynomial_lr_0.001_mini_mom_True_init_xavier - Fold 1: MSE = 0.0890, R2 = 0.8771\n",
      "Run Polynomial_lr_0.001_mini_mom_True_init_xavier - Fold 2: MSE = 0.0907, R2 = 0.8737\n",
      "Run Polynomial_lr_0.001_mini_mom_True_init_xavier - Fold 3: MSE = 0.0831, R2 = 0.8835\n",
      "Run Polynomial_lr_0.001_mini_mom_True_init_xavier - Fold 4: MSE = 0.0804, R2 = 0.8783\n",
      "Run Polynomial_lr_0.001_mini_mom_True_init_xavier - Average CV MSE: 0.0867, Average CV R2: 0.8763\n",
      "Completed run: Polynomial_lr_0.001_mini_mom_True_init_xavier => CV R2: 0.8763\n",
      "🏃 View run Polynomial_lr_0.001_mini_mom_True_init_xavier at: http://localhost:5001/#/experiments/952159732461498036/runs/754a83ee2aed4668bbec4002ba36377e\n",
      "🧪 View experiment at: http://localhost:5001/#/experiments/952159732461498036\n",
      "Run Polynomial_lr_0.001_mini_mom_False_init_zero - Fold 0: MSE = 0.5137, R2 = 0.2560\n",
      "Run Polynomial_lr_0.001_mini_mom_False_init_zero - Fold 1: MSE = 0.3813, R2 = 0.4733\n",
      "Run Polynomial_lr_0.001_mini_mom_False_init_zero - Fold 2: MSE = 0.3316, R2 = 0.5384\n",
      "Run Polynomial_lr_0.001_mini_mom_False_init_zero - Fold 3: MSE = 0.4391, R2 = 0.3846\n",
      "Run Polynomial_lr_0.001_mini_mom_False_init_zero - Fold 4: MSE = 0.3977, R2 = 0.3982\n",
      "Run Polynomial_lr_0.001_mini_mom_False_init_zero - Average CV MSE: 0.4127, Average CV R2: 0.4101\n",
      "Completed run: Polynomial_lr_0.001_mini_mom_False_init_zero => CV R2: 0.4101\n",
      "🏃 View run Polynomial_lr_0.001_mini_mom_False_init_zero at: http://localhost:5001/#/experiments/952159732461498036/runs/6923ac7c7e4242fb91bbfa570a8a1f93\n",
      "🧪 View experiment at: http://localhost:5001/#/experiments/952159732461498036\n",
      "Run Polynomial_lr_0.001_mini_mom_False_init_xavier - Fold 0: MSE = 0.4930, R2 = 0.2860\n",
      "Run Polynomial_lr_0.001_mini_mom_False_init_xavier - Fold 1: MSE = 0.3922, R2 = 0.4584\n",
      "Run Polynomial_lr_0.001_mini_mom_False_init_xavier - Fold 2: MSE = 0.3157, R2 = 0.5605\n",
      "Run Polynomial_lr_0.001_mini_mom_False_init_xavier - Fold 3: MSE = 0.4419, R2 = 0.3807\n",
      "Run Polynomial_lr_0.001_mini_mom_False_init_xavier - Fold 4: MSE = 0.3935, R2 = 0.4045\n",
      "Run Polynomial_lr_0.001_mini_mom_False_init_xavier - Average CV MSE: 0.4073, Average CV R2: 0.4180\n",
      "Completed run: Polynomial_lr_0.001_mini_mom_False_init_xavier => CV R2: 0.4180\n",
      "🏃 View run Polynomial_lr_0.001_mini_mom_False_init_xavier at: http://localhost:5001/#/experiments/952159732461498036/runs/10116ef9106c467385d466bf9d2595c5\n",
      "🧪 View experiment at: http://localhost:5001/#/experiments/952159732461498036\n",
      "Run Polynomial_lr_0.001_batch_mom_True_init_zero - Fold 0: MSE = 26.2869, R2 = -37.0717\n",
      "Run Polynomial_lr_0.001_batch_mom_True_init_zero - Fold 1: MSE = 22.5665, R2 = -30.1690\n",
      "Run Polynomial_lr_0.001_batch_mom_True_init_zero - Fold 2: MSE = 23.0938, R2 = -31.1462\n",
      "Run Polynomial_lr_0.001_batch_mom_True_init_zero - Fold 3: MSE = 24.2580, R2 = -32.9989\n",
      "Run Polynomial_lr_0.001_batch_mom_True_init_zero - Fold 4: MSE = 23.8008, R2 = -35.0176\n",
      "Run Polynomial_lr_0.001_batch_mom_True_init_zero - Average CV MSE: 24.0012, Average CV R2: -33.2807\n",
      "Completed run: Polynomial_lr_0.001_batch_mom_True_init_zero => CV R2: -33.2807\n",
      "🏃 View run Polynomial_lr_0.001_batch_mom_True_init_zero at: http://localhost:5001/#/experiments/952159732461498036/runs/5a52cdf952f149168c135a2ca51e8def\n",
      "🧪 View experiment at: http://localhost:5001/#/experiments/952159732461498036\n",
      "Run Polynomial_lr_0.001_batch_mom_True_init_xavier - Fold 0: MSE = 26.5969, R2 = -37.5206\n",
      "Run Polynomial_lr_0.001_batch_mom_True_init_xavier - Fold 1: MSE = 23.4255, R2 = -31.3556\n",
      "Run Polynomial_lr_0.001_batch_mom_True_init_xavier - Fold 2: MSE = 22.7628, R2 = -30.6854\n",
      "Run Polynomial_lr_0.001_batch_mom_True_init_xavier - Fold 3: MSE = 24.9236, R2 = -33.9317\n",
      "Run Polynomial_lr_0.001_batch_mom_True_init_xavier - Fold 4: MSE = 24.1569, R2 = -35.5565\n",
      "Run Polynomial_lr_0.001_batch_mom_True_init_xavier - Average CV MSE: 24.3731, Average CV R2: -33.8100\n",
      "Completed run: Polynomial_lr_0.001_batch_mom_True_init_xavier => CV R2: -33.8100\n",
      "🏃 View run Polynomial_lr_0.001_batch_mom_True_init_xavier at: http://localhost:5001/#/experiments/952159732461498036/runs/8b64314883e64005a2c822d04ec6ad88\n",
      "🧪 View experiment at: http://localhost:5001/#/experiments/952159732461498036\n",
      "Run Polynomial_lr_0.001_batch_mom_False_init_zero - Fold 0: MSE = 91.3713, R2 = -131.3343\n",
      "Run Polynomial_lr_0.001_batch_mom_False_init_zero - Fold 1: MSE = 91.9468, R2 = -125.9977\n",
      "Run Polynomial_lr_0.001_batch_mom_False_init_zero - Fold 2: MSE = 92.6729, R2 = -127.9993\n",
      "Run Polynomial_lr_0.001_batch_mom_False_init_zero - Fold 3: MSE = 92.7968, R2 = -129.0597\n",
      "Run Polynomial_lr_0.001_batch_mom_False_init_zero - Fold 4: MSE = 93.9004, R2 = -141.0987\n",
      "Run Polynomial_lr_0.001_batch_mom_False_init_zero - Average CV MSE: 92.5376, Average CV R2: -131.0979\n",
      "Completed run: Polynomial_lr_0.001_batch_mom_False_init_zero => CV R2: -131.0979\n",
      "🏃 View run Polynomial_lr_0.001_batch_mom_False_init_zero at: http://localhost:5001/#/experiments/952159732461498036/runs/d784494bdc46478bba4322eb55dd5ebe\n",
      "🧪 View experiment at: http://localhost:5001/#/experiments/952159732461498036\n",
      "Run Polynomial_lr_0.001_batch_mom_False_init_xavier - Fold 0: MSE = 96.8126, R2 = -139.2150\n",
      "Run Polynomial_lr_0.001_batch_mom_False_init_xavier - Fold 1: MSE = 90.2341, R2 = -123.6322\n",
      "Run Polynomial_lr_0.001_batch_mom_False_init_xavier - Fold 2: MSE = 88.2367, R2 = -121.8243\n",
      "Run Polynomial_lr_0.001_batch_mom_False_init_xavier - Fold 3: MSE = 90.9704, R2 = -126.4999\n",
      "Run Polynomial_lr_0.001_batch_mom_False_init_xavier - Fold 4: MSE = 96.4204, R2 = -144.9123\n",
      "Run Polynomial_lr_0.001_batch_mom_False_init_xavier - Average CV MSE: 92.5349, Average CV R2: -131.2167\n",
      "Completed run: Polynomial_lr_0.001_batch_mom_False_init_xavier => CV R2: -131.2167\n",
      "🏃 View run Polynomial_lr_0.001_batch_mom_False_init_xavier at: http://localhost:5001/#/experiments/952159732461498036/runs/ec80c210cf7548c6ba1f63cc6809f8d7\n",
      "🧪 View experiment at: http://localhost:5001/#/experiments/952159732461498036\n",
      "Run Polynomial_lr_0.0001_sto_mom_True_init_zero - Fold 0: MSE = 0.0897, R2 = 0.8700\n",
      "Run Polynomial_lr_0.0001_sto_mom_True_init_zero - Fold 1: MSE = 0.0877, R2 = 0.8789\n",
      "Run Polynomial_lr_0.0001_sto_mom_True_init_zero - Fold 2: MSE = 0.1206, R2 = 0.8321\n",
      "Run Polynomial_lr_0.0001_sto_mom_True_init_zero - Fold 3: MSE = 0.0857, R2 = 0.8798\n",
      "Run Polynomial_lr_0.0001_sto_mom_True_init_zero - Fold 4: MSE = 0.0823, R2 = 0.8754\n",
      "Run Polynomial_lr_0.0001_sto_mom_True_init_zero - Average CV MSE: 0.0932, Average CV R2: 0.8673\n",
      "Completed run: Polynomial_lr_0.0001_sto_mom_True_init_zero => CV R2: 0.8673\n",
      "🏃 View run Polynomial_lr_0.0001_sto_mom_True_init_zero at: http://localhost:5001/#/experiments/952159732461498036/runs/e7928a7ff3ce41e484427f2be4f0f347\n",
      "🧪 View experiment at: http://localhost:5001/#/experiments/952159732461498036\n",
      "Run Polynomial_lr_0.0001_sto_mom_True_init_xavier - Fold 0: MSE = 0.0919, R2 = 0.8669\n",
      "Run Polynomial_lr_0.0001_sto_mom_True_init_xavier - Fold 1: MSE = 0.0891, R2 = 0.8769\n",
      "Run Polynomial_lr_0.0001_sto_mom_True_init_xavier - Fold 2: MSE = 0.0953, R2 = 0.8674\n",
      "Run Polynomial_lr_0.0001_sto_mom_True_init_xavier - Fold 3: MSE = 0.0833, R2 = 0.8832\n",
      "Run Polynomial_lr_0.0001_sto_mom_True_init_xavier - Fold 4: MSE = 0.0812, R2 = 0.8771\n",
      "Run Polynomial_lr_0.0001_sto_mom_True_init_xavier - Average CV MSE: 0.0882, Average CV R2: 0.8743\n",
      "Completed run: Polynomial_lr_0.0001_sto_mom_True_init_xavier => CV R2: 0.8743\n",
      "🏃 View run Polynomial_lr_0.0001_sto_mom_True_init_xavier at: http://localhost:5001/#/experiments/952159732461498036/runs/9289e4643d724446a0c3753a24b07934\n",
      "🧪 View experiment at: http://localhost:5001/#/experiments/952159732461498036\n",
      "Run Polynomial_lr_0.0001_sto_mom_False_init_zero - Fold 0: MSE = 0.0943, R2 = 0.8634\n",
      "Run Polynomial_lr_0.0001_sto_mom_False_init_zero - Fold 1: MSE = 0.0917, R2 = 0.8733\n",
      "Run Polynomial_lr_0.0001_sto_mom_False_init_zero - Fold 2: MSE = 0.0933, R2 = 0.8701\n",
      "Run Polynomial_lr_0.0001_sto_mom_False_init_zero - Fold 3: MSE = 0.0858, R2 = 0.8798\n",
      "Run Polynomial_lr_0.0001_sto_mom_False_init_zero - Fold 4: MSE = 0.0819, R2 = 0.8760\n",
      "Run Polynomial_lr_0.0001_sto_mom_False_init_zero - Average CV MSE: 0.0894, Average CV R2: 0.8725\n",
      "Completed run: Polynomial_lr_0.0001_sto_mom_False_init_zero => CV R2: 0.8725\n",
      "🏃 View run Polynomial_lr_0.0001_sto_mom_False_init_zero at: http://localhost:5001/#/experiments/952159732461498036/runs/d7abdbbeba2e45f292487969cda5302b\n",
      "🧪 View experiment at: http://localhost:5001/#/experiments/952159732461498036\n",
      "Run Polynomial_lr_0.0001_sto_mom_False_init_xavier - Fold 0: MSE = 0.0954, R2 = 0.8618\n",
      "Run Polynomial_lr_0.0001_sto_mom_False_init_xavier - Fold 1: MSE = 0.0960, R2 = 0.8673\n",
      "Run Polynomial_lr_0.0001_sto_mom_False_init_xavier - Fold 2: MSE = 0.0916, R2 = 0.8724\n",
      "Run Polynomial_lr_0.0001_sto_mom_False_init_xavier - Fold 3: MSE = 0.0852, R2 = 0.8805\n",
      "Run Polynomial_lr_0.0001_sto_mom_False_init_xavier - Fold 4: MSE = 0.0832, R2 = 0.8741\n",
      "Run Polynomial_lr_0.0001_sto_mom_False_init_xavier - Average CV MSE: 0.0903, Average CV R2: 0.8712\n",
      "Completed run: Polynomial_lr_0.0001_sto_mom_False_init_xavier => CV R2: 0.8712\n",
      "🏃 View run Polynomial_lr_0.0001_sto_mom_False_init_xavier at: http://localhost:5001/#/experiments/952159732461498036/runs/255cf03a970d4826b8de0a3542cd048d\n",
      "🧪 View experiment at: http://localhost:5001/#/experiments/952159732461498036\n",
      "Run Polynomial_lr_0.0001_mini_mom_True_init_zero - Fold 0: MSE = 0.5116, R2 = 0.2591\n",
      "Run Polynomial_lr_0.0001_mini_mom_True_init_zero - Fold 1: MSE = 0.3805, R2 = 0.4744\n",
      "Run Polynomial_lr_0.0001_mini_mom_True_init_zero - Fold 2: MSE = 0.3306, R2 = 0.5398\n",
      "Run Polynomial_lr_0.0001_mini_mom_True_init_zero - Fold 3: MSE = 0.4363, R2 = 0.3885\n",
      "Run Polynomial_lr_0.0001_mini_mom_True_init_zero - Fold 4: MSE = 0.3953, R2 = 0.4017\n",
      "Run Polynomial_lr_0.0001_mini_mom_True_init_zero - Average CV MSE: 0.4109, Average CV R2: 0.4127\n",
      "Completed run: Polynomial_lr_0.0001_mini_mom_True_init_zero => CV R2: 0.4127\n",
      "🏃 View run Polynomial_lr_0.0001_mini_mom_True_init_zero at: http://localhost:5001/#/experiments/952159732461498036/runs/5f06cf7ca9f745df9cb754b3d84463a4\n",
      "🧪 View experiment at: http://localhost:5001/#/experiments/952159732461498036\n",
      "Run Polynomial_lr_0.0001_mini_mom_True_init_xavier - Fold 0: MSE = 0.5562, R2 = 0.1944\n",
      "Run Polynomial_lr_0.0001_mini_mom_True_init_xavier - Fold 1: MSE = 0.3803, R2 = 0.4747\n",
      "Run Polynomial_lr_0.0001_mini_mom_True_init_xavier - Fold 2: MSE = 0.3373, R2 = 0.5305\n",
      "Run Polynomial_lr_0.0001_mini_mom_True_init_xavier - Fold 3: MSE = 0.4042, R2 = 0.4335\n",
      "Run Polynomial_lr_0.0001_mini_mom_True_init_xavier - Fold 4: MSE = 0.3894, R2 = 0.4108\n",
      "Run Polynomial_lr_0.0001_mini_mom_True_init_xavier - Average CV MSE: 0.4135, Average CV R2: 0.4088\n",
      "Completed run: Polynomial_lr_0.0001_mini_mom_True_init_xavier => CV R2: 0.4088\n",
      "🏃 View run Polynomial_lr_0.0001_mini_mom_True_init_xavier at: http://localhost:5001/#/experiments/952159732461498036/runs/d2e8af874e594a1995509aa40e356f90\n",
      "🧪 View experiment at: http://localhost:5001/#/experiments/952159732461498036\n",
      "Run Polynomial_lr_0.0001_mini_mom_False_init_zero - Fold 0: MSE = 25.5774, R2 = -36.0440\n",
      "Run Polynomial_lr_0.0001_mini_mom_False_init_zero - Fold 1: MSE = 22.9024, R2 = -30.6330\n",
      "Run Polynomial_lr_0.0001_mini_mom_False_init_zero - Fold 2: MSE = 23.5271, R2 = -31.7493\n",
      "Run Polynomial_lr_0.0001_mini_mom_False_init_zero - Fold 3: MSE = 24.6732, R2 = -33.5808\n",
      "Run Polynomial_lr_0.0001_mini_mom_False_init_zero - Fold 4: MSE = 25.0161, R2 = -36.8567\n",
      "Run Polynomial_lr_0.0001_mini_mom_False_init_zero - Average CV MSE: 24.3392, Average CV R2: -33.7728\n",
      "Completed run: Polynomial_lr_0.0001_mini_mom_False_init_zero => CV R2: -33.7728\n",
      "🏃 View run Polynomial_lr_0.0001_mini_mom_False_init_zero at: http://localhost:5001/#/experiments/952159732461498036/runs/03933843a6094656b98adba4cf24b1e9\n",
      "🧪 View experiment at: http://localhost:5001/#/experiments/952159732461498036\n",
      "Run Polynomial_lr_0.0001_mini_mom_False_init_xavier - Fold 0: MSE = 26.0799, R2 = -36.7719\n",
      "Run Polynomial_lr_0.0001_mini_mom_False_init_xavier - Fold 1: MSE = 22.4794, R2 = -30.0488\n",
      "Run Polynomial_lr_0.0001_mini_mom_False_init_xavier - Fold 2: MSE = 25.6041, R2 = -34.6405\n",
      "Run Polynomial_lr_0.0001_mini_mom_False_init_xavier - Fold 3: MSE = 24.4682, R2 = -33.2935\n",
      "Run Polynomial_lr_0.0001_mini_mom_False_init_xavier - Fold 4: MSE = 24.9276, R2 = -36.7227\n",
      "Run Polynomial_lr_0.0001_mini_mom_False_init_xavier - Average CV MSE: 24.7119, Average CV R2: -34.2955\n",
      "Completed run: Polynomial_lr_0.0001_mini_mom_False_init_xavier => CV R2: -34.2955\n",
      "🏃 View run Polynomial_lr_0.0001_mini_mom_False_init_xavier at: http://localhost:5001/#/experiments/952159732461498036/runs/334f525d0e7e4ef0a4be1b3ded737951\n",
      "🧪 View experiment at: http://localhost:5001/#/experiments/952159732461498036\n",
      "Run Polynomial_lr_0.0001_batch_mom_True_init_zero - Fold 0: MSE = 95.4998, R2 = -137.3137\n",
      "Run Polynomial_lr_0.0001_batch_mom_True_init_zero - Fold 1: MSE = 96.0544, R2 = -131.6712\n",
      "Run Polynomial_lr_0.0001_batch_mom_True_init_zero - Fold 2: MSE = 96.7904, R2 = -133.7308\n",
      "Run Polynomial_lr_0.0001_batch_mom_True_init_zero - Fold 3: MSE = 96.9458, R2 = -134.8748\n",
      "Run Polynomial_lr_0.0001_batch_mom_True_init_zero - Fold 4: MSE = 98.0729, R2 = -147.4129\n",
      "Run Polynomial_lr_0.0001_batch_mom_True_init_zero - Average CV MSE: 96.6727, Average CV R2: -137.0007\n",
      "Completed run: Polynomial_lr_0.0001_batch_mom_True_init_zero => CV R2: -137.0007\n",
      "🏃 View run Polynomial_lr_0.0001_batch_mom_True_init_zero at: http://localhost:5001/#/experiments/952159732461498036/runs/e99fccbaf4ce4fe2bd0eb543244b0da9\n",
      "🧪 View experiment at: http://localhost:5001/#/experiments/952159732461498036\n",
      "Run Polynomial_lr_0.0001_batch_mom_True_init_xavier - Fold 0: MSE = 91.6478, R2 = -131.7347\n",
      "Run Polynomial_lr_0.0001_batch_mom_True_init_xavier - Fold 1: MSE = 94.0152, R2 = -128.8547\n",
      "Run Polynomial_lr_0.0001_batch_mom_True_init_xavier - Fold 2: MSE = 98.1284, R2 = -135.5932\n",
      "Run Polynomial_lr_0.0001_batch_mom_True_init_xavier - Fold 3: MSE = 100.9312, R2 = -140.4605\n",
      "Run Polynomial_lr_0.0001_batch_mom_True_init_xavier - Fold 4: MSE = 101.6277, R2 = -152.7924\n",
      "Run Polynomial_lr_0.0001_batch_mom_True_init_xavier - Average CV MSE: 97.2701, Average CV R2: -137.8871\n",
      "Completed run: Polynomial_lr_0.0001_batch_mom_True_init_xavier => CV R2: -137.8871\n",
      "🏃 View run Polynomial_lr_0.0001_batch_mom_True_init_xavier at: http://localhost:5001/#/experiments/952159732461498036/runs/efe9113db67245e39701a676806ea1ad\n",
      "🧪 View experiment at: http://localhost:5001/#/experiments/952159732461498036\n",
      "Run Polynomial_lr_0.0001_batch_mom_False_init_zero - Fold 0: MSE = 154.9751, R2 = -223.4526\n",
      "Run Polynomial_lr_0.0001_batch_mom_False_init_zero - Fold 1: MSE = 155.6230, R2 = -213.9480\n",
      "Run Polynomial_lr_0.0001_batch_mom_False_init_zero - Fold 2: MSE = 155.5959, R2 = -215.5873\n",
      "Run Polynomial_lr_0.0001_batch_mom_False_init_zero - Fold 3: MSE = 155.4312, R2 = -216.8451\n",
      "Run Polynomial_lr_0.0001_batch_mom_False_init_zero - Fold 4: MSE = 155.8460, R2 = -234.8405\n",
      "Run Polynomial_lr_0.0001_batch_mom_False_init_zero - Average CV MSE: 155.4942, Average CV R2: -220.9347\n",
      "Completed run: Polynomial_lr_0.0001_batch_mom_False_init_zero => CV R2: -220.9347\n",
      "🏃 View run Polynomial_lr_0.0001_batch_mom_False_init_zero at: http://localhost:5001/#/experiments/952159732461498036/runs/5eb0e0db149d4bf1a296f1d0581b3108\n",
      "🧪 View experiment at: http://localhost:5001/#/experiments/952159732461498036\n",
      "Run Polynomial_lr_0.0001_batch_mom_False_init_xavier - Fold 0: MSE = 150.4967, R2 = -216.9664\n",
      "Run Polynomial_lr_0.0001_batch_mom_False_init_xavier - Fold 1: MSE = 161.3653, R2 = -221.8792\n",
      "Run Polynomial_lr_0.0001_batch_mom_False_init_xavier - Fold 2: MSE = 154.8771, R2 = -214.5867\n",
      "Run Polynomial_lr_0.0001_batch_mom_False_init_xavier - Fold 3: MSE = 162.2733, R2 = -226.4347\n",
      "Run Polynomial_lr_0.0001_batch_mom_False_init_xavier - Fold 4: MSE = 162.4177, R2 = -244.7854\n",
      "Run Polynomial_lr_0.0001_batch_mom_False_init_xavier - Average CV MSE: 158.2860, Average CV R2: -224.9305\n",
      "Completed run: Polynomial_lr_0.0001_batch_mom_False_init_xavier => CV R2: -224.9305\n",
      "🏃 View run Polynomial_lr_0.0001_batch_mom_False_init_xavier at: http://localhost:5001/#/experiments/952159732461498036/runs/ad65025ee3924d8485412962078e8497\n",
      "🧪 View experiment at: http://localhost:5001/#/experiments/952159732461498036\n",
      "Run Lasso_lr_0.01_sto_mom_True_init_zero - Fold 0: MSE = 283.0778, R2 = -408.9855\n",
      "Run Lasso_lr_0.01_sto_mom_True_init_zero - Fold 1: MSE = 276.4887, R2 = -380.8888\n",
      "Run Lasso_lr_0.01_sto_mom_True_init_zero - Fold 2: MSE = 199.6388, R2 = -276.8943\n",
      "Run Lasso_lr_0.01_sto_mom_True_init_zero - Fold 3: MSE = 236.9170, R2 = -331.0518\n",
      "Run Lasso_lr_0.01_sto_mom_True_init_zero - Fold 4: MSE = 315.4368, R2 = -476.3480\n",
      "Run Lasso_lr_0.01_sto_mom_True_init_zero - Average CV MSE: 262.3118, Average CV R2: -374.8337\n",
      "Completed run: Lasso_lr_0.01_sto_mom_True_init_zero => CV R2: -374.8337\n",
      "🏃 View run Lasso_lr_0.01_sto_mom_True_init_zero at: http://localhost:5001/#/experiments/952159732461498036/runs/a23144ea8d08475a804afdeb27bed397\n",
      "🧪 View experiment at: http://localhost:5001/#/experiments/952159732461498036\n",
      "Run Lasso_lr_0.01_sto_mom_True_init_xavier - Fold 0: MSE = 221.9442, R2 = -320.4449\n",
      "Run Lasso_lr_0.01_sto_mom_True_init_xavier - Fold 1: MSE = 250.7905, R2 = -345.3942\n",
      "Run Lasso_lr_0.01_sto_mom_True_init_xavier - Fold 2: MSE = 227.2981, R2 = -315.3956\n",
      "Run Lasso_lr_0.01_sto_mom_True_init_xavier - Fold 3: MSE = 198.3426, R2 = -276.9878\n",
      "Run Lasso_lr_0.01_sto_mom_True_init_xavier - Fold 4: MSE = 232.4233, R2 = -350.7244\n",
      "Run Lasso_lr_0.01_sto_mom_True_init_xavier - Average CV MSE: 226.1597, Average CV R2: -321.7894\n",
      "Completed run: Lasso_lr_0.01_sto_mom_True_init_xavier => CV R2: -321.7894\n",
      "🏃 View run Lasso_lr_0.01_sto_mom_True_init_xavier at: http://localhost:5001/#/experiments/952159732461498036/runs/c815407074464f699054779e33c7865a\n",
      "🧪 View experiment at: http://localhost:5001/#/experiments/952159732461498036\n",
      "Run Lasso_lr_0.01_sto_mom_False_init_zero - Fold 0: MSE = 175.4512, R2 = -253.1083\n",
      "Run Lasso_lr_0.01_sto_mom_False_init_zero - Fold 1: MSE = 170.8672, R2 = -235.0034\n",
      "Run Lasso_lr_0.01_sto_mom_False_init_zero - Fold 2: MSE = 172.0495, R2 = -238.4903\n",
      "Run Lasso_lr_0.01_sto_mom_False_init_zero - Fold 3: MSE = 184.3796, R2 = -257.4179\n",
      "Run Lasso_lr_0.01_sto_mom_False_init_zero - Fold 4: MSE = 170.2096, R2 = -256.5769\n",
      "Run Lasso_lr_0.01_sto_mom_False_init_zero - Average CV MSE: 174.5914, Average CV R2: -248.1194\n",
      "Completed run: Lasso_lr_0.01_sto_mom_False_init_zero => CV R2: -248.1194\n",
      "🏃 View run Lasso_lr_0.01_sto_mom_False_init_zero at: http://localhost:5001/#/experiments/952159732461498036/runs/4b3d92ac49984682a5d87619e8935e93\n",
      "🧪 View experiment at: http://localhost:5001/#/experiments/952159732461498036\n",
      "Run Lasso_lr_0.01_sto_mom_False_init_xavier - Fold 0: MSE = 178.2440, R2 = -257.1532\n",
      "Run Lasso_lr_0.01_sto_mom_False_init_xavier - Fold 1: MSE = 172.8327, R2 = -237.7181\n",
      "Run Lasso_lr_0.01_sto_mom_False_init_xavier - Fold 2: MSE = 170.7486, R2 = -236.6795\n",
      "Run Lasso_lr_0.01_sto_mom_False_init_xavier - Fold 3: MSE = 173.3555, R2 = -241.9671\n",
      "Run Lasso_lr_0.01_sto_mom_False_init_xavier - Fold 4: MSE = 169.0175, R2 = -254.7728\n",
      "Run Lasso_lr_0.01_sto_mom_False_init_xavier - Average CV MSE: 172.8396, Average CV R2: -245.6581\n",
      "Completed run: Lasso_lr_0.01_sto_mom_False_init_xavier => CV R2: -245.6581\n",
      "🏃 View run Lasso_lr_0.01_sto_mom_False_init_xavier at: http://localhost:5001/#/experiments/952159732461498036/runs/bb8453d38a754e0fa7510f6b2ec5ef14\n",
      "🧪 View experiment at: http://localhost:5001/#/experiments/952159732461498036\n",
      "Run Lasso_lr_0.01_mini_mom_True_init_zero - Fold 0: MSE = 169.6041, R2 = -244.6400\n",
      "Run Lasso_lr_0.01_mini_mom_True_init_zero - Fold 1: MSE = 170.7243, R2 = -234.8059\n",
      "Run Lasso_lr_0.01_mini_mom_True_init_zero - Fold 2: MSE = 168.6160, R2 = -233.7110\n",
      "Run Lasso_lr_0.01_mini_mom_True_init_zero - Fold 3: MSE = 169.2550, R2 = -236.2200\n",
      "Run Lasso_lr_0.01_mini_mom_True_init_zero - Fold 4: MSE = 169.1675, R2 = -254.9999\n",
      "Run Lasso_lr_0.01_mini_mom_True_init_zero - Average CV MSE: 169.4734, Average CV R2: -240.8754\n",
      "Completed run: Lasso_lr_0.01_mini_mom_True_init_zero => CV R2: -240.8754\n",
      "🏃 View run Lasso_lr_0.01_mini_mom_True_init_zero at: http://localhost:5001/#/experiments/952159732461498036/runs/a95847b140a34767aaa5b2a283e68b6c\n",
      "🧪 View experiment at: http://localhost:5001/#/experiments/952159732461498036\n",
      "Run Lasso_lr_0.01_mini_mom_True_init_xavier - Fold 0: MSE = 169.0031, R2 = -243.7695\n",
      "Run Lasso_lr_0.01_mini_mom_True_init_xavier - Fold 1: MSE = 168.5498, R2 = -231.8026\n",
      "Run Lasso_lr_0.01_mini_mom_True_init_xavier - Fold 2: MSE = 169.4030, R2 = -234.8065\n",
      "Run Lasso_lr_0.01_mini_mom_True_init_xavier - Fold 3: MSE = 169.0706, R2 = -235.9615\n",
      "Run Lasso_lr_0.01_mini_mom_True_init_xavier - Fold 4: MSE = 169.8463, R2 = -256.0271\n",
      "Run Lasso_lr_0.01_mini_mom_True_init_xavier - Average CV MSE: 169.1746, Average CV R2: -240.4734\n",
      "Completed run: Lasso_lr_0.01_mini_mom_True_init_xavier => CV R2: -240.4734\n",
      "🏃 View run Lasso_lr_0.01_mini_mom_True_init_xavier at: http://localhost:5001/#/experiments/952159732461498036/runs/feeccf1b93f649279480b30717359fb1\n",
      "🧪 View experiment at: http://localhost:5001/#/experiments/952159732461498036\n",
      "Run Lasso_lr_0.01_mini_mom_False_init_zero - Fold 0: MSE = 169.1726, R2 = -244.0150\n",
      "Run Lasso_lr_0.01_mini_mom_False_init_zero - Fold 1: MSE = 168.5492, R2 = -231.8017\n",
      "Run Lasso_lr_0.01_mini_mom_False_init_zero - Fold 2: MSE = 168.6965, R2 = -233.8230\n",
      "Run Lasso_lr_0.01_mini_mom_False_init_zero - Fold 3: MSE = 168.9249, R2 = -235.7574\n",
      "Run Lasso_lr_0.01_mini_mom_False_init_zero - Fold 4: MSE = 169.0711, R2 = -254.8540\n",
      "Run Lasso_lr_0.01_mini_mom_False_init_zero - Average CV MSE: 168.8829, Average CV R2: -240.0502\n",
      "Completed run: Lasso_lr_0.01_mini_mom_False_init_zero => CV R2: -240.0502\n",
      "🏃 View run Lasso_lr_0.01_mini_mom_False_init_zero at: http://localhost:5001/#/experiments/952159732461498036/runs/904a8ed94cdb442f9bd3c08097464462\n",
      "🧪 View experiment at: http://localhost:5001/#/experiments/952159732461498036\n",
      "Run Lasso_lr_0.01_mini_mom_False_init_xavier - Fold 0: MSE = 169.1340, R2 = -243.9591\n",
      "Run Lasso_lr_0.01_mini_mom_False_init_xavier - Fold 1: MSE = 168.4615, R2 = -231.6806\n",
      "Run Lasso_lr_0.01_mini_mom_False_init_xavier - Fold 2: MSE = 168.6836, R2 = -233.8050\n",
      "Run Lasso_lr_0.01_mini_mom_False_init_xavier - Fold 3: MSE = 168.8282, R2 = -235.6218\n",
      "Run Lasso_lr_0.01_mini_mom_False_init_xavier - Fold 4: MSE = 169.0922, R2 = -254.8860\n",
      "Run Lasso_lr_0.01_mini_mom_False_init_xavier - Average CV MSE: 168.8399, Average CV R2: -239.9905\n",
      "Completed run: Lasso_lr_0.01_mini_mom_False_init_xavier => CV R2: -239.9905\n",
      "🏃 View run Lasso_lr_0.01_mini_mom_False_init_xavier at: http://localhost:5001/#/experiments/952159732461498036/runs/3ad2620c16fa4d6c8a08b14dd9048ad6\n",
      "🧪 View experiment at: http://localhost:5001/#/experiments/952159732461498036\n",
      "Run Lasso_lr_0.01_batch_mom_True_init_zero - Fold 0: MSE = 168.8091, R2 = -243.4885\n",
      "Run Lasso_lr_0.01_batch_mom_True_init_zero - Fold 1: MSE = 168.5102, R2 = -231.7479\n",
      "Run Lasso_lr_0.01_batch_mom_True_init_zero - Fold 2: MSE = 168.6528, R2 = -233.7622\n",
      "Run Lasso_lr_0.01_batch_mom_True_init_zero - Fold 3: MSE = 168.9335, R2 = -235.7694\n",
      "Run Lasso_lr_0.01_batch_mom_True_init_zero - Fold 4: MSE = 168.9219, R2 = -254.6281\n",
      "Run Lasso_lr_0.01_batch_mom_True_init_zero - Average CV MSE: 168.7655, Average CV R2: -239.8792\n",
      "Completed run: Lasso_lr_0.01_batch_mom_True_init_zero => CV R2: -239.8792\n",
      "🏃 View run Lasso_lr_0.01_batch_mom_True_init_zero at: http://localhost:5001/#/experiments/952159732461498036/runs/86400dc5195440658bada9d8976bfffa\n",
      "🧪 View experiment at: http://localhost:5001/#/experiments/952159732461498036\n",
      "Run Lasso_lr_0.01_batch_mom_True_init_xavier - Fold 0: MSE = 168.6211, R2 = -243.2163\n",
      "Run Lasso_lr_0.01_batch_mom_True_init_xavier - Fold 1: MSE = 168.3616, R2 = -231.5427\n",
      "Run Lasso_lr_0.01_batch_mom_True_init_xavier - Fold 2: MSE = 168.4405, R2 = -233.4667\n",
      "Run Lasso_lr_0.01_batch_mom_True_init_xavier - Fold 3: MSE = 168.9109, R2 = -235.7377\n",
      "Run Lasso_lr_0.01_batch_mom_True_init_xavier - Fold 4: MSE = 168.8519, R2 = -254.5223\n",
      "Run Lasso_lr_0.01_batch_mom_True_init_xavier - Average CV MSE: 168.6372, Average CV R2: -239.6971\n",
      "Completed run: Lasso_lr_0.01_batch_mom_True_init_xavier => CV R2: -239.6971\n",
      "🏃 View run Lasso_lr_0.01_batch_mom_True_init_xavier at: http://localhost:5001/#/experiments/952159732461498036/runs/effad59a23b84ed1adef63dfa3111c91\n",
      "🧪 View experiment at: http://localhost:5001/#/experiments/952159732461498036\n",
      "Run Lasso_lr_0.01_batch_mom_False_init_zero - Fold 0: MSE = 168.8084, R2 = -243.4875\n",
      "Run Lasso_lr_0.01_batch_mom_False_init_zero - Fold 1: MSE = 168.8151, R2 = -232.1690\n",
      "Run Lasso_lr_0.01_batch_mom_False_init_zero - Fold 2: MSE = 168.8480, R2 = -234.0340\n",
      "Run Lasso_lr_0.01_batch_mom_False_init_zero - Fold 3: MSE = 168.9008, R2 = -235.7236\n",
      "Run Lasso_lr_0.01_batch_mom_False_init_zero - Fold 4: MSE = 169.1662, R2 = -254.9979\n",
      "Run Lasso_lr_0.01_batch_mom_False_init_zero - Average CV MSE: 168.9077, Average CV R2: -240.0824\n",
      "Completed run: Lasso_lr_0.01_batch_mom_False_init_zero => CV R2: -240.0824\n",
      "🏃 View run Lasso_lr_0.01_batch_mom_False_init_zero at: http://localhost:5001/#/experiments/952159732461498036/runs/803b704fc08c4e1ab83212ef7784b33c\n",
      "🧪 View experiment at: http://localhost:5001/#/experiments/952159732461498036\n",
      "Run Lasso_lr_0.01_batch_mom_False_init_xavier - Fold 0: MSE = 168.9102, R2 = -243.6350\n",
      "Run Lasso_lr_0.01_batch_mom_False_init_xavier - Fold 1: MSE = 168.6137, R2 = -231.8908\n",
      "Run Lasso_lr_0.01_batch_mom_False_init_xavier - Fold 2: MSE = 168.7782, R2 = -233.9368\n",
      "Run Lasso_lr_0.01_batch_mom_False_init_xavier - Fold 3: MSE = 169.1662, R2 = -236.0955\n",
      "Run Lasso_lr_0.01_batch_mom_False_init_xavier - Fold 4: MSE = 169.0799, R2 = -254.8672\n",
      "Run Lasso_lr_0.01_batch_mom_False_init_xavier - Average CV MSE: 168.9096, Average CV R2: -240.0850\n",
      "Completed run: Lasso_lr_0.01_batch_mom_False_init_xavier => CV R2: -240.0850\n",
      "🏃 View run Lasso_lr_0.01_batch_mom_False_init_xavier at: http://localhost:5001/#/experiments/952159732461498036/runs/27af61713cbc433b804ed6754e1dc52d\n",
      "🧪 View experiment at: http://localhost:5001/#/experiments/952159732461498036\n",
      "Run Lasso_lr_0.001_sto_mom_True_init_zero - Fold 0: MSE = 174.3511, R2 = -251.5151\n",
      "Run Lasso_lr_0.001_sto_mom_True_init_zero - Fold 1: MSE = 172.9674, R2 = -237.9041\n",
      "Run Lasso_lr_0.001_sto_mom_True_init_zero - Fold 2: MSE = 177.9341, R2 = -246.6816\n",
      "Run Lasso_lr_0.001_sto_mom_True_init_zero - Fold 3: MSE = 172.1294, R2 = -240.2486\n",
      "Run Lasso_lr_0.001_sto_mom_True_init_zero - Fold 4: MSE = 170.8578, R2 = -257.5578\n",
      "Run Lasso_lr_0.001_sto_mom_True_init_zero - Average CV MSE: 173.6479, Average CV R2: -246.7814\n",
      "Completed run: Lasso_lr_0.001_sto_mom_True_init_zero => CV R2: -246.7814\n",
      "🏃 View run Lasso_lr_0.001_sto_mom_True_init_zero at: http://localhost:5001/#/experiments/952159732461498036/runs/2be04eedffff47e28b617180ef78348d\n",
      "🧪 View experiment at: http://localhost:5001/#/experiments/952159732461498036\n",
      "Run Lasso_lr_0.001_sto_mom_True_init_xavier - Fold 0: MSE = 169.4135, R2 = -244.3639\n",
      "Run Lasso_lr_0.001_sto_mom_True_init_xavier - Fold 1: MSE = 169.2773, R2 = -232.8074\n",
      "Run Lasso_lr_0.001_sto_mom_True_init_xavier - Fold 2: MSE = 183.5194, R2 = -254.4563\n",
      "Run Lasso_lr_0.001_sto_mom_True_init_xavier - Fold 3: MSE = 177.4941, R2 = -247.7675\n",
      "Run Lasso_lr_0.001_sto_mom_True_init_xavier - Fold 4: MSE = 174.3977, R2 = -262.9146\n",
      "Run Lasso_lr_0.001_sto_mom_True_init_xavier - Average CV MSE: 174.8204, Average CV R2: -248.4620\n",
      "Completed run: Lasso_lr_0.001_sto_mom_True_init_xavier => CV R2: -248.4620\n",
      "🏃 View run Lasso_lr_0.001_sto_mom_True_init_xavier at: http://localhost:5001/#/experiments/952159732461498036/runs/a9ec7ea394624869bcefd5d1c40d967f\n",
      "🧪 View experiment at: http://localhost:5001/#/experiments/952159732461498036\n",
      "Run Lasso_lr_0.001_sto_mom_False_init_zero - Fold 0: MSE = 169.6132, R2 = -244.6531\n",
      "Run Lasso_lr_0.001_sto_mom_False_init_zero - Fold 1: MSE = 168.5312, R2 = -231.7769\n",
      "Run Lasso_lr_0.001_sto_mom_False_init_zero - Fold 2: MSE = 168.7121, R2 = -233.8448\n",
      "Run Lasso_lr_0.001_sto_mom_False_init_zero - Fold 3: MSE = 169.2267, R2 = -236.1803\n",
      "Run Lasso_lr_0.001_sto_mom_False_init_zero - Fold 4: MSE = 169.5684, R2 = -255.6065\n",
      "Run Lasso_lr_0.001_sto_mom_False_init_zero - Average CV MSE: 169.1303, Average CV R2: -240.4123\n",
      "Completed run: Lasso_lr_0.001_sto_mom_False_init_zero => CV R2: -240.4123\n",
      "🏃 View run Lasso_lr_0.001_sto_mom_False_init_zero at: http://localhost:5001/#/experiments/952159732461498036/runs/ea7071c0e0ff49b2a2c73324453d357f\n",
      "🧪 View experiment at: http://localhost:5001/#/experiments/952159732461498036\n",
      "Run Lasso_lr_0.001_sto_mom_False_init_xavier - Fold 0: MSE = 168.9065, R2 = -243.6296\n",
      "Run Lasso_lr_0.001_sto_mom_False_init_xavier - Fold 1: MSE = 168.5813, R2 = -231.8461\n",
      "Run Lasso_lr_0.001_sto_mom_False_init_xavier - Fold 2: MSE = 168.9544, R2 = -234.1820\n",
      "Run Lasso_lr_0.001_sto_mom_False_init_xavier - Fold 3: MSE = 169.0564, R2 = -235.9416\n",
      "Run Lasso_lr_0.001_sto_mom_False_init_xavier - Fold 4: MSE = 169.2569, R2 = -255.1351\n",
      "Run Lasso_lr_0.001_sto_mom_False_init_xavier - Average CV MSE: 168.9511, Average CV R2: -240.1469\n",
      "Completed run: Lasso_lr_0.001_sto_mom_False_init_xavier => CV R2: -240.1469\n",
      "🏃 View run Lasso_lr_0.001_sto_mom_False_init_xavier at: http://localhost:5001/#/experiments/952159732461498036/runs/25ff9cd2f42546d1ac1206eb6acae084\n",
      "🧪 View experiment at: http://localhost:5001/#/experiments/952159732461498036\n",
      "Run Lasso_lr_0.001_mini_mom_True_init_zero - Fold 0: MSE = 169.1709, R2 = -244.0126\n",
      "Run Lasso_lr_0.001_mini_mom_True_init_zero - Fold 1: MSE = 168.4581, R2 = -231.6759\n",
      "Run Lasso_lr_0.001_mini_mom_True_init_zero - Fold 2: MSE = 168.7325, R2 = -233.8732\n",
      "Run Lasso_lr_0.001_mini_mom_True_init_zero - Fold 3: MSE = 168.8420, R2 = -235.6411\n",
      "Run Lasso_lr_0.001_mini_mom_True_init_zero - Fold 4: MSE = 169.0708, R2 = -254.8535\n",
      "Run Lasso_lr_0.001_mini_mom_True_init_zero - Average CV MSE: 168.8549, Average CV R2: -240.0113\n",
      "Completed run: Lasso_lr_0.001_mini_mom_True_init_zero => CV R2: -240.0113\n",
      "🏃 View run Lasso_lr_0.001_mini_mom_True_init_zero at: http://localhost:5001/#/experiments/952159732461498036/runs/d17af6e5e289415980dd0e73eebb37e5\n",
      "🧪 View experiment at: http://localhost:5001/#/experiments/952159732461498036\n",
      "Run Lasso_lr_0.001_mini_mom_True_init_xavier - Fold 0: MSE = 169.1290, R2 = -243.9519\n",
      "Run Lasso_lr_0.001_mini_mom_True_init_xavier - Fold 1: MSE = 168.6195, R2 = -231.8988\n",
      "Run Lasso_lr_0.001_mini_mom_True_init_xavier - Fold 2: MSE = 168.6377, R2 = -233.7413\n",
      "Run Lasso_lr_0.001_mini_mom_True_init_xavier - Fold 3: MSE = 168.8730, R2 = -235.6846\n",
      "Run Lasso_lr_0.001_mini_mom_True_init_xavier - Fold 4: MSE = 169.1009, R2 = -254.8991\n",
      "Run Lasso_lr_0.001_mini_mom_True_init_xavier - Average CV MSE: 168.8720, Average CV R2: -240.0351\n",
      "Completed run: Lasso_lr_0.001_mini_mom_True_init_xavier => CV R2: -240.0351\n",
      "🏃 View run Lasso_lr_0.001_mini_mom_True_init_xavier at: http://localhost:5001/#/experiments/952159732461498036/runs/0f70937c07994d469f3294afedd36de7\n",
      "🧪 View experiment at: http://localhost:5001/#/experiments/952159732461498036\n",
      "Run Lasso_lr_0.001_mini_mom_False_init_zero - Fold 0: MSE = 169.1674, R2 = -244.0074\n",
      "Run Lasso_lr_0.001_mini_mom_False_init_zero - Fold 1: MSE = 168.6310, R2 = -231.9146\n",
      "Run Lasso_lr_0.001_mini_mom_False_init_zero - Fold 2: MSE = 168.7532, R2 = -233.9020\n",
      "Run Lasso_lr_0.001_mini_mom_False_init_zero - Fold 3: MSE = 168.8682, R2 = -235.6778\n",
      "Run Lasso_lr_0.001_mini_mom_False_init_zero - Fold 4: MSE = 169.0610, R2 = -254.8387\n",
      "Run Lasso_lr_0.001_mini_mom_False_init_zero - Average CV MSE: 168.8961, Average CV R2: -240.0681\n",
      "Completed run: Lasso_lr_0.001_mini_mom_False_init_zero => CV R2: -240.0681\n",
      "🏃 View run Lasso_lr_0.001_mini_mom_False_init_zero at: http://localhost:5001/#/experiments/952159732461498036/runs/a640be58ecc54d8aa5246c9e8753ad99\n",
      "🧪 View experiment at: http://localhost:5001/#/experiments/952159732461498036\n",
      "Run Lasso_lr_0.001_mini_mom_False_init_xavier - Fold 0: MSE = 169.1413, R2 = -243.9696\n",
      "Run Lasso_lr_0.001_mini_mom_False_init_xavier - Fold 1: MSE = 168.5525, R2 = -231.8062\n",
      "Run Lasso_lr_0.001_mini_mom_False_init_xavier - Fold 2: MSE = 168.7653, R2 = -233.9188\n",
      "Run Lasso_lr_0.001_mini_mom_False_init_xavier - Fold 3: MSE = 168.8369, R2 = -235.6339\n",
      "Run Lasso_lr_0.001_mini_mom_False_init_xavier - Fold 4: MSE = 169.0323, R2 = -254.7953\n",
      "Run Lasso_lr_0.001_mini_mom_False_init_xavier - Average CV MSE: 168.8656, Average CV R2: -240.0248\n",
      "Completed run: Lasso_lr_0.001_mini_mom_False_init_xavier => CV R2: -240.0248\n",
      "🏃 View run Lasso_lr_0.001_mini_mom_False_init_xavier at: http://localhost:5001/#/experiments/952159732461498036/runs/0016fa047dd04218b202779cc8cb157f\n",
      "🧪 View experiment at: http://localhost:5001/#/experiments/952159732461498036\n",
      "Run Lasso_lr_0.001_batch_mom_True_init_zero - Fold 0: MSE = 168.8199, R2 = -243.5042\n",
      "Run Lasso_lr_0.001_batch_mom_True_init_zero - Fold 1: MSE = 168.8234, R2 = -232.1804\n",
      "Run Lasso_lr_0.001_batch_mom_True_init_zero - Fold 2: MSE = 168.8450, R2 = -234.0298\n",
      "Run Lasso_lr_0.001_batch_mom_True_init_zero - Fold 3: MSE = 168.8941, R2 = -235.7141\n",
      "Run Lasso_lr_0.001_batch_mom_True_init_zero - Fold 4: MSE = 169.1657, R2 = -254.9971\n",
      "Run Lasso_lr_0.001_batch_mom_True_init_zero - Average CV MSE: 168.9096, Average CV R2: -240.0851\n",
      "Completed run: Lasso_lr_0.001_batch_mom_True_init_zero => CV R2: -240.0851\n",
      "🏃 View run Lasso_lr_0.001_batch_mom_True_init_zero at: http://localhost:5001/#/experiments/952159732461498036/runs/c5c0726ac77145678c17861c67d651f7\n",
      "🧪 View experiment at: http://localhost:5001/#/experiments/952159732461498036\n",
      "Run Lasso_lr_0.001_batch_mom_True_init_xavier - Fold 0: MSE = 168.9117, R2 = -243.6372\n",
      "Run Lasso_lr_0.001_batch_mom_True_init_xavier - Fold 1: MSE = 168.5965, R2 = -231.8670\n",
      "Run Lasso_lr_0.001_batch_mom_True_init_xavier - Fold 2: MSE = 168.6647, R2 = -233.7788\n",
      "Run Lasso_lr_0.001_batch_mom_True_init_xavier - Fold 3: MSE = 169.0814, R2 = -235.9766\n",
      "Run Lasso_lr_0.001_batch_mom_True_init_xavier - Fold 4: MSE = 169.3385, R2 = -255.2586\n",
      "Run Lasso_lr_0.001_batch_mom_True_init_xavier - Average CV MSE: 168.9186, Average CV R2: -240.1036\n",
      "Completed run: Lasso_lr_0.001_batch_mom_True_init_xavier => CV R2: -240.1036\n",
      "🏃 View run Lasso_lr_0.001_batch_mom_True_init_xavier at: http://localhost:5001/#/experiments/952159732461498036/runs/81b16057d57c45e0963cc94c9a40b436\n",
      "🧪 View experiment at: http://localhost:5001/#/experiments/952159732461498036\n",
      "Run Lasso_lr_0.001_batch_mom_False_init_zero - Fold 0: MSE = 168.8203, R2 = -243.5048\n",
      "Run Lasso_lr_0.001_batch_mom_False_init_zero - Fold 1: MSE = 169.2678, R2 = -232.7942\n",
      "Run Lasso_lr_0.001_batch_mom_False_init_zero - Fold 2: MSE = 169.2351, R2 = -234.5728\n",
      "Run Lasso_lr_0.001_batch_mom_False_init_zero - Fold 3: MSE = 169.2271, R2 = -236.1808\n",
      "Run Lasso_lr_0.001_batch_mom_False_init_zero - Fold 4: MSE = 169.5864, R2 = -255.6338\n",
      "Run Lasso_lr_0.001_batch_mom_False_init_zero - Average CV MSE: 169.2273, Average CV R2: -240.5373\n",
      "Completed run: Lasso_lr_0.001_batch_mom_False_init_zero => CV R2: -240.5373\n",
      "🏃 View run Lasso_lr_0.001_batch_mom_False_init_zero at: http://localhost:5001/#/experiments/952159732461498036/runs/0b398b7f0a8d4dccb6c0772850464843\n",
      "🧪 View experiment at: http://localhost:5001/#/experiments/952159732461498036\n",
      "Run Lasso_lr_0.001_batch_mom_False_init_xavier - Fold 0: MSE = 168.7573, R2 = -243.4136\n",
      "Run Lasso_lr_0.001_batch_mom_False_init_xavier - Fold 1: MSE = 170.6748, R2 = -234.7376\n",
      "Run Lasso_lr_0.001_batch_mom_False_init_xavier - Fold 2: MSE = 169.1566, R2 = -234.4636\n",
      "Run Lasso_lr_0.001_batch_mom_False_init_xavier - Fold 3: MSE = 169.4509, R2 = -236.4945\n",
      "Run Lasso_lr_0.001_batch_mom_False_init_xavier - Fold 4: MSE = 169.5524, R2 = -255.5823\n",
      "Run Lasso_lr_0.001_batch_mom_False_init_xavier - Average CV MSE: 169.5184, Average CV R2: -240.9383\n",
      "Completed run: Lasso_lr_0.001_batch_mom_False_init_xavier => CV R2: -240.9383\n",
      "🏃 View run Lasso_lr_0.001_batch_mom_False_init_xavier at: http://localhost:5001/#/experiments/952159732461498036/runs/12e176c9f8744debb8d2899fb2467573\n",
      "🧪 View experiment at: http://localhost:5001/#/experiments/952159732461498036\n",
      "Run Lasso_lr_0.0001_sto_mom_True_init_zero - Fold 0: MSE = 170.2020, R2 = -245.5059\n",
      "Run Lasso_lr_0.0001_sto_mom_True_init_zero - Fold 1: MSE = 168.8296, R2 = -232.1890\n",
      "Run Lasso_lr_0.0001_sto_mom_True_init_zero - Fold 2: MSE = 169.3204, R2 = -234.6915\n",
      "Run Lasso_lr_0.0001_sto_mom_True_init_zero - Fold 3: MSE = 169.5698, R2 = -236.6612\n",
      "Run Lasso_lr_0.0001_sto_mom_True_init_zero - Fold 4: MSE = 169.4754, R2 = -255.4658\n",
      "Run Lasso_lr_0.0001_sto_mom_True_init_zero - Average CV MSE: 169.4794, Average CV R2: -240.9027\n",
      "Completed run: Lasso_lr_0.0001_sto_mom_True_init_zero => CV R2: -240.9027\n",
      "🏃 View run Lasso_lr_0.0001_sto_mom_True_init_zero at: http://localhost:5001/#/experiments/952159732461498036/runs/c077292b6ef04934a4f080072252bed2\n",
      "🧪 View experiment at: http://localhost:5001/#/experiments/952159732461498036\n",
      "Run Lasso_lr_0.0001_sto_mom_True_init_xavier - Fold 0: MSE = 168.9666, R2 = -243.7167\n",
      "Run Lasso_lr_0.0001_sto_mom_True_init_xavier - Fold 1: MSE = 169.1277, R2 = -232.6007\n",
      "Run Lasso_lr_0.0001_sto_mom_True_init_xavier - Fold 2: MSE = 168.8870, R2 = -234.0883\n",
      "Run Lasso_lr_0.0001_sto_mom_True_init_xavier - Fold 3: MSE = 168.6841, R2 = -235.4198\n",
      "Run Lasso_lr_0.0001_sto_mom_True_init_xavier - Fold 4: MSE = 169.6554, R2 = -255.7383\n",
      "Run Lasso_lr_0.0001_sto_mom_True_init_xavier - Average CV MSE: 169.0642, Average CV R2: -240.3127\n",
      "Completed run: Lasso_lr_0.0001_sto_mom_True_init_xavier => CV R2: -240.3127\n",
      "🏃 View run Lasso_lr_0.0001_sto_mom_True_init_xavier at: http://localhost:5001/#/experiments/952159732461498036/runs/e6649e43d94e4a9991f8f0e4bf2991f1\n",
      "🧪 View experiment at: http://localhost:5001/#/experiments/952159732461498036\n",
      "Run Lasso_lr_0.0001_sto_mom_False_init_zero - Fold 0: MSE = 169.1585, R2 = -243.9946\n",
      "Run Lasso_lr_0.0001_sto_mom_False_init_zero - Fold 1: MSE = 168.5112, R2 = -231.7492\n",
      "Run Lasso_lr_0.0001_sto_mom_False_init_zero - Fold 2: MSE = 168.7344, R2 = -233.8757\n",
      "Run Lasso_lr_0.0001_sto_mom_False_init_zero - Fold 3: MSE = 168.8057, R2 = -235.5903\n",
      "Run Lasso_lr_0.0001_sto_mom_False_init_zero - Fold 4: MSE = 169.0422, R2 = -254.8103\n",
      "Run Lasso_lr_0.0001_sto_mom_False_init_zero - Average CV MSE: 168.8504, Average CV R2: -240.0040\n",
      "Completed run: Lasso_lr_0.0001_sto_mom_False_init_zero => CV R2: -240.0040\n",
      "🏃 View run Lasso_lr_0.0001_sto_mom_False_init_zero at: http://localhost:5001/#/experiments/952159732461498036/runs/a5ba5b7f80764509baf1afeadffff748\n",
      "🧪 View experiment at: http://localhost:5001/#/experiments/952159732461498036\n",
      "Run Lasso_lr_0.0001_sto_mom_False_init_xavier - Fold 0: MSE = 169.1878, R2 = -244.0370\n",
      "Run Lasso_lr_0.0001_sto_mom_False_init_xavier - Fold 1: MSE = 168.5436, R2 = -231.7939\n",
      "Run Lasso_lr_0.0001_sto_mom_False_init_xavier - Fold 2: MSE = 168.7619, R2 = -233.9141\n",
      "Run Lasso_lr_0.0001_sto_mom_False_init_xavier - Fold 3: MSE = 168.8404, R2 = -235.6389\n",
      "Run Lasso_lr_0.0001_sto_mom_False_init_xavier - Fold 4: MSE = 169.1119, R2 = -254.9157\n",
      "Run Lasso_lr_0.0001_sto_mom_False_init_xavier - Average CV MSE: 168.8891, Average CV R2: -240.0599\n",
      "Completed run: Lasso_lr_0.0001_sto_mom_False_init_xavier => CV R2: -240.0599\n",
      "🏃 View run Lasso_lr_0.0001_sto_mom_False_init_xavier at: http://localhost:5001/#/experiments/952159732461498036/runs/68c15e64558d40c594243aa18a5a1a16\n",
      "🧪 View experiment at: http://localhost:5001/#/experiments/952159732461498036\n",
      "Run Lasso_lr_0.0001_mini_mom_True_init_zero - Fold 0: MSE = 169.1144, R2 = -243.9307\n",
      "Run Lasso_lr_0.0001_mini_mom_True_init_zero - Fold 1: MSE = 168.6645, R2 = -231.9610\n",
      "Run Lasso_lr_0.0001_mini_mom_True_init_zero - Fold 2: MSE = 168.7669, R2 = -233.9210\n",
      "Run Lasso_lr_0.0001_mini_mom_True_init_zero - Fold 3: MSE = 168.8566, R2 = -235.6616\n",
      "Run Lasso_lr_0.0001_mini_mom_True_init_zero - Fold 4: MSE = 169.0633, R2 = -254.8421\n",
      "Run Lasso_lr_0.0001_mini_mom_True_init_zero - Average CV MSE: 168.8931, Average CV R2: -240.0633\n",
      "Completed run: Lasso_lr_0.0001_mini_mom_True_init_zero => CV R2: -240.0633\n",
      "🏃 View run Lasso_lr_0.0001_mini_mom_True_init_zero at: http://localhost:5001/#/experiments/952159732461498036/runs/3f1b15edff94441e96c422a9fb6533f9\n",
      "🧪 View experiment at: http://localhost:5001/#/experiments/952159732461498036\n",
      "Run Lasso_lr_0.0001_mini_mom_True_init_xavier - Fold 0: MSE = 169.1860, R2 = -244.0344\n",
      "Run Lasso_lr_0.0001_mini_mom_True_init_xavier - Fold 1: MSE = 168.6146, R2 = -231.8920\n",
      "Run Lasso_lr_0.0001_mini_mom_True_init_xavier - Fold 2: MSE = 168.7567, R2 = -233.9069\n",
      "Run Lasso_lr_0.0001_mini_mom_True_init_xavier - Fold 3: MSE = 168.9231, R2 = -235.7547\n",
      "Run Lasso_lr_0.0001_mini_mom_True_init_xavier - Fold 4: MSE = 169.0711, R2 = -254.8540\n",
      "Run Lasso_lr_0.0001_mini_mom_True_init_xavier - Average CV MSE: 168.9103, Average CV R2: -240.0884\n",
      "Completed run: Lasso_lr_0.0001_mini_mom_True_init_xavier => CV R2: -240.0884\n",
      "🏃 View run Lasso_lr_0.0001_mini_mom_True_init_xavier at: http://localhost:5001/#/experiments/952159732461498036/runs/63761ab0c636415d9eebc3477fb3fd20\n",
      "🧪 View experiment at: http://localhost:5001/#/experiments/952159732461498036\n",
      "Run Lasso_lr_0.0001_mini_mom_False_init_zero - Fold 0: MSE = 168.8092, R2 = -243.4887\n",
      "Run Lasso_lr_0.0001_mini_mom_False_init_zero - Fold 1: MSE = 168.8452, R2 = -232.2106\n",
      "Run Lasso_lr_0.0001_mini_mom_False_init_zero - Fold 2: MSE = 168.8700, R2 = -234.0645\n",
      "Run Lasso_lr_0.0001_mini_mom_False_init_zero - Fold 3: MSE = 168.9082, R2 = -235.7339\n",
      "Run Lasso_lr_0.0001_mini_mom_False_init_zero - Fold 4: MSE = 169.1905, R2 = -255.0346\n",
      "Run Lasso_lr_0.0001_mini_mom_False_init_zero - Average CV MSE: 168.9246, Average CV R2: -240.1065\n",
      "Completed run: Lasso_lr_0.0001_mini_mom_False_init_zero => CV R2: -240.1065\n",
      "🏃 View run Lasso_lr_0.0001_mini_mom_False_init_zero at: http://localhost:5001/#/experiments/952159732461498036/runs/097667a291984fcf81443e42f2cfe420\n",
      "🧪 View experiment at: http://localhost:5001/#/experiments/952159732461498036\n",
      "Run Lasso_lr_0.0001_mini_mom_False_init_xavier - Fold 0: MSE = 168.9184, R2 = -243.6469\n",
      "Run Lasso_lr_0.0001_mini_mom_False_init_xavier - Fold 1: MSE = 168.9140, R2 = -232.3056\n",
      "Run Lasso_lr_0.0001_mini_mom_False_init_xavier - Fold 2: MSE = 168.7243, R2 = -233.8617\n",
      "Run Lasso_lr_0.0001_mini_mom_False_init_xavier - Fold 3: MSE = 168.6757, R2 = -235.4080\n",
      "Run Lasso_lr_0.0001_mini_mom_False_init_xavier - Fold 4: MSE = 168.9090, R2 = -254.6086\n",
      "Run Lasso_lr_0.0001_mini_mom_False_init_xavier - Average CV MSE: 168.8283, Average CV R2: -239.9662\n",
      "Completed run: Lasso_lr_0.0001_mini_mom_False_init_xavier => CV R2: -239.9662\n",
      "🏃 View run Lasso_lr_0.0001_mini_mom_False_init_xavier at: http://localhost:5001/#/experiments/952159732461498036/runs/d06420866ca1470d8459757b752be197\n",
      "🧪 View experiment at: http://localhost:5001/#/experiments/952159732461498036\n",
      "Run Lasso_lr_0.0001_batch_mom_True_init_zero - Fold 0: MSE = 168.8210, R2 = -243.5058\n",
      "Run Lasso_lr_0.0001_batch_mom_True_init_zero - Fold 1: MSE = 169.3702, R2 = -232.9357\n",
      "Run Lasso_lr_0.0001_batch_mom_True_init_zero - Fold 2: MSE = 169.3304, R2 = -234.7055\n",
      "Run Lasso_lr_0.0001_batch_mom_True_init_zero - Fold 3: MSE = 169.2338, R2 = -236.1903\n",
      "Run Lasso_lr_0.0001_batch_mom_True_init_zero - Fold 4: MSE = 169.6854, R2 = -255.7836\n",
      "Run Lasso_lr_0.0001_batch_mom_True_init_zero - Average CV MSE: 169.2882, Average CV R2: -240.6242\n",
      "Completed run: Lasso_lr_0.0001_batch_mom_True_init_zero => CV R2: -240.6242\n",
      "🏃 View run Lasso_lr_0.0001_batch_mom_True_init_zero at: http://localhost:5001/#/experiments/952159732461498036/runs/9f8774574f8a40a4a9ffa5b4daf9f7b8\n",
      "🧪 View experiment at: http://localhost:5001/#/experiments/952159732461498036\n",
      "Run Lasso_lr_0.0001_batch_mom_True_init_xavier - Fold 0: MSE = 169.1569, R2 = -243.9923\n",
      "Run Lasso_lr_0.0001_batch_mom_True_init_xavier - Fold 1: MSE = 170.3961, R2 = -234.3527\n",
      "Run Lasso_lr_0.0001_batch_mom_True_init_xavier - Fold 2: MSE = 169.1854, R2 = -234.5035\n",
      "Run Lasso_lr_0.0001_batch_mom_True_init_xavier - Fold 3: MSE = 169.1615, R2 = -236.0889\n",
      "Run Lasso_lr_0.0001_batch_mom_True_init_xavier - Fold 4: MSE = 169.6811, R2 = -255.7771\n",
      "Run Lasso_lr_0.0001_batch_mom_True_init_xavier - Average CV MSE: 169.5162, Average CV R2: -240.9429\n",
      "Completed run: Lasso_lr_0.0001_batch_mom_True_init_xavier => CV R2: -240.9429\n",
      "🏃 View run Lasso_lr_0.0001_batch_mom_True_init_xavier at: http://localhost:5001/#/experiments/952159732461498036/runs/df701dba311d4577adcc0097a5bbc3b1\n",
      "🧪 View experiment at: http://localhost:5001/#/experiments/952159732461498036\n",
      "Run Lasso_lr_0.0001_batch_mom_False_init_zero - Fold 0: MSE = 168.8211, R2 = -243.5059\n",
      "Run Lasso_lr_0.0001_batch_mom_False_init_zero - Fold 1: MSE = 169.3705, R2 = -232.9361\n",
      "Run Lasso_lr_0.0001_batch_mom_False_init_zero - Fold 2: MSE = 169.3307, R2 = -234.7058\n",
      "Run Lasso_lr_0.0001_batch_mom_False_init_zero - Fold 3: MSE = 169.2340, R2 = -236.1906\n",
      "Run Lasso_lr_0.0001_batch_mom_False_init_zero - Fold 4: MSE = 169.6857, R2 = -255.7840\n",
      "Run Lasso_lr_0.0001_batch_mom_False_init_zero - Average CV MSE: 169.2884, Average CV R2: -240.6245\n",
      "Completed run: Lasso_lr_0.0001_batch_mom_False_init_zero => CV R2: -240.6245\n",
      "🏃 View run Lasso_lr_0.0001_batch_mom_False_init_zero at: http://localhost:5001/#/experiments/952159732461498036/runs/90f9701b017547f9891aee0e93745286\n",
      "🧪 View experiment at: http://localhost:5001/#/experiments/952159732461498036\n",
      "Run Lasso_lr_0.0001_batch_mom_False_init_xavier - Fold 0: MSE = 168.6935, R2 = -243.3210\n",
      "Run Lasso_lr_0.0001_batch_mom_False_init_xavier - Fold 1: MSE = 169.8538, R2 = -233.6037\n",
      "Run Lasso_lr_0.0001_batch_mom_False_init_xavier - Fold 2: MSE = 169.8488, R2 = -235.4271\n",
      "Run Lasso_lr_0.0001_batch_mom_False_init_xavier - Fold 3: MSE = 169.8791, R2 = -237.0946\n",
      "Run Lasso_lr_0.0001_batch_mom_False_init_xavier - Fold 4: MSE = 170.1809, R2 = -256.5334\n",
      "Run Lasso_lr_0.0001_batch_mom_False_init_xavier - Average CV MSE: 169.6912, Average CV R2: -241.1960\n",
      "Completed run: Lasso_lr_0.0001_batch_mom_False_init_xavier => CV R2: -241.1960\n",
      "🏃 View run Lasso_lr_0.0001_batch_mom_False_init_xavier at: http://localhost:5001/#/experiments/952159732461498036/runs/c8bd23a0f8b74abc9e151340101c93ae\n",
      "🧪 View experiment at: http://localhost:5001/#/experiments/952159732461498036\n",
      "Run Ridge_lr_0.01_sto_mom_True_init_zero - Fold 0: MSE = 451.3248, R2 = -652.6599\n",
      "Run Ridge_lr_0.01_sto_mom_True_init_zero - Fold 1: MSE = 419.8094, R2 = -578.8447\n",
      "Run Ridge_lr_0.01_sto_mom_True_init_zero - Fold 2: MSE = 271.9226, R2 = -377.5123\n",
      "Run Ridge_lr_0.01_sto_mom_True_init_zero - Fold 3: MSE = 214.8217, R2 = -300.0842\n",
      "Run Ridge_lr_0.01_sto_mom_True_init_zero - Fold 4: MSE = 243.5442, R2 = -367.5535\n",
      "Run Ridge_lr_0.01_sto_mom_True_init_zero - Average CV MSE: 320.2846, Average CV R2: -455.3309\n",
      "Completed run: Ridge_lr_0.01_sto_mom_True_init_zero => CV R2: -455.3309\n",
      "🏃 View run Ridge_lr_0.01_sto_mom_True_init_zero at: http://localhost:5001/#/experiments/952159732461498036/runs/3e4be7605c194e669f81fb541ac964ff\n",
      "🧪 View experiment at: http://localhost:5001/#/experiments/952159732461498036\n",
      "Run Ridge_lr_0.01_sto_mom_True_init_xavier - Fold 0: MSE = 205.6136, R2 = -296.7930\n",
      "Run Ridge_lr_0.01_sto_mom_True_init_xavier - Fold 1: MSE = 324.7037, R2 = -447.4838\n",
      "Run Ridge_lr_0.01_sto_mom_True_init_xavier - Fold 2: MSE = 281.4421, R2 = -390.7633\n",
      "Run Ridge_lr_0.01_sto_mom_True_init_xavier - Fold 3: MSE = 203.2989, R2 = -283.9343\n",
      "Run Ridge_lr_0.01_sto_mom_True_init_xavier - Fold 4: MSE = 225.3439, R2 = -340.0112\n",
      "Run Ridge_lr_0.01_sto_mom_True_init_xavier - Average CV MSE: 248.0804, Average CV R2: -351.7971\n",
      "Completed run: Ridge_lr_0.01_sto_mom_True_init_xavier => CV R2: -351.7971\n",
      "🏃 View run Ridge_lr_0.01_sto_mom_True_init_xavier at: http://localhost:5001/#/experiments/952159732461498036/runs/a8b3d2bb9ae14a4f87348a9507d64da1\n",
      "🧪 View experiment at: http://localhost:5001/#/experiments/952159732461498036\n",
      "Run Ridge_lr_0.01_sto_mom_False_init_zero - Fold 0: MSE = 173.3433, R2 = -250.0555\n",
      "Run Ridge_lr_0.01_sto_mom_False_init_zero - Fold 1: MSE = 170.6667, R2 = -234.7264\n",
      "Run Ridge_lr_0.01_sto_mom_False_init_zero - Fold 2: MSE = 171.5674, R2 = -237.8193\n",
      "Run Ridge_lr_0.01_sto_mom_False_init_zero - Fold 3: MSE = 174.6488, R2 = -243.7797\n",
      "Run Ridge_lr_0.01_sto_mom_False_init_zero - Fold 4: MSE = 170.0116, R2 = -256.2772\n",
      "Run Ridge_lr_0.01_sto_mom_False_init_zero - Average CV MSE: 172.0476, Average CV R2: -244.5316\n",
      "Completed run: Ridge_lr_0.01_sto_mom_False_init_zero => CV R2: -244.5316\n",
      "🏃 View run Ridge_lr_0.01_sto_mom_False_init_zero at: http://localhost:5001/#/experiments/952159732461498036/runs/a2aa6d83a4e84dfbabd18074cd46e64d\n",
      "🧪 View experiment at: http://localhost:5001/#/experiments/952159732461498036\n",
      "Run Ridge_lr_0.01_sto_mom_False_init_xavier - Fold 0: MSE = 169.8210, R2 = -244.9540\n",
      "Run Ridge_lr_0.01_sto_mom_False_init_xavier - Fold 1: MSE = 170.9270, R2 = -235.0860\n",
      "Run Ridge_lr_0.01_sto_mom_False_init_xavier - Fold 2: MSE = 174.0246, R2 = -241.2397\n",
      "Run Ridge_lr_0.01_sto_mom_False_init_xavier - Fold 3: MSE = 182.5925, R2 = -254.9132\n",
      "Run Ridge_lr_0.01_sto_mom_False_init_xavier - Fold 4: MSE = 171.6426, R2 = -258.7454\n",
      "Run Ridge_lr_0.01_sto_mom_False_init_xavier - Average CV MSE: 173.8015, Average CV R2: -246.9876\n",
      "Completed run: Ridge_lr_0.01_sto_mom_False_init_xavier => CV R2: -246.9876\n",
      "🏃 View run Ridge_lr_0.01_sto_mom_False_init_xavier at: http://localhost:5001/#/experiments/952159732461498036/runs/0554adaf88c1429598ebdc460698e35d\n",
      "🧪 View experiment at: http://localhost:5001/#/experiments/952159732461498036\n",
      "Run Ridge_lr_0.01_mini_mom_True_init_zero - Fold 0: MSE = 170.6347, R2 = -246.1325\n",
      "Run Ridge_lr_0.01_mini_mom_True_init_zero - Fold 1: MSE = 169.2599, R2 = -232.7834\n",
      "Run Ridge_lr_0.01_mini_mom_True_init_zero - Fold 2: MSE = 170.4042, R2 = -236.2001\n",
      "Run Ridge_lr_0.01_mini_mom_True_init_zero - Fold 3: MSE = 171.3040, R2 = -239.0918\n",
      "Run Ridge_lr_0.01_mini_mom_True_init_zero - Fold 4: MSE = 170.9979, R2 = -257.7697\n",
      "Run Ridge_lr_0.01_mini_mom_True_init_zero - Average CV MSE: 170.5201, Average CV R2: -242.3955\n",
      "Completed run: Ridge_lr_0.01_mini_mom_True_init_zero => CV R2: -242.3955\n",
      "🏃 View run Ridge_lr_0.01_mini_mom_True_init_zero at: http://localhost:5001/#/experiments/952159732461498036/runs/bbe8c460ba28421c8bc59eccdf547a85\n",
      "🧪 View experiment at: http://localhost:5001/#/experiments/952159732461498036\n",
      "Run Ridge_lr_0.01_mini_mom_True_init_xavier - Fold 0: MSE = 170.3486, R2 = -245.7183\n",
      "Run Ridge_lr_0.01_mini_mom_True_init_xavier - Fold 1: MSE = 169.2968, R2 = -232.8343\n",
      "Run Ridge_lr_0.01_mini_mom_True_init_xavier - Fold 2: MSE = 168.3442, R2 = -233.3327\n",
      "Run Ridge_lr_0.01_mini_mom_True_init_xavier - Fold 3: MSE = 171.2238, R2 = -238.9794\n",
      "Run Ridge_lr_0.01_mini_mom_True_init_xavier - Fold 4: MSE = 169.5809, R2 = -255.6255\n",
      "Run Ridge_lr_0.01_mini_mom_True_init_xavier - Average CV MSE: 169.7589, Average CV R2: -241.2980\n",
      "Completed run: Ridge_lr_0.01_mini_mom_True_init_xavier => CV R2: -241.2980\n",
      "🏃 View run Ridge_lr_0.01_mini_mom_True_init_xavier at: http://localhost:5001/#/experiments/952159732461498036/runs/55f670099e3041fe9578314e28d4d673\n",
      "🧪 View experiment at: http://localhost:5001/#/experiments/952159732461498036\n",
      "Run Ridge_lr_0.01_mini_mom_False_init_zero - Fold 0: MSE = 169.5822, R2 = -244.6082\n",
      "Run Ridge_lr_0.01_mini_mom_False_init_zero - Fold 1: MSE = 168.6204, R2 = -231.9001\n",
      "Run Ridge_lr_0.01_mini_mom_False_init_zero - Fold 2: MSE = 168.7116, R2 = -233.8441\n",
      "Run Ridge_lr_0.01_mini_mom_False_init_zero - Fold 3: MSE = 168.9587, R2 = -235.8047\n",
      "Run Ridge_lr_0.01_mini_mom_False_init_zero - Fold 4: MSE = 168.9789, R2 = -254.7144\n",
      "Run Ridge_lr_0.01_mini_mom_False_init_zero - Average CV MSE: 168.9704, Average CV R2: -240.1743\n",
      "Completed run: Ridge_lr_0.01_mini_mom_False_init_zero => CV R2: -240.1743\n",
      "🏃 View run Ridge_lr_0.01_mini_mom_False_init_zero at: http://localhost:5001/#/experiments/952159732461498036/runs/e0b111fb413b48c0bef85353a2569758\n",
      "🧪 View experiment at: http://localhost:5001/#/experiments/952159732461498036\n",
      "Run Ridge_lr_0.01_mini_mom_False_init_xavier - Fold 0: MSE = 169.4744, R2 = -244.4520\n",
      "Run Ridge_lr_0.01_mini_mom_False_init_xavier - Fold 1: MSE = 168.5619, R2 = -231.8192\n",
      "Run Ridge_lr_0.01_mini_mom_False_init_xavier - Fold 2: MSE = 168.6889, R2 = -233.8125\n",
      "Run Ridge_lr_0.01_mini_mom_False_init_xavier - Fold 3: MSE = 168.9194, R2 = -235.7495\n",
      "Run Ridge_lr_0.01_mini_mom_False_init_xavier - Fold 4: MSE = 168.9540, R2 = -254.6768\n",
      "Run Ridge_lr_0.01_mini_mom_False_init_xavier - Average CV MSE: 168.9197, Average CV R2: -240.1020\n",
      "Completed run: Ridge_lr_0.01_mini_mom_False_init_xavier => CV R2: -240.1020\n",
      "🏃 View run Ridge_lr_0.01_mini_mom_False_init_xavier at: http://localhost:5001/#/experiments/952159732461498036/runs/4e65bc9f1a444e039f17427632395cc2\n",
      "🧪 View experiment at: http://localhost:5001/#/experiments/952159732461498036\n",
      "Run Ridge_lr_0.01_batch_mom_True_init_zero - Fold 0: MSE = 169.2144, R2 = -244.0755\n",
      "Run Ridge_lr_0.01_batch_mom_True_init_zero - Fold 1: MSE = 168.4415, R2 = -231.6529\n",
      "Run Ridge_lr_0.01_batch_mom_True_init_zero - Fold 2: MSE = 168.5491, R2 = -233.6178\n",
      "Run Ridge_lr_0.01_batch_mom_True_init_zero - Fold 3: MSE = 168.9823, R2 = -235.8378\n",
      "Run Ridge_lr_0.01_batch_mom_True_init_zero - Fold 4: MSE = 168.8626, R2 = -254.5384\n",
      "Run Ridge_lr_0.01_batch_mom_True_init_zero - Average CV MSE: 168.8100, Average CV R2: -239.9445\n",
      "Completed run: Ridge_lr_0.01_batch_mom_True_init_zero => CV R2: -239.9445\n",
      "🏃 View run Ridge_lr_0.01_batch_mom_True_init_zero at: http://localhost:5001/#/experiments/952159732461498036/runs/74da4015f9be41d3a908230715016f6a\n",
      "🧪 View experiment at: http://localhost:5001/#/experiments/952159732461498036\n",
      "Run Ridge_lr_0.01_batch_mom_True_init_xavier - Fold 0: MSE = 170.1996, R2 = -245.5024\n",
      "Run Ridge_lr_0.01_batch_mom_True_init_xavier - Fold 1: MSE = 168.3786, R2 = -231.5661\n",
      "Run Ridge_lr_0.01_batch_mom_True_init_xavier - Fold 2: MSE = 168.6453, R2 = -233.7517\n",
      "Run Ridge_lr_0.01_batch_mom_True_init_xavier - Fold 3: MSE = 168.5279, R2 = -235.2009\n",
      "Run Ridge_lr_0.01_batch_mom_True_init_xavier - Fold 4: MSE = 168.8673, R2 = -254.5456\n",
      "Run Ridge_lr_0.01_batch_mom_True_init_xavier - Average CV MSE: 168.9237, Average CV R2: -240.1134\n",
      "Completed run: Ridge_lr_0.01_batch_mom_True_init_xavier => CV R2: -240.1134\n",
      "🏃 View run Ridge_lr_0.01_batch_mom_True_init_xavier at: http://localhost:5001/#/experiments/952159732461498036/runs/8d64a92d5b7a4e26bf894bd9d4c4397a\n",
      "🧪 View experiment at: http://localhost:5001/#/experiments/952159732461498036\n",
      "Run Ridge_lr_0.01_batch_mom_False_init_zero - Fold 0: MSE = 168.8096, R2 = -243.4893\n",
      "Run Ridge_lr_0.01_batch_mom_False_init_zero - Fold 1: MSE = 168.7133, R2 = -232.0284\n",
      "Run Ridge_lr_0.01_batch_mom_False_init_zero - Fold 2: MSE = 168.7319, R2 = -233.8723\n",
      "Run Ridge_lr_0.01_batch_mom_False_init_zero - Fold 3: MSE = 168.8544, R2 = -235.6586\n",
      "Run Ridge_lr_0.01_batch_mom_False_init_zero - Fold 4: MSE = 169.0741, R2 = -254.8586\n",
      "Run Ridge_lr_0.01_batch_mom_False_init_zero - Average CV MSE: 168.8367, Average CV R2: -239.9814\n",
      "Completed run: Ridge_lr_0.01_batch_mom_False_init_zero => CV R2: -239.9814\n",
      "🏃 View run Ridge_lr_0.01_batch_mom_False_init_zero at: http://localhost:5001/#/experiments/952159732461498036/runs/b8f18d3031b7438b8e3f29ccfd22aff2\n",
      "🧪 View experiment at: http://localhost:5001/#/experiments/952159732461498036\n",
      "Run Ridge_lr_0.01_batch_mom_False_init_xavier - Fold 0: MSE = 168.6498, R2 = -243.2579\n",
      "Run Ridge_lr_0.01_batch_mom_False_init_xavier - Fold 1: MSE = 168.7386, R2 = -232.0633\n",
      "Run Ridge_lr_0.01_batch_mom_False_init_xavier - Fold 2: MSE = 168.6243, R2 = -233.7226\n",
      "Run Ridge_lr_0.01_batch_mom_False_init_xavier - Fold 3: MSE = 168.8859, R2 = -235.7026\n",
      "Run Ridge_lr_0.01_batch_mom_False_init_xavier - Fold 4: MSE = 169.0493, R2 = -254.8210\n",
      "Run Ridge_lr_0.01_batch_mom_False_init_xavier - Average CV MSE: 168.7896, Average CV R2: -239.9135\n",
      "Completed run: Ridge_lr_0.01_batch_mom_False_init_xavier => CV R2: -239.9135\n",
      "🏃 View run Ridge_lr_0.01_batch_mom_False_init_xavier at: http://localhost:5001/#/experiments/952159732461498036/runs/349405b3d89b4394b02ef4e185dfe30c\n",
      "🧪 View experiment at: http://localhost:5001/#/experiments/952159732461498036\n",
      "Run Ridge_lr_0.001_sto_mom_True_init_zero - Fold 0: MSE = 178.1753, R2 = -257.0537\n",
      "Run Ridge_lr_0.001_sto_mom_True_init_zero - Fold 1: MSE = 175.8172, R2 = -241.8403\n",
      "Run Ridge_lr_0.001_sto_mom_True_init_zero - Fold 2: MSE = 171.1602, R2 = -237.2524\n",
      "Run Ridge_lr_0.001_sto_mom_True_init_zero - Fold 3: MSE = 178.5682, R2 = -249.2730\n",
      "Run Ridge_lr_0.001_sto_mom_True_init_zero - Fold 4: MSE = 173.9599, R2 = -262.2521\n",
      "Run Ridge_lr_0.001_sto_mom_True_init_zero - Average CV MSE: 175.5362, Average CV R2: -249.5343\n",
      "Completed run: Ridge_lr_0.001_sto_mom_True_init_zero => CV R2: -249.5343\n",
      "🏃 View run Ridge_lr_0.001_sto_mom_True_init_zero at: http://localhost:5001/#/experiments/952159732461498036/runs/3e95fe80264c475db5bf98bd272ff5d7\n",
      "🧪 View experiment at: http://localhost:5001/#/experiments/952159732461498036\n",
      "Run Ridge_lr_0.001_sto_mom_True_init_xavier - Fold 0: MSE = 170.9326, R2 = -246.5640\n",
      "Run Ridge_lr_0.001_sto_mom_True_init_xavier - Fold 1: MSE = 177.8924, R2 = -244.7067\n",
      "Run Ridge_lr_0.001_sto_mom_True_init_xavier - Fold 2: MSE = 173.8547, R2 = -241.0032\n",
      "Run Ridge_lr_0.001_sto_mom_True_init_xavier - Fold 3: MSE = 175.7631, R2 = -245.3414\n",
      "Run Ridge_lr_0.001_sto_mom_True_init_xavier - Fold 4: MSE = 169.6803, R2 = -255.7759\n",
      "Run Ridge_lr_0.001_sto_mom_True_init_xavier - Average CV MSE: 173.6246, Average CV R2: -246.6783\n",
      "Completed run: Ridge_lr_0.001_sto_mom_True_init_xavier => CV R2: -246.6783\n",
      "🏃 View run Ridge_lr_0.001_sto_mom_True_init_xavier at: http://localhost:5001/#/experiments/952159732461498036/runs/11a0cc0271b0422290f145f8395b2b25\n",
      "🧪 View experiment at: http://localhost:5001/#/experiments/952159732461498036\n",
      "Run Ridge_lr_0.001_sto_mom_False_init_zero - Fold 0: MSE = 169.6999, R2 = -244.7786\n",
      "Run Ridge_lr_0.001_sto_mom_False_init_zero - Fold 1: MSE = 169.4092, R2 = -232.9895\n",
      "Run Ridge_lr_0.001_sto_mom_False_init_zero - Fold 2: MSE = 168.8360, R2 = -234.0173\n",
      "Run Ridge_lr_0.001_sto_mom_False_init_zero - Fold 3: MSE = 168.8831, R2 = -235.6987\n",
      "Run Ridge_lr_0.001_sto_mom_False_init_zero - Fold 4: MSE = 169.4803, R2 = -255.4731\n",
      "Run Ridge_lr_0.001_sto_mom_False_init_zero - Average CV MSE: 169.2617, Average CV R2: -240.5915\n",
      "Completed run: Ridge_lr_0.001_sto_mom_False_init_zero => CV R2: -240.5915\n",
      "🏃 View run Ridge_lr_0.001_sto_mom_False_init_zero at: http://localhost:5001/#/experiments/952159732461498036/runs/342a646851c949a09f9ee62fb0a73e9a\n",
      "🧪 View experiment at: http://localhost:5001/#/experiments/952159732461498036\n",
      "Run Ridge_lr_0.001_sto_mom_False_init_xavier - Fold 0: MSE = 169.7529, R2 = -244.8555\n",
      "Run Ridge_lr_0.001_sto_mom_False_init_xavier - Fold 1: MSE = 168.6418, R2 = -231.9296\n",
      "Run Ridge_lr_0.001_sto_mom_False_init_xavier - Fold 2: MSE = 169.1418, R2 = -234.4429\n",
      "Run Ridge_lr_0.001_sto_mom_False_init_xavier - Fold 3: MSE = 168.7689, R2 = -235.5387\n",
      "Run Ridge_lr_0.001_sto_mom_False_init_xavier - Fold 4: MSE = 168.9251, R2 = -254.6330\n",
      "Run Ridge_lr_0.001_sto_mom_False_init_xavier - Average CV MSE: 169.0461, Average CV R2: -240.2799\n",
      "Completed run: Ridge_lr_0.001_sto_mom_False_init_xavier => CV R2: -240.2799\n",
      "🏃 View run Ridge_lr_0.001_sto_mom_False_init_xavier at: http://localhost:5001/#/experiments/952159732461498036/runs/2c79f9e79396479e8dbf84c9b02c2573\n",
      "🧪 View experiment at: http://localhost:5001/#/experiments/952159732461498036\n",
      "Run Ridge_lr_0.001_mini_mom_True_init_zero - Fold 0: MSE = 169.3575, R2 = -244.2828\n",
      "Run Ridge_lr_0.001_mini_mom_True_init_zero - Fold 1: MSE = 168.5535, R2 = -231.8076\n",
      "Run Ridge_lr_0.001_mini_mom_True_init_zero - Fold 2: MSE = 168.6960, R2 = -233.8224\n",
      "Run Ridge_lr_0.001_mini_mom_True_init_zero - Fold 3: MSE = 168.8328, R2 = -235.6283\n",
      "Run Ridge_lr_0.001_mini_mom_True_init_zero - Fold 4: MSE = 168.9939, R2 = -254.7371\n",
      "Run Ridge_lr_0.001_mini_mom_True_init_zero - Average CV MSE: 168.8867, Average CV R2: -240.0556\n",
      "Completed run: Ridge_lr_0.001_mini_mom_True_init_zero => CV R2: -240.0556\n",
      "🏃 View run Ridge_lr_0.001_mini_mom_True_init_zero at: http://localhost:5001/#/experiments/952159732461498036/runs/f007fe6ebe8e498dbc89035615627978\n",
      "🧪 View experiment at: http://localhost:5001/#/experiments/952159732461498036\n",
      "Run Ridge_lr_0.001_mini_mom_True_init_xavier - Fold 0: MSE = 169.3690, R2 = -244.2994\n",
      "Run Ridge_lr_0.001_mini_mom_True_init_xavier - Fold 1: MSE = 168.5401, R2 = -231.7892\n",
      "Run Ridge_lr_0.001_mini_mom_True_init_xavier - Fold 2: MSE = 168.7582, R2 = -233.9090\n",
      "Run Ridge_lr_0.001_mini_mom_True_init_xavier - Fold 3: MSE = 168.9273, R2 = -235.7607\n",
      "Run Ridge_lr_0.001_mini_mom_True_init_xavier - Fold 4: MSE = 169.1367, R2 = -254.9532\n",
      "Run Ridge_lr_0.001_mini_mom_True_init_xavier - Average CV MSE: 168.9463, Average CV R2: -240.1423\n",
      "Completed run: Ridge_lr_0.001_mini_mom_True_init_xavier => CV R2: -240.1423\n",
      "🏃 View run Ridge_lr_0.001_mini_mom_True_init_xavier at: http://localhost:5001/#/experiments/952159732461498036/runs/9c3afef2a880428190efa2660315476f\n",
      "🧪 View experiment at: http://localhost:5001/#/experiments/952159732461498036\n",
      "Run Ridge_lr_0.001_mini_mom_False_init_zero - Fold 0: MSE = 169.3100, R2 = -244.2140\n",
      "Run Ridge_lr_0.001_mini_mom_False_init_zero - Fold 1: MSE = 168.5454, R2 = -231.7964\n",
      "Run Ridge_lr_0.001_mini_mom_False_init_zero - Fold 2: MSE = 168.6470, R2 = -233.7542\n",
      "Run Ridge_lr_0.001_mini_mom_False_init_zero - Fold 3: MSE = 168.8386, R2 = -235.6364\n",
      "Run Ridge_lr_0.001_mini_mom_False_init_zero - Fold 4: MSE = 168.9838, R2 = -254.7219\n",
      "Run Ridge_lr_0.001_mini_mom_False_init_zero - Average CV MSE: 168.8650, Average CV R2: -240.0246\n",
      "Completed run: Ridge_lr_0.001_mini_mom_False_init_zero => CV R2: -240.0246\n",
      "🏃 View run Ridge_lr_0.001_mini_mom_False_init_zero at: http://localhost:5001/#/experiments/952159732461498036/runs/7440f7f764204dfbaaf8f86b6798e1ab\n",
      "🧪 View experiment at: http://localhost:5001/#/experiments/952159732461498036\n",
      "Run Ridge_lr_0.001_mini_mom_False_init_xavier - Fold 0: MSE = 169.2630, R2 = -244.1460\n",
      "Run Ridge_lr_0.001_mini_mom_False_init_xavier - Fold 1: MSE = 168.5241, R2 = -231.7670\n",
      "Run Ridge_lr_0.001_mini_mom_False_init_xavier - Fold 2: MSE = 168.6576, R2 = -233.7688\n",
      "Run Ridge_lr_0.001_mini_mom_False_init_xavier - Fold 3: MSE = 168.9673, R2 = -235.8168\n",
      "Run Ridge_lr_0.001_mini_mom_False_init_xavier - Fold 4: MSE = 169.0031, R2 = -254.7511\n",
      "Run Ridge_lr_0.001_mini_mom_False_init_xavier - Average CV MSE: 168.8830, Average CV R2: -240.0499\n",
      "Completed run: Ridge_lr_0.001_mini_mom_False_init_xavier => CV R2: -240.0499\n",
      "🏃 View run Ridge_lr_0.001_mini_mom_False_init_xavier at: http://localhost:5001/#/experiments/952159732461498036/runs/e2c9cceeb79441509103e2e998cc2b46\n",
      "🧪 View experiment at: http://localhost:5001/#/experiments/952159732461498036\n",
      "Run Ridge_lr_0.001_batch_mom_True_init_zero - Fold 0: MSE = 168.8199, R2 = -243.5041\n",
      "Run Ridge_lr_0.001_batch_mom_True_init_zero - Fold 1: MSE = 168.7177, R2 = -232.0345\n",
      "Run Ridge_lr_0.001_batch_mom_True_init_zero - Fold 2: MSE = 168.7284, R2 = -233.8675\n",
      "Run Ridge_lr_0.001_batch_mom_True_init_zero - Fold 3: MSE = 168.8419, R2 = -235.6410\n",
      "Run Ridge_lr_0.001_batch_mom_True_init_zero - Fold 4: MSE = 169.0685, R2 = -254.8501\n",
      "Run Ridge_lr_0.001_batch_mom_True_init_zero - Average CV MSE: 168.8353, Average CV R2: -239.9794\n",
      "Completed run: Ridge_lr_0.001_batch_mom_True_init_zero => CV R2: -239.9794\n",
      "🏃 View run Ridge_lr_0.001_batch_mom_True_init_zero at: http://localhost:5001/#/experiments/952159732461498036/runs/f914530bc75648dba2e4a5fe115589f6\n",
      "🧪 View experiment at: http://localhost:5001/#/experiments/952159732461498036\n",
      "Run Ridge_lr_0.001_batch_mom_True_init_xavier - Fold 0: MSE = 169.2807, R2 = -244.1715\n",
      "Run Ridge_lr_0.001_batch_mom_True_init_xavier - Fold 1: MSE = 168.9024, R2 = -232.2895\n",
      "Run Ridge_lr_0.001_batch_mom_True_init_xavier - Fold 2: MSE = 168.4182, R2 = -233.4356\n",
      "Run Ridge_lr_0.001_batch_mom_True_init_xavier - Fold 3: MSE = 168.9665, R2 = -235.8156\n",
      "Run Ridge_lr_0.001_batch_mom_True_init_xavier - Fold 4: MSE = 168.9897, R2 = -254.7308\n",
      "Run Ridge_lr_0.001_batch_mom_True_init_xavier - Average CV MSE: 168.9115, Average CV R2: -240.0886\n",
      "Completed run: Ridge_lr_0.001_batch_mom_True_init_xavier => CV R2: -240.0886\n",
      "🏃 View run Ridge_lr_0.001_batch_mom_True_init_xavier at: http://localhost:5001/#/experiments/952159732461498036/runs/7070539ae45b4879a13726db6cad4cea\n",
      "🧪 View experiment at: http://localhost:5001/#/experiments/952159732461498036\n",
      "Run Ridge_lr_0.001_batch_mom_False_init_zero - Fold 0: MSE = 168.8203, R2 = -243.5047\n",
      "Run Ridge_lr_0.001_batch_mom_False_init_zero - Fold 1: MSE = 169.2385, R2 = -232.7537\n",
      "Run Ridge_lr_0.001_batch_mom_False_init_zero - Fold 2: MSE = 169.2048, R2 = -234.5306\n",
      "Run Ridge_lr_0.001_batch_mom_False_init_zero - Fold 3: MSE = 169.1356, R2 = -236.0527\n",
      "Run Ridge_lr_0.001_batch_mom_False_init_zero - Fold 4: MSE = 169.5586, R2 = -255.5917\n",
      "Run Ridge_lr_0.001_batch_mom_False_init_zero - Average CV MSE: 169.1915, Average CV R2: -240.4867\n",
      "Completed run: Ridge_lr_0.001_batch_mom_False_init_zero => CV R2: -240.4867\n",
      "🏃 View run Ridge_lr_0.001_batch_mom_False_init_zero at: http://localhost:5001/#/experiments/952159732461498036/runs/8a7071b5253e423895a88f6e16298c32\n",
      "🧪 View experiment at: http://localhost:5001/#/experiments/952159732461498036\n",
      "Run Ridge_lr_0.001_batch_mom_False_init_xavier - Fold 0: MSE = 169.0663, R2 = -243.8610\n",
      "Run Ridge_lr_0.001_batch_mom_False_init_xavier - Fold 1: MSE = 170.2843, R2 = -234.1982\n",
      "Run Ridge_lr_0.001_batch_mom_False_init_xavier - Fold 2: MSE = 168.8925, R2 = -234.0959\n",
      "Run Ridge_lr_0.001_batch_mom_False_init_xavier - Fold 3: MSE = 169.8530, R2 = -237.0580\n",
      "Run Ridge_lr_0.001_batch_mom_False_init_xavier - Fold 4: MSE = 169.1198, R2 = -254.9277\n",
      "Run Ridge_lr_0.001_batch_mom_False_init_xavier - Average CV MSE: 169.4432, Average CV R2: -240.8282\n",
      "Completed run: Ridge_lr_0.001_batch_mom_False_init_xavier => CV R2: -240.8282\n",
      "🏃 View run Ridge_lr_0.001_batch_mom_False_init_xavier at: http://localhost:5001/#/experiments/952159732461498036/runs/d7013a1565aa487d8c07fb87503777ff\n",
      "🧪 View experiment at: http://localhost:5001/#/experiments/952159732461498036\n",
      "Run Ridge_lr_0.0001_sto_mom_True_init_zero - Fold 0: MSE = 169.1961, R2 = -244.0490\n",
      "Run Ridge_lr_0.0001_sto_mom_True_init_zero - Fold 1: MSE = 168.6239, R2 = -231.9048\n",
      "Run Ridge_lr_0.0001_sto_mom_True_init_zero - Fold 2: MSE = 169.0236, R2 = -234.2784\n",
      "Run Ridge_lr_0.0001_sto_mom_True_init_zero - Fold 3: MSE = 169.0582, R2 = -235.9442\n",
      "Run Ridge_lr_0.0001_sto_mom_True_init_zero - Fold 4: MSE = 169.1880, R2 = -255.0309\n",
      "Run Ridge_lr_0.0001_sto_mom_True_init_zero - Average CV MSE: 169.0180, Average CV R2: -240.2415\n",
      "Completed run: Ridge_lr_0.0001_sto_mom_True_init_zero => CV R2: -240.2415\n",
      "🏃 View run Ridge_lr_0.0001_sto_mom_True_init_zero at: http://localhost:5001/#/experiments/952159732461498036/runs/caa58988ac794489ac9b2e7c34a7b006\n",
      "🧪 View experiment at: http://localhost:5001/#/experiments/952159732461498036\n",
      "Run Ridge_lr_0.0001_sto_mom_True_init_xavier - Fold 0: MSE = 169.3629, R2 = -244.2906\n",
      "Run Ridge_lr_0.0001_sto_mom_True_init_xavier - Fold 1: MSE = 168.7811, R2 = -232.1220\n",
      "Run Ridge_lr_0.0001_sto_mom_True_init_xavier - Fold 2: MSE = 168.7857, R2 = -233.9472\n",
      "Run Ridge_lr_0.0001_sto_mom_True_init_xavier - Fold 3: MSE = 169.3833, R2 = -236.3998\n",
      "Run Ridge_lr_0.0001_sto_mom_True_init_xavier - Fold 4: MSE = 169.7598, R2 = -255.8962\n",
      "Run Ridge_lr_0.0001_sto_mom_True_init_xavier - Average CV MSE: 169.2146, Average CV R2: -240.5312\n",
      "Completed run: Ridge_lr_0.0001_sto_mom_True_init_xavier => CV R2: -240.5312\n",
      "🏃 View run Ridge_lr_0.0001_sto_mom_True_init_xavier at: http://localhost:5001/#/experiments/952159732461498036/runs/c053ab1a3d4348778d680fe799d3fbb8\n",
      "🧪 View experiment at: http://localhost:5001/#/experiments/952159732461498036\n",
      "Run Ridge_lr_0.0001_sto_mom_False_init_zero - Fold 0: MSE = 169.3369, R2 = -244.2529\n",
      "Run Ridge_lr_0.0001_sto_mom_False_init_zero - Fold 1: MSE = 168.5238, R2 = -231.7666\n",
      "Run Ridge_lr_0.0001_sto_mom_False_init_zero - Fold 2: MSE = 168.7152, R2 = -233.8491\n",
      "Run Ridge_lr_0.0001_sto_mom_False_init_zero - Fold 3: MSE = 168.9067, R2 = -235.7318\n",
      "Run Ridge_lr_0.0001_sto_mom_False_init_zero - Fold 4: MSE = 169.0209, R2 = -254.7780\n",
      "Run Ridge_lr_0.0001_sto_mom_False_init_zero - Average CV MSE: 168.9007, Average CV R2: -240.0757\n",
      "Completed run: Ridge_lr_0.0001_sto_mom_False_init_zero => CV R2: -240.0757\n",
      "🏃 View run Ridge_lr_0.0001_sto_mom_False_init_zero at: http://localhost:5001/#/experiments/952159732461498036/runs/ccd65a76f7b24a78b378d2013d598317\n",
      "🧪 View experiment at: http://localhost:5001/#/experiments/952159732461498036\n",
      "Run Ridge_lr_0.0001_sto_mom_False_init_xavier - Fold 0: MSE = 169.3779, R2 = -244.3124\n",
      "Run Ridge_lr_0.0001_sto_mom_False_init_xavier - Fold 1: MSE = 168.5153, R2 = -231.7549\n",
      "Run Ridge_lr_0.0001_sto_mom_False_init_xavier - Fold 2: MSE = 168.7171, R2 = -233.8517\n",
      "Run Ridge_lr_0.0001_sto_mom_False_init_xavier - Fold 3: MSE = 168.8567, R2 = -235.6618\n",
      "Run Ridge_lr_0.0001_sto_mom_False_init_xavier - Fold 4: MSE = 168.9782, R2 = -254.7133\n",
      "Run Ridge_lr_0.0001_sto_mom_False_init_xavier - Average CV MSE: 168.8890, Average CV R2: -240.0588\n",
      "Completed run: Ridge_lr_0.0001_sto_mom_False_init_xavier => CV R2: -240.0588\n",
      "🏃 View run Ridge_lr_0.0001_sto_mom_False_init_xavier at: http://localhost:5001/#/experiments/952159732461498036/runs/3b178f32fdc148ee92af3d76d2015d91\n",
      "🧪 View experiment at: http://localhost:5001/#/experiments/952159732461498036\n",
      "Run Ridge_lr_0.0001_mini_mom_True_init_zero - Fold 0: MSE = 169.2398, R2 = -244.1122\n",
      "Run Ridge_lr_0.0001_mini_mom_True_init_zero - Fold 1: MSE = 168.5324, R2 = -231.7785\n",
      "Run Ridge_lr_0.0001_mini_mom_True_init_zero - Fold 2: MSE = 168.6544, R2 = -233.7645\n",
      "Run Ridge_lr_0.0001_mini_mom_True_init_zero - Fold 3: MSE = 168.8748, R2 = -235.6871\n",
      "Run Ridge_lr_0.0001_mini_mom_True_init_zero - Fold 4: MSE = 168.9854, R2 = -254.7243\n",
      "Run Ridge_lr_0.0001_mini_mom_True_init_zero - Average CV MSE: 168.8574, Average CV R2: -240.0133\n",
      "Completed run: Ridge_lr_0.0001_mini_mom_True_init_zero => CV R2: -240.0133\n",
      "🏃 View run Ridge_lr_0.0001_mini_mom_True_init_zero at: http://localhost:5001/#/experiments/952159732461498036/runs/2f0b21342e044575ad6a2caa91a15d7e\n",
      "🧪 View experiment at: http://localhost:5001/#/experiments/952159732461498036\n",
      "Run Ridge_lr_0.0001_mini_mom_True_init_xavier - Fold 0: MSE = 169.3916, R2 = -244.3322\n",
      "Run Ridge_lr_0.0001_mini_mom_True_init_xavier - Fold 1: MSE = 168.5673, R2 = -231.8267\n",
      "Run Ridge_lr_0.0001_mini_mom_True_init_xavier - Fold 2: MSE = 168.7037, R2 = -233.8330\n",
      "Run Ridge_lr_0.0001_mini_mom_True_init_xavier - Fold 3: MSE = 169.0412, R2 = -235.9204\n",
      "Run Ridge_lr_0.0001_mini_mom_True_init_xavier - Fold 4: MSE = 169.0524, R2 = -254.8256\n",
      "Run Ridge_lr_0.0001_mini_mom_True_init_xavier - Average CV MSE: 168.9512, Average CV R2: -240.1476\n",
      "Completed run: Ridge_lr_0.0001_mini_mom_True_init_xavier => CV R2: -240.1476\n",
      "🏃 View run Ridge_lr_0.0001_mini_mom_True_init_xavier at: http://localhost:5001/#/experiments/952159732461498036/runs/1d58113310a84a7ca2c680fd86bfc734\n",
      "🧪 View experiment at: http://localhost:5001/#/experiments/952159732461498036\n",
      "Run Ridge_lr_0.0001_mini_mom_False_init_zero - Fold 0: MSE = 168.8091, R2 = -243.4885\n",
      "Run Ridge_lr_0.0001_mini_mom_False_init_zero - Fold 1: MSE = 168.7424, R2 = -232.0686\n",
      "Run Ridge_lr_0.0001_mini_mom_False_init_zero - Fold 2: MSE = 168.7557, R2 = -233.9054\n",
      "Run Ridge_lr_0.0001_mini_mom_False_init_zero - Fold 3: MSE = 168.8571, R2 = -235.6623\n",
      "Run Ridge_lr_0.0001_mini_mom_False_init_zero - Fold 4: MSE = 169.0987, R2 = -254.8957\n",
      "Run Ridge_lr_0.0001_mini_mom_False_init_zero - Average CV MSE: 168.8526, Average CV R2: -240.0041\n",
      "Completed run: Ridge_lr_0.0001_mini_mom_False_init_zero => CV R2: -240.0041\n",
      "🏃 View run Ridge_lr_0.0001_mini_mom_False_init_zero at: http://localhost:5001/#/experiments/952159732461498036/runs/a6f0e79f78974bd4a88f548e25f87bcf\n",
      "🧪 View experiment at: http://localhost:5001/#/experiments/952159732461498036\n",
      "Run Ridge_lr_0.0001_mini_mom_False_init_xavier - Fold 0: MSE = 169.2213, R2 = -244.0855\n",
      "Run Ridge_lr_0.0001_mini_mom_False_init_xavier - Fold 1: MSE = 168.7262, R2 = -232.0461\n",
      "Run Ridge_lr_0.0001_mini_mom_False_init_xavier - Fold 2: MSE = 168.7997, R2 = -233.9667\n",
      "Run Ridge_lr_0.0001_mini_mom_False_init_xavier - Fold 3: MSE = 169.0040, R2 = -235.8681\n",
      "Run Ridge_lr_0.0001_mini_mom_False_init_xavier - Fold 4: MSE = 169.1435, R2 = -254.9635\n",
      "Run Ridge_lr_0.0001_mini_mom_False_init_xavier - Average CV MSE: 168.9789, Average CV R2: -240.1860\n",
      "Completed run: Ridge_lr_0.0001_mini_mom_False_init_xavier => CV R2: -240.1860\n",
      "🏃 View run Ridge_lr_0.0001_mini_mom_False_init_xavier at: http://localhost:5001/#/experiments/952159732461498036/runs/b293363160c945eab638fe526c6800d9\n",
      "🧪 View experiment at: http://localhost:5001/#/experiments/952159732461498036\n",
      "Run Ridge_lr_0.0001_batch_mom_True_init_zero - Fold 0: MSE = 168.8210, R2 = -243.5058\n",
      "Run Ridge_lr_0.0001_batch_mom_True_init_zero - Fold 1: MSE = 169.3702, R2 = -232.9357\n",
      "Run Ridge_lr_0.0001_batch_mom_True_init_zero - Fold 2: MSE = 169.3304, R2 = -234.7054\n",
      "Run Ridge_lr_0.0001_batch_mom_True_init_zero - Fold 3: MSE = 169.2338, R2 = -236.1902\n",
      "Run Ridge_lr_0.0001_batch_mom_True_init_zero - Fold 4: MSE = 169.6854, R2 = -255.7835\n",
      "Run Ridge_lr_0.0001_batch_mom_True_init_zero - Average CV MSE: 169.2881, Average CV R2: -240.6241\n",
      "Completed run: Ridge_lr_0.0001_batch_mom_True_init_zero => CV R2: -240.6241\n",
      "🏃 View run Ridge_lr_0.0001_batch_mom_True_init_zero at: http://localhost:5001/#/experiments/952159732461498036/runs/cdffcfc47ef74f3fa1c04c38bfcdb4f5\n",
      "🧪 View experiment at: http://localhost:5001/#/experiments/952159732461498036\n",
      "Run Ridge_lr_0.0001_batch_mom_True_init_xavier - Fold 0: MSE = 169.3232, R2 = -244.2332\n",
      "Run Ridge_lr_0.0001_batch_mom_True_init_xavier - Fold 1: MSE = 169.5502, R2 = -233.1843\n",
      "Run Ridge_lr_0.0001_batch_mom_True_init_xavier - Fold 2: MSE = 170.6611, R2 = -236.5577\n",
      "Run Ridge_lr_0.0001_batch_mom_True_init_xavier - Fold 3: MSE = 169.0784, R2 = -235.9724\n",
      "Run Ridge_lr_0.0001_batch_mom_True_init_xavier - Fold 4: MSE = 170.6778, R2 = -257.2854\n",
      "Run Ridge_lr_0.0001_batch_mom_True_init_xavier - Average CV MSE: 169.8581, Average CV R2: -241.4466\n",
      "Completed run: Ridge_lr_0.0001_batch_mom_True_init_xavier => CV R2: -241.4466\n",
      "🏃 View run Ridge_lr_0.0001_batch_mom_True_init_xavier at: http://localhost:5001/#/experiments/952159732461498036/runs/61e83d148f6642358d2baaa4987e0076\n",
      "🧪 View experiment at: http://localhost:5001/#/experiments/952159732461498036\n",
      "Run Ridge_lr_0.0001_batch_mom_False_init_zero - Fold 0: MSE = 168.8211, R2 = -243.5059\n",
      "Run Ridge_lr_0.0001_batch_mom_False_init_zero - Fold 1: MSE = 169.3704, R2 = -232.9360\n",
      "Run Ridge_lr_0.0001_batch_mom_False_init_zero - Fold 2: MSE = 169.3306, R2 = -234.7057\n",
      "Run Ridge_lr_0.0001_batch_mom_False_init_zero - Fold 3: MSE = 169.2340, R2 = -236.1905\n",
      "Run Ridge_lr_0.0001_batch_mom_False_init_zero - Fold 4: MSE = 169.6856, R2 = -255.7839\n",
      "Run Ridge_lr_0.0001_batch_mom_False_init_zero - Average CV MSE: 169.2883, Average CV R2: -240.6244\n",
      "Completed run: Ridge_lr_0.0001_batch_mom_False_init_zero => CV R2: -240.6244\n",
      "🏃 View run Ridge_lr_0.0001_batch_mom_False_init_zero at: http://localhost:5001/#/experiments/952159732461498036/runs/5fdd68b3610345dc854b6b3755c8f1fb\n",
      "🧪 View experiment at: http://localhost:5001/#/experiments/952159732461498036\n",
      "Run Ridge_lr_0.0001_batch_mom_False_init_xavier - Fold 0: MSE = 168.8489, R2 = -243.5462\n",
      "Run Ridge_lr_0.0001_batch_mom_False_init_xavier - Fold 1: MSE = 169.5389, R2 = -233.1686\n",
      "Run Ridge_lr_0.0001_batch_mom_False_init_xavier - Fold 2: MSE = 169.5995, R2 = -235.0800\n",
      "Run Ridge_lr_0.0001_batch_mom_False_init_xavier - Fold 3: MSE = 169.6071, R2 = -236.7134\n",
      "Run Ridge_lr_0.0001_batch_mom_False_init_xavier - Fold 4: MSE = 170.5373, R2 = -257.0727\n",
      "Run Ridge_lr_0.0001_batch_mom_False_init_xavier - Average CV MSE: 169.6263, Average CV R2: -241.1162\n",
      "Completed run: Ridge_lr_0.0001_batch_mom_False_init_xavier => CV R2: -241.1162\n",
      "🏃 View run Ridge_lr_0.0001_batch_mom_False_init_xavier at: http://localhost:5001/#/experiments/952159732461498036/runs/380c537d0d1a4c5a8ccb249cda0a3d7e\n",
      "🧪 View experiment at: http://localhost:5001/#/experiments/952159732461498036\n",
      "Run Normal_lr_0.01_sto_mom_True_init_zero - Fold 0: MSE = 354.7579, R2 = -512.8008\n",
      "Run Normal_lr_0.01_sto_mom_True_init_zero - Fold 1: MSE = 174.2790, R2 = -239.7158\n",
      "Run Normal_lr_0.01_sto_mom_True_init_zero - Fold 2: MSE = 248.6415, R2 = -345.1053\n",
      "Run Normal_lr_0.01_sto_mom_True_init_zero - Fold 3: MSE = 210.6029, R2 = -294.1712\n",
      "Run Normal_lr_0.01_sto_mom_True_init_zero - Fold 4: MSE = 209.2904, R2 = -315.7175\n",
      "Run Normal_lr_0.01_sto_mom_True_init_zero - Average CV MSE: 239.5143, Average CV R2: -341.5021\n",
      "Completed run: Normal_lr_0.01_sto_mom_True_init_zero => CV R2: -341.5021\n",
      "🏃 View run Normal_lr_0.01_sto_mom_True_init_zero at: http://localhost:5001/#/experiments/952159732461498036/runs/eea963ee7acb498e918834fd9f1d76ef\n",
      "🧪 View experiment at: http://localhost:5001/#/experiments/952159732461498036\n",
      "Run Normal_lr_0.01_sto_mom_True_init_xavier - Fold 0: MSE = 366.3992, R2 = -529.6610\n",
      "Run Normal_lr_0.01_sto_mom_True_init_xavier - Fold 1: MSE = 223.2693, R2 = -307.3817\n",
      "Run Normal_lr_0.01_sto_mom_True_init_xavier - Fold 2: MSE = 500.2559, R2 = -695.3488\n",
      "Run Normal_lr_0.01_sto_mom_True_init_xavier - Fold 3: MSE = 252.4456, R2 = -352.8160\n",
      "Run Normal_lr_0.01_sto_mom_True_init_xavier - Fold 4: MSE = 189.1044, R2 = -285.1702\n",
      "Run Normal_lr_0.01_sto_mom_True_init_xavier - Average CV MSE: 306.2949, Average CV R2: -434.0755\n",
      "Completed run: Normal_lr_0.01_sto_mom_True_init_xavier => CV R2: -434.0755\n",
      "🏃 View run Normal_lr_0.01_sto_mom_True_init_xavier at: http://localhost:5001/#/experiments/952159732461498036/runs/02514e7c57c549128255f20062772c72\n",
      "🧪 View experiment at: http://localhost:5001/#/experiments/952159732461498036\n",
      "Run Normal_lr_0.01_sto_mom_False_init_zero - Fold 0: MSE = 175.1771, R2 = -252.7114\n",
      "Run Normal_lr_0.01_sto_mom_False_init_zero - Fold 1: MSE = 174.3226, R2 = -239.7760\n",
      "Run Normal_lr_0.01_sto_mom_False_init_zero - Fold 2: MSE = 173.5089, R2 = -240.5218\n",
      "Run Normal_lr_0.01_sto_mom_False_init_zero - Fold 3: MSE = 171.6971, R2 = -239.6427\n",
      "Run Normal_lr_0.01_sto_mom_False_init_zero - Fold 4: MSE = 170.8505, R2 = -257.5468\n",
      "Run Normal_lr_0.01_sto_mom_False_init_zero - Average CV MSE: 173.1112, Average CV R2: -246.0397\n",
      "Completed run: Normal_lr_0.01_sto_mom_False_init_zero => CV R2: -246.0397\n",
      "🏃 View run Normal_lr_0.01_sto_mom_False_init_zero at: http://localhost:5001/#/experiments/952159732461498036/runs/b7c24383ba6c4c8289ac37ec86c4c018\n",
      "🧪 View experiment at: http://localhost:5001/#/experiments/952159732461498036\n",
      "Run Normal_lr_0.01_sto_mom_False_init_xavier - Fold 0: MSE = 173.2042, R2 = -249.8539\n",
      "Run Normal_lr_0.01_sto_mom_False_init_xavier - Fold 1: MSE = 181.1305, R2 = -249.1791\n",
      "Run Normal_lr_0.01_sto_mom_False_init_xavier - Fold 2: MSE = 173.5434, R2 = -240.5699\n",
      "Run Normal_lr_0.01_sto_mom_False_init_xavier - Fold 3: MSE = 175.6231, R2 = -245.1452\n",
      "Run Normal_lr_0.01_sto_mom_False_init_xavier - Fold 4: MSE = 173.7238, R2 = -261.8948\n",
      "Run Normal_lr_0.01_sto_mom_False_init_xavier - Average CV MSE: 175.4450, Average CV R2: -249.3286\n",
      "Completed run: Normal_lr_0.01_sto_mom_False_init_xavier => CV R2: -249.3286\n",
      "🏃 View run Normal_lr_0.01_sto_mom_False_init_xavier at: http://localhost:5001/#/experiments/952159732461498036/runs/d083ce0998ad4c7ba6710aa157ba4f4d\n",
      "🧪 View experiment at: http://localhost:5001/#/experiments/952159732461498036\n",
      "Run Normal_lr_0.01_mini_mom_True_init_zero - Fold 0: MSE = 173.7134, R2 = -250.5915\n",
      "Run Normal_lr_0.01_mini_mom_True_init_zero - Fold 1: MSE = 170.3423, R2 = -234.2784\n",
      "Run Normal_lr_0.01_mini_mom_True_init_zero - Fold 2: MSE = 169.4080, R2 = -234.8135\n",
      "Run Normal_lr_0.01_mini_mom_True_init_zero - Fold 3: MSE = 169.0806, R2 = -235.9755\n",
      "Run Normal_lr_0.01_mini_mom_True_init_zero - Fold 4: MSE = 170.7342, R2 = -257.3707\n",
      "Run Normal_lr_0.01_mini_mom_True_init_zero - Average CV MSE: 170.6557, Average CV R2: -242.6059\n",
      "Completed run: Normal_lr_0.01_mini_mom_True_init_zero => CV R2: -242.6059\n",
      "🏃 View run Normal_lr_0.01_mini_mom_True_init_zero at: http://localhost:5001/#/experiments/952159732461498036/runs/64f552d90af74341a88eaf71e1b1f18f\n",
      "🧪 View experiment at: http://localhost:5001/#/experiments/952159732461498036\n",
      "Run Normal_lr_0.01_mini_mom_True_init_xavier - Fold 0: MSE = 171.3144, R2 = -247.1170\n",
      "Run Normal_lr_0.01_mini_mom_True_init_xavier - Fold 1: MSE = 170.6403, R2 = -234.6899\n",
      "Run Normal_lr_0.01_mini_mom_True_init_xavier - Fold 2: MSE = 169.7891, R2 = -235.3440\n",
      "Run Normal_lr_0.01_mini_mom_True_init_xavier - Fold 3: MSE = 169.3422, R2 = -236.3422\n",
      "Run Normal_lr_0.01_mini_mom_True_init_xavier - Fold 4: MSE = 169.2481, R2 = -255.1218\n",
      "Run Normal_lr_0.01_mini_mom_True_init_xavier - Average CV MSE: 170.0668, Average CV R2: -241.7230\n",
      "Completed run: Normal_lr_0.01_mini_mom_True_init_xavier => CV R2: -241.7230\n",
      "🏃 View run Normal_lr_0.01_mini_mom_True_init_xavier at: http://localhost:5001/#/experiments/952159732461498036/runs/49abdd51af014f318ca8c7677ba45ddf\n",
      "🧪 View experiment at: http://localhost:5001/#/experiments/952159732461498036\n",
      "Run Normal_lr_0.01_mini_mom_False_init_zero - Fold 0: MSE = 169.3443, R2 = -244.2637\n",
      "Run Normal_lr_0.01_mini_mom_False_init_zero - Fold 1: MSE = 168.5045, R2 = -231.7400\n",
      "Run Normal_lr_0.01_mini_mom_False_init_zero - Fold 2: MSE = 168.8318, R2 = -234.0113\n",
      "Run Normal_lr_0.01_mini_mom_False_init_zero - Fold 3: MSE = 168.9666, R2 = -235.8158\n",
      "Run Normal_lr_0.01_mini_mom_False_init_zero - Fold 4: MSE = 169.0282, R2 = -254.7890\n",
      "Run Normal_lr_0.01_mini_mom_False_init_zero - Average CV MSE: 168.9351, Average CV R2: -240.1240\n",
      "Completed run: Normal_lr_0.01_mini_mom_False_init_zero => CV R2: -240.1240\n",
      "🏃 View run Normal_lr_0.01_mini_mom_False_init_zero at: http://localhost:5001/#/experiments/952159732461498036/runs/a7efcbfb869a44fa8cebffb7b7a2ceb3\n",
      "🧪 View experiment at: http://localhost:5001/#/experiments/952159732461498036\n",
      "Run Normal_lr_0.01_mini_mom_False_init_xavier - Fold 0: MSE = 169.3477, R2 = -244.2686\n",
      "Run Normal_lr_0.01_mini_mom_False_init_xavier - Fold 1: MSE = 168.4986, R2 = -231.7318\n",
      "Run Normal_lr_0.01_mini_mom_False_init_xavier - Fold 2: MSE = 168.8631, R2 = -234.0550\n",
      "Run Normal_lr_0.01_mini_mom_False_init_xavier - Fold 3: MSE = 169.0230, R2 = -235.8949\n",
      "Run Normal_lr_0.01_mini_mom_False_init_xavier - Fold 4: MSE = 169.2723, R2 = -255.1585\n",
      "Run Normal_lr_0.01_mini_mom_False_init_xavier - Average CV MSE: 169.0009, Average CV R2: -240.2217\n",
      "Completed run: Normal_lr_0.01_mini_mom_False_init_xavier => CV R2: -240.2217\n",
      "🏃 View run Normal_lr_0.01_mini_mom_False_init_xavier at: http://localhost:5001/#/experiments/952159732461498036/runs/a3e7ae13b19540f9984a8baab14cc348\n",
      "🧪 View experiment at: http://localhost:5001/#/experiments/952159732461498036\n",
      "Run Normal_lr_0.01_batch_mom_True_init_zero - Fold 0: MSE = 169.9836, R2 = -245.1896\n",
      "Run Normal_lr_0.01_batch_mom_True_init_zero - Fold 1: MSE = 168.4197, R2 = -231.6229\n",
      "Run Normal_lr_0.01_batch_mom_True_init_zero - Fold 2: MSE = 168.5452, R2 = -233.6124\n",
      "Run Normal_lr_0.01_batch_mom_True_init_zero - Fold 3: MSE = 169.0508, R2 = -235.9338\n",
      "Run Normal_lr_0.01_batch_mom_True_init_zero - Fold 4: MSE = 168.8538, R2 = -254.5251\n",
      "Run Normal_lr_0.01_batch_mom_True_init_zero - Average CV MSE: 168.9706, Average CV R2: -240.1768\n",
      "Completed run: Normal_lr_0.01_batch_mom_True_init_zero => CV R2: -240.1768\n",
      "🏃 View run Normal_lr_0.01_batch_mom_True_init_zero at: http://localhost:5001/#/experiments/952159732461498036/runs/aa354933c3cd43d7b3045995b4ae7edb\n",
      "🧪 View experiment at: http://localhost:5001/#/experiments/952159732461498036\n",
      "Run Normal_lr_0.01_batch_mom_True_init_xavier - Fold 0: MSE = 169.2814, R2 = -244.1726\n",
      "Run Normal_lr_0.01_batch_mom_True_init_xavier - Fold 1: MSE = 168.3836, R2 = -231.5730\n",
      "Run Normal_lr_0.01_batch_mom_True_init_xavier - Fold 2: MSE = 168.5388, R2 = -233.6035\n",
      "Run Normal_lr_0.01_batch_mom_True_init_xavier - Fold 3: MSE = 169.0732, R2 = -235.9651\n",
      "Run Normal_lr_0.01_batch_mom_True_init_xavier - Fold 4: MSE = 168.9360, R2 = -254.6495\n",
      "Run Normal_lr_0.01_batch_mom_True_init_xavier - Average CV MSE: 168.8426, Average CV R2: -239.9927\n",
      "Completed run: Normal_lr_0.01_batch_mom_True_init_xavier => CV R2: -239.9927\n",
      "🏃 View run Normal_lr_0.01_batch_mom_True_init_xavier at: http://localhost:5001/#/experiments/952159732461498036/runs/8caf675c58b349afad3139d2b2ab73fb\n",
      "🧪 View experiment at: http://localhost:5001/#/experiments/952159732461498036\n",
      "Run Normal_lr_0.01_batch_mom_False_init_zero - Fold 0: MSE = 168.8096, R2 = -243.4893\n",
      "Run Normal_lr_0.01_batch_mom_False_init_zero - Fold 1: MSE = 168.6946, R2 = -232.0026\n",
      "Run Normal_lr_0.01_batch_mom_False_init_zero - Fold 2: MSE = 168.7162, R2 = -233.8505\n",
      "Run Normal_lr_0.01_batch_mom_False_init_zero - Fold 3: MSE = 168.8507, R2 = -235.6534\n",
      "Run Normal_lr_0.01_batch_mom_False_init_zero - Fold 4: MSE = 169.0575, R2 = -254.8333\n",
      "Run Normal_lr_0.01_batch_mom_False_init_zero - Average CV MSE: 168.8257, Average CV R2: -239.9658\n",
      "Completed run: Normal_lr_0.01_batch_mom_False_init_zero => CV R2: -239.9658\n",
      "🏃 View run Normal_lr_0.01_batch_mom_False_init_zero at: http://localhost:5001/#/experiments/952159732461498036/runs/494e7a2142ab4d3e8e9c2dd9cdcb0878\n",
      "🧪 View experiment at: http://localhost:5001/#/experiments/952159732461498036\n",
      "Run Normal_lr_0.01_batch_mom_False_init_xavier - Fold 0: MSE = 168.8704, R2 = -243.5773\n",
      "Run Normal_lr_0.01_batch_mom_False_init_xavier - Fold 1: MSE = 168.9822, R2 = -232.3998\n",
      "Run Normal_lr_0.01_batch_mom_False_init_xavier - Fold 2: MSE = 168.7073, R2 = -233.8381\n",
      "Run Normal_lr_0.01_batch_mom_False_init_xavier - Fold 3: MSE = 169.2560, R2 = -236.2213\n",
      "Run Normal_lr_0.01_batch_mom_False_init_xavier - Fold 4: MSE = 169.1637, R2 = -254.9941\n",
      "Run Normal_lr_0.01_batch_mom_False_init_xavier - Average CV MSE: 168.9959, Average CV R2: -240.2061\n",
      "Completed run: Normal_lr_0.01_batch_mom_False_init_xavier => CV R2: -240.2061\n",
      "🏃 View run Normal_lr_0.01_batch_mom_False_init_xavier at: http://localhost:5001/#/experiments/952159732461498036/runs/a16dc371a125442bb1a1228088b41e97\n",
      "🧪 View experiment at: http://localhost:5001/#/experiments/952159732461498036\n",
      "Run Normal_lr_0.001_sto_mom_True_init_zero - Fold 0: MSE = 171.3217, R2 = -247.1276\n",
      "Run Normal_lr_0.001_sto_mom_True_init_zero - Fold 1: MSE = 178.5284, R2 = -245.5851\n",
      "Run Normal_lr_0.001_sto_mom_True_init_zero - Fold 2: MSE = 170.5604, R2 = -236.4175\n",
      "Run Normal_lr_0.001_sto_mom_True_init_zero - Fold 3: MSE = 172.5494, R2 = -240.8372\n",
      "Run Normal_lr_0.001_sto_mom_True_init_zero - Fold 4: MSE = 169.0764, R2 = -254.8619\n",
      "Run Normal_lr_0.001_sto_mom_True_init_zero - Average CV MSE: 172.4073, Average CV R2: -244.9659\n",
      "Completed run: Normal_lr_0.001_sto_mom_True_init_zero => CV R2: -244.9659\n",
      "🏃 View run Normal_lr_0.001_sto_mom_True_init_zero at: http://localhost:5001/#/experiments/952159732461498036/runs/2193893214df41c281219080ef9b42ef\n",
      "🧪 View experiment at: http://localhost:5001/#/experiments/952159732461498036\n",
      "Run Normal_lr_0.001_sto_mom_True_init_xavier - Fold 0: MSE = 184.9034, R2 = -266.7982\n",
      "Run Normal_lr_0.001_sto_mom_True_init_xavier - Fold 1: MSE = 172.3356, R2 = -237.0316\n",
      "Run Normal_lr_0.001_sto_mom_True_init_xavier - Fold 2: MSE = 170.8358, R2 = -236.8009\n",
      "Run Normal_lr_0.001_sto_mom_True_init_xavier - Fold 3: MSE = 170.0828, R2 = -237.3801\n",
      "Run Normal_lr_0.001_sto_mom_True_init_xavier - Fold 4: MSE = 170.2058, R2 = -256.5711\n",
      "Run Normal_lr_0.001_sto_mom_True_init_xavier - Average CV MSE: 173.6727, Average CV R2: -246.9164\n",
      "Completed run: Normal_lr_0.001_sto_mom_True_init_xavier => CV R2: -246.9164\n",
      "🏃 View run Normal_lr_0.001_sto_mom_True_init_xavier at: http://localhost:5001/#/experiments/952159732461498036/runs/8e88a4fb2caf43289481d14338471cec\n",
      "🧪 View experiment at: http://localhost:5001/#/experiments/952159732461498036\n",
      "Run Normal_lr_0.001_sto_mom_False_init_zero - Fold 0: MSE = 170.9849, R2 = -246.6397\n",
      "Run Normal_lr_0.001_sto_mom_False_init_zero - Fold 1: MSE = 168.3860, R2 = -231.5763\n",
      "Run Normal_lr_0.001_sto_mom_False_init_zero - Fold 2: MSE = 169.1753, R2 = -234.4895\n",
      "Run Normal_lr_0.001_sto_mom_False_init_zero - Fold 3: MSE = 168.9521, R2 = -235.7955\n",
      "Run Normal_lr_0.001_sto_mom_False_init_zero - Fold 4: MSE = 169.4397, R2 = -255.4117\n",
      "Run Normal_lr_0.001_sto_mom_False_init_zero - Average CV MSE: 169.3876, Average CV R2: -240.7826\n",
      "Completed run: Normal_lr_0.001_sto_mom_False_init_zero => CV R2: -240.7826\n",
      "🏃 View run Normal_lr_0.001_sto_mom_False_init_zero at: http://localhost:5001/#/experiments/952159732461498036/runs/d7e612add47b4980a370a6700b9cf675\n",
      "🧪 View experiment at: http://localhost:5001/#/experiments/952159732461498036\n",
      "Run Normal_lr_0.001_sto_mom_False_init_xavier - Fold 0: MSE = 168.8078, R2 = -243.4866\n",
      "Run Normal_lr_0.001_sto_mom_False_init_xavier - Fold 1: MSE = 168.7751, R2 = -232.1137\n",
      "Run Normal_lr_0.001_sto_mom_False_init_xavier - Fold 2: MSE = 168.9356, R2 = -234.1559\n",
      "Run Normal_lr_0.001_sto_mom_False_init_xavier - Fold 3: MSE = 168.9774, R2 = -235.8308\n",
      "Run Normal_lr_0.001_sto_mom_False_init_xavier - Fold 4: MSE = 169.0857, R2 = -254.8760\n",
      "Run Normal_lr_0.001_sto_mom_False_init_xavier - Average CV MSE: 168.9163, Average CV R2: -240.0926\n",
      "Completed run: Normal_lr_0.001_sto_mom_False_init_xavier => CV R2: -240.0926\n",
      "🏃 View run Normal_lr_0.001_sto_mom_False_init_xavier at: http://localhost:5001/#/experiments/952159732461498036/runs/56842c61cba8427d828c0a082d7277bd\n",
      "🧪 View experiment at: http://localhost:5001/#/experiments/952159732461498036\n",
      "Run Normal_lr_0.001_mini_mom_True_init_zero - Fold 0: MSE = 169.4408, R2 = -244.4035\n",
      "Run Normal_lr_0.001_mini_mom_True_init_zero - Fold 1: MSE = 168.5513, R2 = -231.8046\n",
      "Run Normal_lr_0.001_mini_mom_True_init_zero - Fold 2: MSE = 168.8686, R2 = -234.0626\n",
      "Run Normal_lr_0.001_mini_mom_True_init_zero - Fold 3: MSE = 168.9904, R2 = -235.8491\n",
      "Run Normal_lr_0.001_mini_mom_True_init_zero - Fold 4: MSE = 169.0892, R2 = -254.8814\n",
      "Run Normal_lr_0.001_mini_mom_True_init_zero - Average CV MSE: 168.9881, Average CV R2: -240.2003\n",
      "Completed run: Normal_lr_0.001_mini_mom_True_init_zero => CV R2: -240.2003\n",
      "🏃 View run Normal_lr_0.001_mini_mom_True_init_zero at: http://localhost:5001/#/experiments/952159732461498036/runs/7b5fdb1f463a4d9eba4412eea012deaa\n",
      "🧪 View experiment at: http://localhost:5001/#/experiments/952159732461498036\n",
      "Run Normal_lr_0.001_mini_mom_True_init_xavier - Fold 0: MSE = 169.4283, R2 = -244.3854\n",
      "Run Normal_lr_0.001_mini_mom_True_init_xavier - Fold 1: MSE = 168.5467, R2 = -231.7983\n",
      "Run Normal_lr_0.001_mini_mom_True_init_xavier - Fold 2: MSE = 168.8574, R2 = -234.0470\n",
      "Run Normal_lr_0.001_mini_mom_True_init_xavier - Fold 3: MSE = 168.9285, R2 = -235.7624\n",
      "Run Normal_lr_0.001_mini_mom_True_init_xavier - Fold 4: MSE = 169.1161, R2 = -254.9221\n",
      "Run Normal_lr_0.001_mini_mom_True_init_xavier - Average CV MSE: 168.9754, Average CV R2: -240.1830\n",
      "Completed run: Normal_lr_0.001_mini_mom_True_init_xavier => CV R2: -240.1830\n",
      "🏃 View run Normal_lr_0.001_mini_mom_True_init_xavier at: http://localhost:5001/#/experiments/952159732461498036/runs/be1cf73e00bc4d8b8d3c5b84bbd055a1\n",
      "🧪 View experiment at: http://localhost:5001/#/experiments/952159732461498036\n",
      "Run Normal_lr_0.001_mini_mom_False_init_zero - Fold 0: MSE = 169.4384, R2 = -244.4000\n",
      "Run Normal_lr_0.001_mini_mom_False_init_zero - Fold 1: MSE = 168.4987, R2 = -231.7320\n",
      "Run Normal_lr_0.001_mini_mom_False_init_zero - Fold 2: MSE = 168.6330, R2 = -233.7347\n",
      "Run Normal_lr_0.001_mini_mom_False_init_zero - Fold 3: MSE = 168.8453, R2 = -235.6458\n",
      "Run Normal_lr_0.001_mini_mom_False_init_zero - Fold 4: MSE = 168.9606, R2 = -254.6867\n",
      "Run Normal_lr_0.001_mini_mom_False_init_zero - Average CV MSE: 168.8752, Average CV R2: -240.0398\n",
      "Completed run: Normal_lr_0.001_mini_mom_False_init_zero => CV R2: -240.0398\n",
      "🏃 View run Normal_lr_0.001_mini_mom_False_init_zero at: http://localhost:5001/#/experiments/952159732461498036/runs/13ff041671664ee4bfee33138026cc56\n",
      "🧪 View experiment at: http://localhost:5001/#/experiments/952159732461498036\n",
      "Run Normal_lr_0.001_mini_mom_False_init_xavier - Fold 0: MSE = 169.4963, R2 = -244.4838\n",
      "Run Normal_lr_0.001_mini_mom_False_init_xavier - Fold 1: MSE = 168.5233, R2 = -231.7659\n",
      "Run Normal_lr_0.001_mini_mom_False_init_xavier - Fold 2: MSE = 168.5413, R2 = -233.6071\n",
      "Run Normal_lr_0.001_mini_mom_False_init_xavier - Fold 3: MSE = 168.9066, R2 = -235.7317\n",
      "Run Normal_lr_0.001_mini_mom_False_init_xavier - Fold 4: MSE = 168.9512, R2 = -254.6725\n",
      "Run Normal_lr_0.001_mini_mom_False_init_xavier - Average CV MSE: 168.8838, Average CV R2: -240.0522\n",
      "Completed run: Normal_lr_0.001_mini_mom_False_init_xavier => CV R2: -240.0522\n",
      "🏃 View run Normal_lr_0.001_mini_mom_False_init_xavier at: http://localhost:5001/#/experiments/952159732461498036/runs/8fbd7045f3c744a9b606d19da7e8978e\n",
      "🧪 View experiment at: http://localhost:5001/#/experiments/952159732461498036\n",
      "Run Normal_lr_0.001_batch_mom_True_init_zero - Fold 0: MSE = 168.8199, R2 = -243.5041\n",
      "Run Normal_lr_0.001_batch_mom_True_init_zero - Fold 1: MSE = 168.7049, R2 = -232.0168\n",
      "Run Normal_lr_0.001_batch_mom_True_init_zero - Fold 2: MSE = 168.7171, R2 = -233.8518\n",
      "Run Normal_lr_0.001_batch_mom_True_init_zero - Fold 3: MSE = 168.8380, R2 = -235.6355\n",
      "Run Normal_lr_0.001_batch_mom_True_init_zero - Fold 4: MSE = 169.0564, R2 = -254.8317\n",
      "Run Normal_lr_0.001_batch_mom_True_init_zero - Average CV MSE: 168.8273, Average CV R2: -239.9680\n",
      "Completed run: Normal_lr_0.001_batch_mom_True_init_zero => CV R2: -239.9680\n",
      "🏃 View run Normal_lr_0.001_batch_mom_True_init_zero at: http://localhost:5001/#/experiments/952159732461498036/runs/70aac6f9408142018514f48bda787fce\n",
      "🧪 View experiment at: http://localhost:5001/#/experiments/952159732461498036\n",
      "Run Normal_lr_0.001_batch_mom_True_init_xavier - Fold 0: MSE = 169.3194, R2 = -244.2277\n",
      "Run Normal_lr_0.001_batch_mom_True_init_xavier - Fold 1: MSE = 168.7224, R2 = -232.0410\n",
      "Run Normal_lr_0.001_batch_mom_True_init_xavier - Fold 2: MSE = 169.0482, R2 = -234.3127\n",
      "Run Normal_lr_0.001_batch_mom_True_init_xavier - Fold 3: MSE = 169.0780, R2 = -235.9719\n",
      "Run Normal_lr_0.001_batch_mom_True_init_xavier - Fold 4: MSE = 169.1985, R2 = -255.0467\n",
      "Run Normal_lr_0.001_batch_mom_True_init_xavier - Average CV MSE: 169.0733, Average CV R2: -240.3200\n",
      "Completed run: Normal_lr_0.001_batch_mom_True_init_xavier => CV R2: -240.3200\n",
      "🏃 View run Normal_lr_0.001_batch_mom_True_init_xavier at: http://localhost:5001/#/experiments/952159732461498036/runs/f33b9df5221c42aaa38fce4c4ed8e38b\n",
      "🧪 View experiment at: http://localhost:5001/#/experiments/952159732461498036\n",
      "Run Normal_lr_0.001_batch_mom_False_init_zero - Fold 0: MSE = 168.8203, R2 = -243.5047\n",
      "Run Normal_lr_0.001_batch_mom_False_init_zero - Fold 1: MSE = 169.2378, R2 = -232.7529\n",
      "Run Normal_lr_0.001_batch_mom_False_init_zero - Fold 2: MSE = 169.2042, R2 = -234.5298\n",
      "Run Normal_lr_0.001_batch_mom_False_init_zero - Fold 3: MSE = 169.1352, R2 = -236.0520\n",
      "Run Normal_lr_0.001_batch_mom_False_init_zero - Fold 4: MSE = 169.5580, R2 = -255.5908\n",
      "Run Normal_lr_0.001_batch_mom_False_init_zero - Average CV MSE: 169.1911, Average CV R2: -240.4860\n",
      "Completed run: Normal_lr_0.001_batch_mom_False_init_zero => CV R2: -240.4860\n",
      "🏃 View run Normal_lr_0.001_batch_mom_False_init_zero at: http://localhost:5001/#/experiments/952159732461498036/runs/bb9df7d24a2241ffac5979d79249bf05\n",
      "🧪 View experiment at: http://localhost:5001/#/experiments/952159732461498036\n",
      "Run Normal_lr_0.001_batch_mom_False_init_xavier - Fold 0: MSE = 169.1232, R2 = -243.9435\n",
      "Run Normal_lr_0.001_batch_mom_False_init_xavier - Fold 1: MSE = 168.9487, R2 = -232.3535\n",
      "Run Normal_lr_0.001_batch_mom_False_init_xavier - Fold 2: MSE = 169.3876, R2 = -234.7851\n",
      "Run Normal_lr_0.001_batch_mom_False_init_xavier - Fold 3: MSE = 168.8539, R2 = -235.6578\n",
      "Run Normal_lr_0.001_batch_mom_False_init_xavier - Fold 4: MSE = 169.0283, R2 = -254.7892\n",
      "Run Normal_lr_0.001_batch_mom_False_init_xavier - Average CV MSE: 169.0683, Average CV R2: -240.3058\n",
      "Completed run: Normal_lr_0.001_batch_mom_False_init_xavier => CV R2: -240.3058\n",
      "🏃 View run Normal_lr_0.001_batch_mom_False_init_xavier at: http://localhost:5001/#/experiments/952159732461498036/runs/525e3895c32b47b88b9d5fdb01729a2e\n",
      "🧪 View experiment at: http://localhost:5001/#/experiments/952159732461498036\n",
      "Run Normal_lr_0.0001_sto_mom_True_init_zero - Fold 0: MSE = 169.8517, R2 = -244.9986\n",
      "Run Normal_lr_0.0001_sto_mom_True_init_zero - Fold 1: MSE = 168.8736, R2 = -232.2498\n",
      "Run Normal_lr_0.0001_sto_mom_True_init_zero - Fold 2: MSE = 169.1189, R2 = -234.4110\n",
      "Run Normal_lr_0.0001_sto_mom_True_init_zero - Fold 3: MSE = 169.3728, R2 = -236.3851\n",
      "Run Normal_lr_0.0001_sto_mom_True_init_zero - Fold 4: MSE = 169.7672, R2 = -255.9074\n",
      "Run Normal_lr_0.0001_sto_mom_True_init_zero - Average CV MSE: 169.3969, Average CV R2: -240.7904\n",
      "Completed run: Normal_lr_0.0001_sto_mom_True_init_zero => CV R2: -240.7904\n",
      "🏃 View run Normal_lr_0.0001_sto_mom_True_init_zero at: http://localhost:5001/#/experiments/952159732461498036/runs/56c789e327ca434e932d0086eb7ca535\n",
      "🧪 View experiment at: http://localhost:5001/#/experiments/952159732461498036\n",
      "Run Normal_lr_0.0001_sto_mom_True_init_xavier - Fold 0: MSE = 170.0317, R2 = -245.2593\n",
      "Run Normal_lr_0.0001_sto_mom_True_init_xavier - Fold 1: MSE = 168.6865, R2 = -231.9913\n",
      "Run Normal_lr_0.0001_sto_mom_True_init_xavier - Fold 2: MSE = 169.0395, R2 = -234.3005\n",
      "Run Normal_lr_0.0001_sto_mom_True_init_xavier - Fold 3: MSE = 169.4771, R2 = -236.5313\n",
      "Run Normal_lr_0.0001_sto_mom_True_init_xavier - Fold 4: MSE = 169.6867, R2 = -255.7855\n",
      "Run Normal_lr_0.0001_sto_mom_True_init_xavier - Average CV MSE: 169.3843, Average CV R2: -240.7736\n",
      "Completed run: Normal_lr_0.0001_sto_mom_True_init_xavier => CV R2: -240.7736\n",
      "🏃 View run Normal_lr_0.0001_sto_mom_True_init_xavier at: http://localhost:5001/#/experiments/952159732461498036/runs/f2feaf9ca03b4e82ad259badd8fe6fac\n",
      "🧪 View experiment at: http://localhost:5001/#/experiments/952159732461498036\n",
      "Run Normal_lr_0.0001_sto_mom_False_init_zero - Fold 0: MSE = 169.4542, R2 = -244.4228\n",
      "Run Normal_lr_0.0001_sto_mom_False_init_zero - Fold 1: MSE = 168.5099, R2 = -231.7474\n",
      "Run Normal_lr_0.0001_sto_mom_False_init_zero - Fold 2: MSE = 168.8158, R2 = -233.9891\n",
      "Run Normal_lr_0.0001_sto_mom_False_init_zero - Fold 3: MSE = 168.9896, R2 = -235.8480\n",
      "Run Normal_lr_0.0001_sto_mom_False_init_zero - Fold 4: MSE = 168.9896, R2 = -254.7306\n",
      "Run Normal_lr_0.0001_sto_mom_False_init_zero - Average CV MSE: 168.9518, Average CV R2: -240.1476\n",
      "Completed run: Normal_lr_0.0001_sto_mom_False_init_zero => CV R2: -240.1476\n",
      "🏃 View run Normal_lr_0.0001_sto_mom_False_init_zero at: http://localhost:5001/#/experiments/952159732461498036/runs/e277894425654a7cb8810f4a2b02682b\n",
      "🧪 View experiment at: http://localhost:5001/#/experiments/952159732461498036\n",
      "Run Normal_lr_0.0001_sto_mom_False_init_xavier - Fold 0: MSE = 169.4395, R2 = -244.4015\n",
      "Run Normal_lr_0.0001_sto_mom_False_init_xavier - Fold 1: MSE = 168.4618, R2 = -231.6810\n",
      "Run Normal_lr_0.0001_sto_mom_False_init_xavier - Fold 2: MSE = 168.8479, R2 = -234.0337\n",
      "Run Normal_lr_0.0001_sto_mom_False_init_xavier - Fold 3: MSE = 168.9788, R2 = -235.8329\n",
      "Run Normal_lr_0.0001_sto_mom_False_init_xavier - Fold 4: MSE = 169.0963, R2 = -254.8922\n",
      "Run Normal_lr_0.0001_sto_mom_False_init_xavier - Average CV MSE: 168.9649, Average CV R2: -240.1683\n",
      "Completed run: Normal_lr_0.0001_sto_mom_False_init_xavier => CV R2: -240.1683\n",
      "🏃 View run Normal_lr_0.0001_sto_mom_False_init_xavier at: http://localhost:5001/#/experiments/952159732461498036/runs/74e5651200304628b74f78ada2fd8a86\n",
      "🧪 View experiment at: http://localhost:5001/#/experiments/952159732461498036\n",
      "Run Normal_lr_0.0001_mini_mom_True_init_zero - Fold 0: MSE = 169.4405, R2 = -244.4031\n",
      "Run Normal_lr_0.0001_mini_mom_True_init_zero - Fold 1: MSE = 168.5129, R2 = -231.7516\n",
      "Run Normal_lr_0.0001_mini_mom_True_init_zero - Fold 2: MSE = 168.6322, R2 = -233.7336\n",
      "Run Normal_lr_0.0001_mini_mom_True_init_zero - Fold 3: MSE = 168.8759, R2 = -235.6887\n",
      "Run Normal_lr_0.0001_mini_mom_True_init_zero - Fold 4: MSE = 168.9661, R2 = -254.6951\n",
      "Run Normal_lr_0.0001_mini_mom_True_init_zero - Average CV MSE: 168.8855, Average CV R2: -240.0544\n",
      "Completed run: Normal_lr_0.0001_mini_mom_True_init_zero => CV R2: -240.0544\n",
      "🏃 View run Normal_lr_0.0001_mini_mom_True_init_zero at: http://localhost:5001/#/experiments/952159732461498036/runs/5a7f04c8e9b9468f9229f36a27d69d38\n",
      "🧪 View experiment at: http://localhost:5001/#/experiments/952159732461498036\n",
      "Run Normal_lr_0.0001_mini_mom_True_init_xavier - Fold 0: MSE = 169.4984, R2 = -244.4868\n",
      "Run Normal_lr_0.0001_mini_mom_True_init_xavier - Fold 1: MSE = 168.5190, R2 = -231.7600\n",
      "Run Normal_lr_0.0001_mini_mom_True_init_xavier - Fold 2: MSE = 168.6868, R2 = -233.8095\n",
      "Run Normal_lr_0.0001_mini_mom_True_init_xavier - Fold 3: MSE = 168.6971, R2 = -235.4380\n",
      "Run Normal_lr_0.0001_mini_mom_True_init_xavier - Fold 4: MSE = 169.0070, R2 = -254.7570\n",
      "Run Normal_lr_0.0001_mini_mom_True_init_xavier - Average CV MSE: 168.8817, Average CV R2: -240.0503\n",
      "Completed run: Normal_lr_0.0001_mini_mom_True_init_xavier => CV R2: -240.0503\n",
      "🏃 View run Normal_lr_0.0001_mini_mom_True_init_xavier at: http://localhost:5001/#/experiments/952159732461498036/runs/720fd01c032946f7bd80cd457006c073\n",
      "🧪 View experiment at: http://localhost:5001/#/experiments/952159732461498036\n",
      "Run Normal_lr_0.0001_mini_mom_False_init_zero - Fold 0: MSE = 168.8090, R2 = -243.4885\n",
      "Run Normal_lr_0.0001_mini_mom_False_init_zero - Fold 1: MSE = 168.7251, R2 = -232.0447\n",
      "Run Normal_lr_0.0001_mini_mom_False_init_zero - Fold 2: MSE = 168.7409, R2 = -233.8849\n",
      "Run Normal_lr_0.0001_mini_mom_False_init_zero - Fold 3: MSE = 168.8535, R2 = -235.6573\n",
      "Run Normal_lr_0.0001_mini_mom_False_init_zero - Fold 4: MSE = 169.0834, R2 = -254.8726\n",
      "Run Normal_lr_0.0001_mini_mom_False_init_zero - Average CV MSE: 168.8424, Average CV R2: -239.9896\n",
      "Completed run: Normal_lr_0.0001_mini_mom_False_init_zero => CV R2: -239.9896\n",
      "🏃 View run Normal_lr_0.0001_mini_mom_False_init_zero at: http://localhost:5001/#/experiments/952159732461498036/runs/1c9c5bdae37b4da790cbc48c71268468\n",
      "🧪 View experiment at: http://localhost:5001/#/experiments/952159732461498036\n",
      "Run Normal_lr_0.0001_mini_mom_False_init_xavier - Fold 0: MSE = 168.6432, R2 = -243.2483\n",
      "Run Normal_lr_0.0001_mini_mom_False_init_xavier - Fold 1: MSE = 169.2135, R2 = -232.7193\n",
      "Run Normal_lr_0.0001_mini_mom_False_init_xavier - Fold 2: MSE = 169.0025, R2 = -234.2489\n",
      "Run Normal_lr_0.0001_mini_mom_False_init_xavier - Fold 3: MSE = 168.6254, R2 = -235.3376\n",
      "Run Normal_lr_0.0001_mini_mom_False_init_xavier - Fold 4: MSE = 169.3313, R2 = -255.2477\n",
      "Run Normal_lr_0.0001_mini_mom_False_init_xavier - Average CV MSE: 168.9632, Average CV R2: -240.1604\n",
      "Completed run: Normal_lr_0.0001_mini_mom_False_init_xavier => CV R2: -240.1604\n",
      "🏃 View run Normal_lr_0.0001_mini_mom_False_init_xavier at: http://localhost:5001/#/experiments/952159732461498036/runs/02623e6be603424e82ee87341b935fec\n",
      "🧪 View experiment at: http://localhost:5001/#/experiments/952159732461498036\n",
      "Run Normal_lr_0.0001_batch_mom_True_init_zero - Fold 0: MSE = 168.8210, R2 = -243.5058\n",
      "Run Normal_lr_0.0001_batch_mom_True_init_zero - Fold 1: MSE = 169.3702, R2 = -232.9357\n",
      "Run Normal_lr_0.0001_batch_mom_True_init_zero - Fold 2: MSE = 169.3304, R2 = -234.7054\n",
      "Run Normal_lr_0.0001_batch_mom_True_init_zero - Fold 3: MSE = 169.2338, R2 = -236.1902\n",
      "Run Normal_lr_0.0001_batch_mom_True_init_zero - Fold 4: MSE = 169.6854, R2 = -255.7835\n",
      "Run Normal_lr_0.0001_batch_mom_True_init_zero - Average CV MSE: 169.2881, Average CV R2: -240.6241\n",
      "Completed run: Normal_lr_0.0001_batch_mom_True_init_zero => CV R2: -240.6241\n",
      "🏃 View run Normal_lr_0.0001_batch_mom_True_init_zero at: http://localhost:5001/#/experiments/952159732461498036/runs/dd5c13b715b34015b7fa1e28313be4ca\n",
      "🧪 View experiment at: http://localhost:5001/#/experiments/952159732461498036\n",
      "Run Normal_lr_0.0001_batch_mom_True_init_xavier - Fold 0: MSE = 168.8839, R2 = -243.5969\n",
      "Run Normal_lr_0.0001_batch_mom_True_init_xavier - Fold 1: MSE = 168.8587, R2 = -232.2293\n",
      "Run Normal_lr_0.0001_batch_mom_True_init_xavier - Fold 2: MSE = 169.4871, R2 = -234.9236\n",
      "Run Normal_lr_0.0001_batch_mom_True_init_xavier - Fold 3: MSE = 169.3673, R2 = -236.3773\n",
      "Run Normal_lr_0.0001_batch_mom_True_init_xavier - Fold 4: MSE = 170.5625, R2 = -257.1109\n",
      "Run Normal_lr_0.0001_batch_mom_True_init_xavier - Average CV MSE: 169.4319, Average CV R2: -240.8476\n",
      "Completed run: Normal_lr_0.0001_batch_mom_True_init_xavier => CV R2: -240.8476\n",
      "🏃 View run Normal_lr_0.0001_batch_mom_True_init_xavier at: http://localhost:5001/#/experiments/952159732461498036/runs/a7b4ced4358c4b63b841885186d0d5b3\n",
      "🧪 View experiment at: http://localhost:5001/#/experiments/952159732461498036\n",
      "Run Normal_lr_0.0001_batch_mom_False_init_zero - Fold 0: MSE = 168.8211, R2 = -243.5059\n",
      "Run Normal_lr_0.0001_batch_mom_False_init_zero - Fold 1: MSE = 169.3704, R2 = -232.9360\n",
      "Run Normal_lr_0.0001_batch_mom_False_init_zero - Fold 2: MSE = 169.3306, R2 = -234.7057\n",
      "Run Normal_lr_0.0001_batch_mom_False_init_zero - Fold 3: MSE = 169.2340, R2 = -236.1905\n",
      "Run Normal_lr_0.0001_batch_mom_False_init_zero - Fold 4: MSE = 169.6856, R2 = -255.7839\n",
      "Run Normal_lr_0.0001_batch_mom_False_init_zero - Average CV MSE: 169.2883, Average CV R2: -240.6244\n",
      "Completed run: Normal_lr_0.0001_batch_mom_False_init_zero => CV R2: -240.6244\n",
      "🏃 View run Normal_lr_0.0001_batch_mom_False_init_zero at: http://localhost:5001/#/experiments/952159732461498036/runs/da1d6c9a3cfc4d17a62eac1b45eba65b\n",
      "🧪 View experiment at: http://localhost:5001/#/experiments/952159732461498036\n",
      "Run Normal_lr_0.0001_batch_mom_False_init_xavier - Fold 0: MSE = 169.4128, R2 = -244.3629\n",
      "Run Normal_lr_0.0001_batch_mom_False_init_xavier - Fold 1: MSE = 170.3898, R2 = -234.3440\n",
      "Run Normal_lr_0.0001_batch_mom_False_init_xavier - Fold 2: MSE = 170.4687, R2 = -236.2900\n",
      "Run Normal_lr_0.0001_batch_mom_False_init_xavier - Fold 3: MSE = 168.5905, R2 = -235.2886\n",
      "Run Normal_lr_0.0001_batch_mom_False_init_xavier - Fold 4: MSE = 169.6184, R2 = -255.6821\n",
      "Run Normal_lr_0.0001_batch_mom_False_init_xavier - Average CV MSE: 169.6960, Average CV R2: -241.1935\n",
      "Completed run: Normal_lr_0.0001_batch_mom_False_init_xavier => CV R2: -241.1935\n",
      "🏃 View run Normal_lr_0.0001_batch_mom_False_init_xavier at: http://localhost:5001/#/experiments/952159732461498036/runs/2a5ecfab1edd44f78dec04740a99f7f3\n",
      "🧪 View experiment at: http://localhost:5001/#/experiments/952159732461498036\n",
      "Final Results:\n",
      "    Regularization  Learning_Rate GD_Method  Use_Momentum Initialization  \\\n",
      "0       Polynomial          0.010      mini         False           zero   \n",
      "1       Polynomial          0.001       sto         False           zero   \n",
      "2       Polynomial          0.001      mini          True         xavier   \n",
      "3       Polynomial          0.010      mini         False         xavier   \n",
      "4       Polynomial          0.001      mini          True           zero   \n",
      "..             ...            ...       ...           ...            ...   \n",
      "139     Polynomial          0.001       sto          True         xavier   \n",
      "140     Polynomial          0.001       sto          True           zero   \n",
      "141     Polynomial          0.010       sto         False         xavier   \n",
      "142     Polynomial          0.010       sto         False           zero   \n",
      "143     Polynomial          0.010       sto          True           zero   \n",
      "\n",
      "     Degree    CV_MSE     CV_R2  \n",
      "0       2.0  0.086570  0.876535  \n",
      "1       2.0  0.086745  0.876331  \n",
      "2       2.0  0.086734  0.876331  \n",
      "3       2.0  0.087108  0.875788  \n",
      "4       2.0  0.087650  0.875035  \n",
      "..      ...       ...       ...  \n",
      "139     2.0       inf      -inf  \n",
      "140     2.0       inf      -inf  \n",
      "141     2.0       inf      -inf  \n",
      "142     2.0       inf      -inf  \n",
      "143     2.0       inf      -inf  \n",
      "\n",
      "[144 rows x 8 columns]\n"
     ]
    }
   ],
   "source": [
    "import numpy as np\n",
    "import pandas as pd\n",
    "import mlflow\n",
    "from sklearn.model_selection import KFold\n",
    "from sklearn.preprocessing import PolynomialFeatures\n",
    "\n",
    "# --- Hyperparameter Grid ---\n",
    "regularization_options = {\n",
    "    \"Polynomial\": {\"degree\": 2},  # special handling below\n",
    "    \"Lasso\": LassoPenalty(0.1),\n",
    "    \"Ridge\": RidgePenalty(0.1),\n",
    "    \"Normal\": None  # No regularization\n",
    "}\n",
    "momentum_options = [True, False]\n",
    "gd_methods = ['sto', 'mini', 'batch']\n",
    "init_methods = ['zero', 'xavier']\n",
    "learning_rates = [0.01, 0.001, 0.0001]\n",
    "\n",
    "# --- Setup MLflow ---\n",
    "mlflow.set_tracking_uri(\"http://localhost:5001\")\n",
    "mlflow.set_experiment(\"Car Price Prediction Experiment\")\n",
    "\n",
    "\n",
    "kf = KFold(n_splits=5, shuffle=True, random_state=42)\n",
    "\n",
    "# --- Initialize Tracking Variables ---\n",
    "results = []\n",
    "best_model = None\n",
    "best_cv_r2 = -np.inf\n",
    "best_config = None\n",
    "best_poly = None \n",
    "\n",
    "# --- Grid Search ---\n",
    "for reg_name, reg_val in regularization_options.items():\n",
    "    for lr in learning_rates:\n",
    "        for method in gd_methods:\n",
    "            for use_mom in momentum_options:\n",
    "                for init_method in init_methods:\n",
    "                    run_name = f\"{reg_name}_lr_{lr}_{method}_mom_{use_mom}_init_{init_method}\"\n",
    "                    with mlflow.start_run(run_name=run_name):\n",
    "                        # If using Polynomial features, transform the training data.\n",
    "                        if reg_name == \"Polynomial\":\n",
    "                            degree = regularization_options[reg_name][\"degree\"]\n",
    "                            poly = PolynomialFeatures(degree=degree)\n",
    "                            X_train_trans = poly.fit_transform(X_train_scaled)\n",
    "                            mlflow.log_param(\"Degree\", degree)\n",
    "                        else:\n",
    "                            X_train_trans = X_train_scaled\n",
    "                        \n",
    "                        # Log hyperparameters.\n",
    "                        mlflow.log_param(\"Regularization\", reg_name)\n",
    "                        mlflow.log_param(\"Learning_Rate\", lr)\n",
    "                        mlflow.log_param(\"GD_Method\", method)\n",
    "                        mlflow.log_param(\"Use_Momentum\", use_mom)\n",
    "                        mlflow.log_param(\"Initialization\", init_method)\n",
    "                        \n",
    "                        # For Polynomial, we don't apply an explicit regularization penalty.\n",
    "                        reg_obj = reg_val if reg_name != \"Polynomial\" else None\n",
    "                        \n",
    "                        # Instantiate your LinearRegression model with the current hyperparameters.\n",
    "                        model = LinearRegression(\n",
    "                            regularization=reg_obj,\n",
    "                            lr=lr,\n",
    "                            method=method,\n",
    "                            num_epochs=50,\n",
    "                            batch_size=50,\n",
    "                            cv=kf,\n",
    "                            init_method=init_method,\n",
    "                            use_momentum=use_mom,\n",
    "                            momentum=0.9\n",
    "                        )\n",
    "                        \n",
    "                        # Fit the model on the (possibly transformed) training data.\n",
    "                        model.fit(X_train_trans, y_train)\n",
    "                        \n",
    "                        # Loop over each fold and log its metrics.\n",
    "                        for fold_index, fold_score in enumerate(model.kfold_scores):\n",
    "                            print(f\"Run {run_name} - Fold {fold_index}: MSE = {fold_score['mse']:.4f}, R2 = {fold_score['r2']:.4f}\")\n",
    "                            mlflow.log_metric(f\"Fold_{fold_index}_MSE\", fold_score['mse'])\n",
    "                            mlflow.log_metric(f\"Fold_{fold_index}_R2\", fold_score['r2'])\n",
    "                        \n",
    "                        # Compute average CV metrics.\n",
    "                        avg_mse = np.mean([fold[\"mse\"] for fold in model.kfold_scores])\n",
    "                        avg_r2  = np.mean([fold[\"r2\"] for fold in model.kfold_scores])\n",
    "                        mlflow.log_metric(\"CV_MSE\", avg_mse)\n",
    "                        mlflow.log_metric(\"CV_R2\", avg_r2)\n",
    "                        \n",
    "                        # Print final average CV metrics.\n",
    "                        print(f\"Run {run_name} - Average CV MSE: {avg_mse:.4f}, Average CV R2: {avg_r2:.4f}\")\n",
    "                        \n",
    "                        # Save current configuration results.\n",
    "                        results.append({\n",
    "                            \"Regularization\": reg_name,\n",
    "                            \"Learning_Rate\": lr,\n",
    "                            \"GD_Method\": method,\n",
    "                            \"Use_Momentum\": use_mom,\n",
    "                            \"Initialization\": init_method,\n",
    "                            \"Degree\": degree if reg_name == \"Polynomial\" else None,\n",
    "                            \"CV_MSE\": avg_mse,\n",
    "                            \"CV_R2\": avg_r2\n",
    "                        })\n",
    "                        \n",
    "                        # Track best model (by highest average CV R2).\n",
    "                        if avg_r2 > best_cv_r2:\n",
    "                            best_cv_r2 = avg_r2\n",
    "                            best_model = model\n",
    "                            best_config = results[-1]\n",
    "                            if reg_name == \"Polynomial\":\n",
    "                                best_poly = poly\n",
    "                        print(f\"Completed run: {run_name} => CV R2: {avg_r2:.4f}\")\n",
    "\n",
    "# --- Final Results ---\n",
    "results_df = pd.DataFrame(results)\n",
    "results_df = results_df.sort_values(by=\"CV_R2\", ascending=False).reset_index(drop=True)\n",
    "print(\"Final Results:\")\n",
    "print(results_df)\n"
   ]
  },
  {
   "cell_type": "code",
   "execution_count": 90,
   "metadata": {},
   "outputs": [
    {
     "name": "stdout",
     "output_type": "stream",
     "text": [
      "Best CV MSE: 0.08656958932807753\n",
      "Best CV R2: 0.8765351975465576\n"
     ]
    }
   ],
   "source": [
    "# Assuming best_config is a dictionary holding the best run's parameters and metrics\n",
    "best_cv_mse = best_config[\"CV_MSE\"]\n",
    "best_cv_r2  = best_config[\"CV_R2\"]\n",
    "\n",
    "print(\"Best CV MSE:\", best_cv_mse)\n",
    "print(\"Best CV R2:\", best_cv_r2)\n"
   ]
  },
  {
   "cell_type": "code",
   "execution_count": 91,
   "metadata": {},
   "outputs": [
    {
     "data": {
      "image/png": "[encoded data removed]",
      "text/plain": [
       "<Figure size 1000x500 with 1 Axes>"
      ]
     },
     "metadata": {},
     "output_type": "display_data"
    }
   ],
   "source": [
    "# If best_poly exists, use it to get the feature names corresponding to the polynomial features.\n",
    "if best_poly is not None:\n",
    "    # For scikit-learn v1.0+ use get_feature_names_out; if using an older version, use get_feature_names.\n",
    "    poly_feature_names = best_poly.get_feature_names_out(selected_features)\n",
    "    best_model.plot_feature_importance(poly_feature_names)\n",
    "else:\n",
    "    best_model.plot_feature_importance(selected_features)\n",
    "\n"
   ]
  },
  {
   "cell_type": "markdown",
   "metadata": {},
   "source": [
    "## Best MSE & R2 score"
   ]
  },
  {
   "cell_type": "code",
   "execution_count": 92,
   "metadata": {},
   "outputs": [
    {
     "name": "stdout",
     "output_type": "stream",
     "text": [
      "\n",
      "Best Model Configuration: {'Regularization': 'Polynomial', 'Learning_Rate': 0.01, 'GD_Method': 'mini', 'Use_Momentum': False, 'Initialization': 'zero', 'Degree': 2, 'CV_MSE': np.float64(0.08656958932807753), 'CV_R2': np.float64(0.8765351975465576)}\n",
      "Test MSE: 0.08720148256930516\n",
      "Test R2: 0.8760615209243247\n",
      "🏃 View run Best Model Test Evaluation at: http://localhost:5001/#/experiments/952159732461498036/runs/f7be743401864c4e873022117f85dd49\n",
      "🧪 View experiment at: http://localhost:5001/#/experiments/952159732461498036\n"
     ]
    }
   ],
   "source": [
    "# -------------------------------\n",
    "# 5. Evaluate on Test Set with Best Model\n",
    "# -------------------------------\n",
    "# Use polynomial transformer if applicable (apply it on the scaled test data)\n",
    "if best_config[\"Regularization\"] == \"Polynomial\" and best_poly is not None:\n",
    "    X_test_best = best_poly.transform(X_test_scaled)\n",
    "else:\n",
    "    X_test_best = X_test_scaled\n",
    "\n",
    "y_test_pred = best_model.predict(X_test_best)\n",
    "test_mse = best_model.mse(y_test, y_test_pred)\n",
    "test_r2 = best_model.r2_score(y_test, y_test_pred)\n",
    "\n",
    "print(f\"\\nBest Model Configuration: {best_config}\")\n",
    "print(f\"Test MSE: {test_mse}\")\n",
    "print(f\"Test R2: {test_r2}\")\n",
    "\n",
    "# Log test performance in a final MLflow run\n",
    "with mlflow.start_run(run_name=\"Best Model Test Evaluation\"):\n",
    "    mlflow.log_params(best_config)\n",
    "    mlflow.log_metric(\"Test_MSE\", test_mse)\n",
    "    mlflow.log_metric(\"Test_R2\", test_r2)\n"
   ]
  },
  {
   "cell_type": "markdown",
   "metadata": {},
   "source": [
    "### Save model and polynomial features"
   ]
  },
  {
   "cell_type": "code",
   "execution_count": 93,
   "metadata": {},
   "outputs": [
    {
     "name": "stdout",
     "output_type": "stream",
     "text": [
      "Best model saved as 'best_model.pkl'.\n",
      "Best polynomial transformer saved as 'best_poly.pkl'.\n"
     ]
    }
   ],
   "source": [
    "import pickle\n",
    "\n",
    "# Save the best model to disk.\n",
    "with open(\"best_model.pkl\", \"wb\") as file:\n",
    "    pickle.dump(best_model, file)\n",
    "print(\"Best model saved as 'best_model.pkl'.\")\n",
    "\n",
    "# Save the best polynomial transformer if it exists.\n",
    "if best_poly is not None:\n",
    "    with open(\"best_poly.pkl\", \"wb\") as file:\n",
    "        pickle.dump(best_poly, file)\n",
    "    print(\"Best polynomial transformer saved as 'best_poly.pkl'.\")\n"
   ]
  },
  {
   "cell_type": "markdown",
   "metadata": {},
   "source": [
    "# Inference"
   ]
  },
  {
   "cell_type": "markdown",
   "metadata": {},
   "source": [
    "### Loading the model and features"
   ]
  },
  {
   "cell_type": "code",
   "execution_count": 94,
   "metadata": {},
   "outputs": [],
   "source": [
    "import numpy as np\n",
    "import pickle\n",
    "\n",
    "# Load the scaler\n",
    "with open('scaler.pkl', 'rb') as file:\n",
    "    scaler = pickle.load(file)\n",
    "\n",
    "# Load the best model\n",
    "with open('best_model.pkl', 'rb') as file:\n",
    "    best_model = pickle.load(file)\n",
    "\n",
    "# Load the best polynomial transformer if it was used.\n",
    "try:\n",
    "    with open('best_poly.pkl', 'rb') as file:\n",
    "        best_poly = pickle.load(file)\n",
    "except FileNotFoundError:\n",
    "    best_poly = None"
   ]
  },
  {
   "cell_type": "markdown",
   "metadata": {},
   "source": [
    "### Testing the predictions"
   ]
  },
  {
   "cell_type": "code",
   "execution_count": 95,
   "metadata": {},
   "outputs": [
    {
     "name": "stdout",
     "output_type": "stream",
     "text": [
      "Predicted Selling Price for the sample input: [380478.11017974]\n"
     ]
    }
   ],
   "source": [
    "# Define the sample input using the selected features.\n",
    "# Order: ['year', 'max_power', 'engine', 'owner', 'fuel', 'transmission']\n",
    "sample_input = np.array([[2015, 80, 1000, 2, 1, 1]])\n",
    "\n",
    "# Preprocess the sample input: apply scaling first.\n",
    "sample_input_scaled = scaler.transform(sample_input)\n",
    "\n",
    "# If the best model uses polynomial features, transform the input.\n",
    "if best_poly is not None:\n",
    "    sample_input_trans = best_poly.transform(sample_input_scaled)\n",
    "else:\n",
    "    sample_input_trans = sample_input_scaled\n",
    "\n",
    "# Run inference.\n",
    "predicted_price = best_model.predict(sample_input_trans)\n",
    "true_price=np.exp(predicted_price)\n",
    "print(\"Predicted Selling Price for the sample input:\", true_price)\n"
   ]
  },
  {
   "cell_type": "code",
   "execution_count": 96,
   "metadata": {},
   "outputs": [
    {
     "name": "stdout",
     "output_type": "stream",
     "text": [
      "Predicted Selling Price for the sample input: [684849.0631596]\n"
     ]
    }
   ],
   "source": [
    "sample_input_2 = np.array([[2018, 100, 1600, 1, 1, 1]])\n",
    "\n",
    "sample_input_scaled_2 = scaler.transform(sample_input_2)\n",
    "sample_input_transformed_2 = best_poly.transform(sample_input_scaled_2)\n",
    "\n",
    "predicted_price_2 = best_model.predict(sample_input_transformed_2)\n",
    "true_price_2 = np.exp(predicted_price_2)\n",
    "print(\"Predicted Selling Price for the sample input:\", true_price_2)\n"
   ]
  },
  {
   "cell_type": "markdown",
   "metadata": {},
   "source": [
    "# Report"
   ]
  },
  {
   "cell_type": "markdown",
   "metadata": {},
   "source": [
    "The experiment has been conducted in custom Linear Regression algorithm with the following methods:\n",
    "\n",
    "\n",
    "- **Regularization Options:** Polynomial, Lasso, Ridge, and Normal (no regularization)\n",
    "- **Momentum:** With and without momentum\n",
    "- **Gradient Descent Methods:** Stochastic, mini-batch, and full-batch\n",
    "- **Weight Initialization:** Zero and Xavier initialization\n",
    "- **Learning Rates:** 0.01, 0.001, and 0.0001\n",
    "\n",
    "MLflow was used to track all experiments, log hyperparameters and metrics, and compare model performance using cross-validation (CV) metrics (MSE and R²). \n",
    "\n",
    "\n",
    "From the results, it can be concluded that the best model is with the following parameters:\n",
    "\n",
    "- **Regularization**: Polynomial\n",
    "- **Leaarning Rate**: 0.01\n",
    "- **Gradient Descent Method**: mini-batch\n",
    "- **Use Momentum**: False\n",
    "- **Initialization**: zero\n",
    "- **Degree**: 2\n",
    "- **Mean Squared Error**: 0.08656958932807753\n",
    "- **R² Score**: 0.8765351975465576 or 87.65%\n",
    "\n",
    "\n",
    "### ML Flow Experiment Tracking\n",
    "\n",
    "\n",
    "\n",
    "![Experiment Overview](./images/MLFlow.png)\n",
    "\n",
    "![Experiment Overview](./images/BestRun.png)\n",
    "\n",
    "\n",
    "\n"
   ]
  }
 ],
 "metadata": {
  "kernelspec": {
   "display_name": "ML",
   "language": "python",
   "name": "python3"
  },
  "language_info": {
   "codemirror_mode": {
    "name": "ipython",
    "version": 3
   },
   "file_extension": ".py",
   "mimetype": "text/x-python",
   "name": "python",
   "nbconvert_exporter": "python",
   "pygments_lexer": "ipython3",
   "version": "3.11.11"
  }
 },
 "nbformat": 4,
 "nbformat_minor": 2
}
